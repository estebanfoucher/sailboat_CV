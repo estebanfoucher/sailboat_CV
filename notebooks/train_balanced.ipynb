{
  "cells": [
    {
      "cell_type": "markdown",
      "metadata": {
        "id": "FyRdDYkqAKN4"
      },
      "source": [
        "## Before you start\n",
        "\n",
        "Let's make sure that we have access to GPU. We can use `nvidia-smi` command to do that. In case of any problems navigate to `Edit` -> `Notebook settings` -> `Hardware accelerator`, set it to `GPU`, and then click `Save`."
      ]
    },
    {
      "cell_type": "code",
      "execution_count": 1,
      "metadata": {
        "colab": {
          "base_uri": "https://localhost:8080/"
        },
        "id": "Y8cDtxLIBHgQ",
        "outputId": "995d871a-17bf-4e5d-fe0d-b96c02ca4421"
      },
      "outputs": [
        {
          "name": "stdout",
          "output_type": "stream",
          "text": [
            "Wed Jul  2 09:30:50 2025       \n",
            "+-----------------------------------------------------------------------------------------+\n",
            "| NVIDIA-SMI 550.54.15              Driver Version: 550.54.15      CUDA Version: 12.4     |\n",
            "|-----------------------------------------+------------------------+----------------------+\n",
            "| GPU  Name                 Persistence-M | Bus-Id          Disp.A | Volatile Uncorr. ECC |\n",
            "| Fan  Temp   Perf          Pwr:Usage/Cap |           Memory-Usage | GPU-Util  Compute M. |\n",
            "|                                         |                        |               MIG M. |\n",
            "|=========================================+========================+======================|\n",
            "|   0  Tesla T4                       Off |   00000000:00:04.0 Off |                    0 |\n",
            "| N/A   49C    P8             10W /   70W |       0MiB /  15360MiB |      0%      Default |\n",
            "|                                         |                        |                  N/A |\n",
            "+-----------------------------------------+------------------------+----------------------+\n",
            "                                                                                         \n",
            "+-----------------------------------------------------------------------------------------+\n",
            "| Processes:                                                                              |\n",
            "|  GPU   GI   CI        PID   Type   Process name                              GPU Memory |\n",
            "|        ID   ID                                                               Usage      |\n",
            "|=========================================================================================|\n",
            "|  No running processes found                                                             |\n",
            "+-----------------------------------------------------------------------------------------+\n"
          ]
        }
      ],
      "source": [
        "!nvidia-smi"
      ]
    },
    {
      "cell_type": "code",
      "execution_count": 2,
      "metadata": {
        "colab": {
          "base_uri": "https://localhost:8080/"
        },
        "id": "CjpPg4mGKc1v",
        "outputId": "cf9e4ca3-e349-40f5-fd5a-f62012dfb62a"
      },
      "outputs": [
        {
          "name": "stdout",
          "output_type": "stream",
          "text": [
            "/content\n"
          ]
        }
      ],
      "source": [
        "import os\n",
        "HOME = os.getcwd()\n",
        "print(HOME)"
      ]
    },
    {
      "cell_type": "markdown",
      "metadata": {
        "id": "3C3EO_2zNChu"
      },
      "source": [
        "## Install YOLOv8\n",
        "\n",
        "We strive to make our YOLOv8 notebooks work with the latest version of the library. Last tests took place on **06.10.2024** with version **YOLOv8.3.7**.\n",
        "\n",
        "If you notice that our notebook behaves incorrectly - especially if you experience errors that prevent you from going through the tutorial - don't hesitate! Let us know and open an [issue](https://github.com/roboflow/notebooks/issues) on the Roboflow Notebooks repository.\n",
        "\n",
        "YOLOv8 can be installed in two ways - from the source and via pip. This is because it is the first iteration of YOLO to have an official package."
      ]
    },
    {
      "cell_type": "code",
      "execution_count": 3,
      "metadata": {
        "colab": {
          "base_uri": "https://localhost:8080/"
        },
        "id": "tdSMcABDNKW-",
        "outputId": "524de054-19b6-4196-d41e-33499919d0b8"
      },
      "outputs": [
        {
          "name": "stdout",
          "output_type": "stream",
          "text": [
            "Ultralytics YOLOv8.2.103 🚀 Python-3.11.13 torch-2.6.0+cu124 CUDA:0 (Tesla T4, 15095MiB)\n",
            "Setup complete ✅ (2 CPUs, 12.7 GB RAM, 41.9/112.6 GB disk)\n"
          ]
        }
      ],
      "source": [
        "# Pip install method (recommended)\n",
        "\n",
        "!pip install ultralytics==8.2.103 -q\n",
        "\n",
        "from IPython import display\n",
        "display.clear_output()\n",
        "\n",
        "import ultralytics\n",
        "ultralytics.checks()"
      ]
    },
    {
      "cell_type": "code",
      "execution_count": 4,
      "metadata": {
        "id": "VOEYrlBoP9-E"
      },
      "outputs": [],
      "source": [
        "from ultralytics import YOLO\n",
        "\n",
        "from IPython.display import display, Image"
      ]
    },
    {
      "cell_type": "code",
      "execution_count": 5,
      "metadata": {
        "colab": {
          "base_uri": "https://localhost:8080/"
        },
        "id": "kQhxCjlC_DEa",
        "outputId": "98339263-fe99-4a40-851d-f4676a628bee"
      },
      "outputs": [
        {
          "name": "stdout",
          "output_type": "stream",
          "text": [
            "Generating public/private rsa key pair.\n",
            "Created directory '/root/.ssh'.\n",
            "Your identification has been saved in /root/.ssh/id_rsa\n",
            "Your public key has been saved in /root/.ssh/id_rsa.pub\n",
            "The key fingerprint is:\n",
            "SHA256:5NZdph38k28A9f2SSs/mJhWlocuGZdqCQhyLLGAK5Zs root@8730c4c4f063\n",
            "The key's randomart image is:\n",
            "+---[RSA 4096]----+\n",
            "| ..           .  |\n",
            "|oo    .      o..o|\n",
            "|+... o o.   ..=+o|\n",
            "|. .oo +o . .+*o+o|\n",
            "|  E. .  S..B+.=+o|\n",
            "|      ... +.=+.oo|\n",
            "|       .   o..+ o|\n",
            "|            .o.. |\n",
            "|             o.  |\n",
            "+----[SHA256]-----+\n"
          ]
        }
      ],
      "source": [
        "!ssh-keygen -t rsa -b 4096 -f ~/.ssh/id_rsa -N ''\n"
      ]
    },
    {
      "cell_type": "code",
      "execution_count": 6,
      "metadata": {
        "colab": {
          "base_uri": "https://localhost:8080/"
        },
        "id": "wBPb5yAm_L73",
        "outputId": "632642b8-045c-4fc1-90dd-1dbcdff94ba7"
      },
      "outputs": [
        {
          "name": "stdout",
          "output_type": "stream",
          "text": [
            "# github.com:22 SSH-2.0-71625b40\n"
          ]
        }
      ],
      "source": [
        "!ssh-keyscan -t rsa github.com >> ~/.ssh/known_hosts\n"
      ]
    },
    {
      "cell_type": "code",
      "execution_count": 7,
      "metadata": {
        "colab": {
          "base_uri": "https://localhost:8080/"
        },
        "id": "oLaMzFfILo7_",
        "outputId": "5b0925b1-5c6b-4ecf-8b5d-c840fd31fde2"
      },
      "outputs": [
        {
          "name": "stdout",
          "output_type": "stream",
          "text": [
            "ssh-rsa AAAAB3NzaC1yc2EAAAADAQABAAACAQCWVc5tkmdo70+fzz5bHSyu22Ehcx3JaOPRN3dtn+Q4CJIPJcQNwyjalmJ6zpfoPTmXXUiHtj25CGczCIjT+YDsggIVDa6HDDKdCaVfsHAMpLrDJgNdbBOATJmYoG0vVVoy6PN9sTQ2npfcAfAIcS2CYAEt9C2Z4KuqkUrsSsGBkj/ujgkN4v8nh29jsjoCQjdkYg2AzbfVeUDSmYxcRRvdMtJeWnbr2sR+6GZsJXiy7X6I0sDujNVsxeYe/xc/4Ox3N+HToVjPpaC+h/yT0+DWHhJD3M+wl8EUb5Iz53vxuO1Rj74ekAnkr0V5Bfc6blYhWS3oy4/qKOUoobxA/q1WwcV7uG07CNsEf/li9GrkEHl/giwvBVbrX/r3kQkmYKzGBx0ceslBtaVcqUHSTf6QfajVpizqHLF0RYzbv5o0nIXdZR0UCJ38iDmoj3u0O3Set+hPk3DiRQipxKD/XrHVganxMmxb/lMsBh1jPrD4QU/EkO0YP0z0kwZA5/WuKl5VPUNA9aWq9mzzxiSJMCr6HJkJfM8w0eZrZAj0uyzpLsgimaefNm7BLNJlylTrIUVEKGWR93AfOPV32XFz2qd5ZqZ/of1MQx/+972IorXm7kB+HkH7eXXjcv4nbqnnNZwrxidoXxsB3Ca2aAR16BaF4F1BMXLqpWDlO41N9F4Dkw== root@8730c4c4f063\n"
          ]
        }
      ],
      "source": [
        "!cat ~/.ssh/id_rsa.pub\n"
      ]
    },
    {
      "cell_type": "code",
      "execution_count": 8,
      "metadata": {
        "colab": {
          "base_uri": "https://localhost:8080/"
        },
        "id": "UZGLdrqPMWMY",
        "outputId": "2dbf84d7-4e59-45ea-92cd-1b318c125bf1"
      },
      "outputs": [
        {
          "name": "stdout",
          "output_type": "stream",
          "text": [
            "Hi estebanfoucher! You've successfully authenticated, but GitHub does not provide shell access.\n"
          ]
        }
      ],
      "source": [
        "!ssh -T git@github.com\n"
      ]
    },
    {
      "cell_type": "code",
      "execution_count": 9,
      "metadata": {
        "colab": {
          "base_uri": "https://localhost:8080/"
        },
        "id": "yehv86zoMdNO",
        "outputId": "20601cd2-076f-4b38-e4ff-e21459ed4777"
      },
      "outputs": [
        {
          "name": "stdout",
          "output_type": "stream",
          "text": [
            "Cloning into 'sailboat_CV'...\n",
            "remote: Enumerating objects: 2476, done.\u001b[K\n",
            "remote: Counting objects: 100% (7/7), done.\u001b[K\n",
            "remote: Compressing objects: 100% (7/7), done.\u001b[K\n",
            "remote: Total 2476 (delta 1), reused 0 (delta 0), pack-reused 2469 (from 4)\u001b[K\n",
            "Receiving objects: 100% (2476/2476), 987.13 MiB | 8.83 MiB/s, done.\n",
            "Resolving deltas: 100% (357/357), done.\n",
            "Updating files: 100% (4213/4213), done.\n"
          ]
        }
      ],
      "source": [
        "!git clone git@github.com:estebanfoucher/sailboat_CV.git\n",
        "\n"
      ]
    },
    {
      "cell_type": "code",
      "execution_count": null,
      "metadata": {
        "colab": {
          "base_uri": "https://localhost:8080/"
        },
        "id": "D2YkphuiaE7_",
        "outputId": "c8a4ab1c-be91-4e3a-de01-5e71257cfeec"
      },
      "outputs": [
        {
          "name": "stdout",
          "output_type": "stream",
          "text": [
            "/content/sailboat_CV\n",
            "New https://pypi.org/project/ultralytics/8.3.161 available 😃 Update with 'pip install -U ultralytics'\n",
            "Ultralytics YOLOv8.2.103 🚀 Python-3.11.13 torch-2.6.0+cu124 CUDA:0 (Tesla T4, 15095MiB)\n",
            "\u001b[34m\u001b[1mengine/trainer: \u001b[0mtask=detect, mode=train, model=yolov8s.pt, data=/content/sailboat_CV/data/splitted_datasets/3-classes/data.yaml, epochs=60, time=None, patience=100, batch=16, imgsz=1080, save=True, save_period=-1, cache=False, device=None, workers=8, project=None, name=train6, exist_ok=False, pretrained=True, optimizer=auto, verbose=True, seed=0, deterministic=True, single_cls=False, rect=False, cos_lr=False, close_mosaic=10, resume=False, amp=True, fraction=1.0, profile=False, freeze=None, multi_scale=False, overlap_mask=True, mask_ratio=4, dropout=0.0, val=True, split=val, save_json=False, save_hybrid=False, conf=None, iou=0.7, max_det=300, half=False, dnn=False, plots=True, source=None, vid_stride=1, stream_buffer=False, visualize=False, augment=True, agnostic_nms=False, classes=None, retina_masks=False, embed=None, show=False, save_frames=False, save_txt=False, save_conf=False, save_crop=False, show_labels=True, show_conf=True, show_boxes=True, line_width=None, format=torchscript, keras=False, optimize=False, int8=False, dynamic=False, simplify=True, opset=None, workspace=4, nms=False, lr0=0.01, lrf=0.01, momentum=0.937, weight_decay=0.0005, warmup_epochs=3.0, warmup_momentum=0.8, warmup_bias_lr=0.1, box=7.5, cls=0.5, dfl=1.5, pose=12.0, kobj=1.0, label_smoothing=0.0, nbs=64, hsv_h=0.015, hsv_s=0.7, hsv_v=0.4, degrees=120, translate=0.1, scale=0.5, shear=0.0, perspective=0.0, flipud=0.0, fliplr=0.5, bgr=0.0, mosaic=1.0, mixup=0.0, copy_paste=0.0, auto_augment=randaugment, erasing=0.4, crop_fraction=1.0, cfg=None, tracker=botsort.yaml, save_dir=runs/detect/train6\n",
            "WARNING: All log messages before absl::InitializeLog() is called are written to STDERR\n",
            "E0000 00:00:1751451066.656495   11547 cuda_dnn.cc:8310] Unable to register cuDNN factory: Attempting to register factory for plugin cuDNN when one has already been registered\n",
            "E0000 00:00:1751451066.666706   11547 cuda_blas.cc:1418] Unable to register cuBLAS factory: Attempting to register factory for plugin cuBLAS when one has already been registered\n",
            "Overriding model.yaml nc=80 with nc=3\n",
            "\n",
            "                   from  n    params  module                                       arguments                     \n",
            "  0                  -1  1       928  ultralytics.nn.modules.conv.Conv             [3, 32, 3, 2]                 \n",
            "  1                  -1  1     18560  ultralytics.nn.modules.conv.Conv             [32, 64, 3, 2]                \n",
            "  2                  -1  1     29056  ultralytics.nn.modules.block.C2f             [64, 64, 1, True]             \n",
            "  3                  -1  1     73984  ultralytics.nn.modules.conv.Conv             [64, 128, 3, 2]               \n",
            "  4                  -1  2    197632  ultralytics.nn.modules.block.C2f             [128, 128, 2, True]           \n",
            "  5                  -1  1    295424  ultralytics.nn.modules.conv.Conv             [128, 256, 3, 2]              \n",
            "  6                  -1  2    788480  ultralytics.nn.modules.block.C2f             [256, 256, 2, True]           \n",
            "  7                  -1  1   1180672  ultralytics.nn.modules.conv.Conv             [256, 512, 3, 2]              \n",
            "  8                  -1  1   1838080  ultralytics.nn.modules.block.C2f             [512, 512, 1, True]           \n",
            "  9                  -1  1    656896  ultralytics.nn.modules.block.SPPF            [512, 512, 5]                 \n",
            " 10                  -1  1         0  torch.nn.modules.upsampling.Upsample         [None, 2, 'nearest']          \n",
            " 11             [-1, 6]  1         0  ultralytics.nn.modules.conv.Concat           [1]                           \n",
            " 12                  -1  1    591360  ultralytics.nn.modules.block.C2f             [768, 256, 1]                 \n",
            " 13                  -1  1         0  torch.nn.modules.upsampling.Upsample         [None, 2, 'nearest']          \n",
            " 14             [-1, 4]  1         0  ultralytics.nn.modules.conv.Concat           [1]                           \n",
            " 15                  -1  1    148224  ultralytics.nn.modules.block.C2f             [384, 128, 1]                 \n",
            " 16                  -1  1    147712  ultralytics.nn.modules.conv.Conv             [128, 128, 3, 2]              \n",
            " 17            [-1, 12]  1         0  ultralytics.nn.modules.conv.Concat           [1]                           \n",
            " 18                  -1  1    493056  ultralytics.nn.modules.block.C2f             [384, 256, 1]                 \n",
            " 19                  -1  1    590336  ultralytics.nn.modules.conv.Conv             [256, 256, 3, 2]              \n",
            " 20             [-1, 9]  1         0  ultralytics.nn.modules.conv.Concat           [1]                           \n",
            " 21                  -1  1   1969152  ultralytics.nn.modules.block.C2f             [768, 512, 1]                 \n",
            " 22        [15, 18, 21]  1   2117209  ultralytics.nn.modules.head.Detect           [3, [128, 256, 512]]          \n",
            "Model summary: 225 layers, 11,136,761 parameters, 11,136,745 gradients, 28.7 GFLOPs\n",
            "\n",
            "Transferred 349/355 items from pretrained weights\n",
            "\u001b[34m\u001b[1mTensorBoard: \u001b[0mStart with 'tensorboard --logdir runs/detect/train6', view at http://localhost:6006/\n",
            "Freezing layer 'model.22.dfl.conv.weight'\n",
            "\u001b[34m\u001b[1mAMP: \u001b[0mrunning Automatic Mixed Precision (AMP) checks with YOLOv8n...\n",
            "\u001b[34m\u001b[1mAMP: \u001b[0mchecks passed ✅\n",
            "WARNING ⚠️ imgsz=[1080] must be multiple of max stride 32, updating to [1088]\n",
            "\u001b[34m\u001b[1mtrain: \u001b[0mScanning /content/sailboat_CV/data/splitted_datasets/3-classes/train/labels.cache... 243 images, 62 backgrounds, 0 corrupt: 100% 243/243 [00:00<?, ?it/s]\n",
            "\u001b[34m\u001b[1mtrain: \u001b[0mWARNING ⚠️ /content/sailboat_CV/data/splitted_datasets/3-classes/train/images/frame_llU5yYlyjPI_169.20s.jpg: 1 duplicate labels removed\n",
            "/usr/local/lib/python3.11/dist-packages/ultralytics/data/augment.py:1837: UserWarning: Argument(s) 'quality_lower' are not valid for transform ImageCompression\n",
            "  A.ImageCompression(quality_lower=75, p=0.0),\n",
            "\u001b[34m\u001b[1malbumentations: \u001b[0mBlur(p=0.01, blur_limit=(3, 7)), MedianBlur(p=0.01, blur_limit=(3, 7)), ToGray(p=0.01, method='weighted_average', num_output_channels=3), CLAHE(p=0.01, clip_limit=(1.0, 4.0), tile_grid_size=(8, 8))\n",
            "\u001b[34m\u001b[1mval: \u001b[0mScanning /content/sailboat_CV/data/splitted_datasets/3-classes/val/labels.cache... 61 images, 13 backgrounds, 0 corrupt: 100% 61/61 [00:00<?, ?it/s]\n",
            "Plotting labels to runs/detect/train6/labels.jpg... \n",
            "\u001b[34m\u001b[1moptimizer:\u001b[0m 'optimizer=auto' found, ignoring 'lr0=0.01' and 'momentum=0.937' and determining best 'optimizer', 'lr0' and 'momentum' automatically... \n",
            "\u001b[34m\u001b[1moptimizer:\u001b[0m AdamW(lr=0.001429, momentum=0.9) with parameter groups 57 weight(decay=0.0), 64 weight(decay=0.0005), 63 bias(decay=0.0)\n",
            "\u001b[34m\u001b[1mTensorBoard: \u001b[0mmodel graph visualization added ✅\n",
            "Image sizes 1088 train, 1088 val\n",
            "Using 2 dataloader workers\n",
            "Logging results to \u001b[1mruns/detect/train6\u001b[0m\n",
            "Starting training for 60 epochs...\n",
            "\n",
            "      Epoch    GPU_mem   box_loss   cls_loss   dfl_loss  Instances       Size\n",
            "       1/60      10.9G      3.254       18.1      1.589         12       1088: 100% 16/16 [00:14<00:00,  1.14it/s]\n",
            "                 Class     Images  Instances      Box(P          R      mAP50  mAP50-95): 100% 2/2 [00:02<00:00,  1.10s/it]\n",
            "                   all         61        193      0.371     0.0608     0.0196    0.00532\n",
            "\n",
            "      Epoch    GPU_mem   box_loss   cls_loss   dfl_loss  Instances       Size\n",
            "       2/60        11G      2.497      4.333      1.239         12       1088: 100% 16/16 [00:12<00:00,  1.30it/s]\n",
            "                 Class     Images  Instances      Box(P          R      mAP50  mAP50-95): 100% 2/2 [00:01<00:00,  1.51it/s]\n",
            "                   all         61        193      0.217       0.13      0.069     0.0176\n",
            "\n",
            "      Epoch    GPU_mem   box_loss   cls_loss   dfl_loss  Instances       Size\n",
            "       3/60        11G      2.393      3.179      1.172         16       1088: 100% 16/16 [00:11<00:00,  1.38it/s]\n",
            "                 Class     Images  Instances      Box(P          R      mAP50  mAP50-95): 100% 2/2 [00:01<00:00,  1.55it/s]\n",
            "                   all         61        193      0.114      0.196     0.0796      0.026\n",
            "\n",
            "      Epoch    GPU_mem   box_loss   cls_loss   dfl_loss  Instances       Size\n",
            "       4/60      11.1G      2.397      2.791      1.212         33       1088: 100% 16/16 [00:12<00:00,  1.28it/s]\n",
            "                 Class     Images  Instances      Box(P          R      mAP50  mAP50-95): 100% 2/2 [00:01<00:00,  1.71it/s]\n",
            "                   all         61        193       0.23      0.232      0.144     0.0341\n",
            "\n",
            "      Epoch    GPU_mem   box_loss   cls_loss   dfl_loss  Instances       Size\n",
            "       5/60      11.1G      2.299      2.492      1.184          8       1088: 100% 16/16 [00:13<00:00,  1.21it/s]\n",
            "                 Class     Images  Instances      Box(P          R      mAP50  mAP50-95): 100% 2/2 [00:01<00:00,  1.60it/s]\n",
            "                   all         61        193      0.812     0.0923      0.101     0.0351\n",
            "\n",
            "      Epoch    GPU_mem   box_loss   cls_loss   dfl_loss  Instances       Size\n",
            "       6/60        11G       2.31      2.447      1.178         19       1088: 100% 16/16 [00:12<00:00,  1.26it/s]\n",
            "                 Class     Images  Instances      Box(P          R      mAP50  mAP50-95): 100% 2/2 [00:01<00:00,  1.26it/s]\n",
            "                   all         61        193      0.437     0.0833     0.0627     0.0159\n",
            "\n",
            "      Epoch    GPU_mem   box_loss   cls_loss   dfl_loss  Instances       Size\n",
            "       7/60      10.9G      2.277      2.315      1.175         10       1088: 100% 16/16 [00:12<00:00,  1.29it/s]\n",
            "                 Class     Images  Instances      Box(P          R      mAP50  mAP50-95): 100% 2/2 [00:01<00:00,  1.65it/s]\n",
            "                   all         61        193      0.267      0.139      0.103     0.0264\n",
            "\n",
            "      Epoch    GPU_mem   box_loss   cls_loss   dfl_loss  Instances       Size\n",
            "       8/60      10.9G      2.185      2.058       1.17          4       1088: 100% 16/16 [00:11<00:00,  1.34it/s]\n",
            "                 Class     Images  Instances      Box(P          R      mAP50  mAP50-95): 100% 2/2 [00:01<00:00,  1.71it/s]\n",
            "                   all         61        193      0.546      0.133      0.136     0.0375\n",
            "\n",
            "      Epoch    GPU_mem   box_loss   cls_loss   dfl_loss  Instances       Size\n",
            "       9/60      10.9G      2.318      2.138      1.167         16       1088: 100% 16/16 [00:11<00:00,  1.34it/s]\n",
            "                 Class     Images  Instances      Box(P          R      mAP50  mAP50-95): 100% 2/2 [00:01<00:00,  1.82it/s]\n",
            "                   all         61        193      0.337      0.123     0.0944     0.0226\n",
            "\n",
            "      Epoch    GPU_mem   box_loss   cls_loss   dfl_loss  Instances       Size\n",
            "      10/60        11G      2.191       1.93      1.135         20       1088: 100% 16/16 [00:12<00:00,  1.31it/s]\n",
            "                 Class     Images  Instances      Box(P          R      mAP50  mAP50-95): 100% 2/2 [00:01<00:00,  1.86it/s]\n",
            "                   all         61        193      0.642       0.13      0.158     0.0385\n",
            "\n",
            "      Epoch    GPU_mem   box_loss   cls_loss   dfl_loss  Instances       Size\n",
            "      11/60        11G      2.267      2.139      1.133          1       1088: 100% 16/16 [00:11<00:00,  1.39it/s]\n",
            "                 Class     Images  Instances      Box(P          R      mAP50  mAP50-95): 100% 2/2 [00:01<00:00,  1.50it/s]\n",
            "                   all         61        193      0.218      0.143      0.131     0.0351\n",
            "\n",
            "      Epoch    GPU_mem   box_loss   cls_loss   dfl_loss  Instances       Size\n",
            "      12/60      10.9G       2.25      1.981      1.122         36       1088: 100% 16/16 [00:12<00:00,  1.30it/s]\n",
            "                 Class     Images  Instances      Box(P          R      mAP50  mAP50-95): 100% 2/2 [00:01<00:00,  1.74it/s]\n",
            "                   all         61        193      0.303      0.291      0.212     0.0541\n",
            "\n",
            "      Epoch    GPU_mem   box_loss   cls_loss   dfl_loss  Instances       Size\n",
            "      13/60        11G      2.279      1.975      1.171          7       1088: 100% 16/16 [00:12<00:00,  1.32it/s]\n",
            "                 Class     Images  Instances      Box(P          R      mAP50  mAP50-95): 100% 2/2 [00:01<00:00,  1.92it/s]\n",
            "                   all         61        193      0.678      0.291      0.247     0.0659\n",
            "\n",
            "      Epoch    GPU_mem   box_loss   cls_loss   dfl_loss  Instances       Size\n",
            "      14/60        11G      2.141       1.98      1.133         20       1088: 100% 16/16 [00:12<00:00,  1.32it/s]\n",
            "                 Class     Images  Instances      Box(P          R      mAP50  mAP50-95): 100% 2/2 [00:01<00:00,  1.80it/s]\n",
            "                   all         61        193      0.378      0.187      0.198     0.0411\n",
            "\n",
            "      Epoch    GPU_mem   box_loss   cls_loss   dfl_loss  Instances       Size\n",
            "      15/60        11G      2.157      1.965      1.142          2       1088: 100% 16/16 [00:11<00:00,  1.44it/s]\n",
            "                 Class     Images  Instances      Box(P          R      mAP50  mAP50-95): 100% 2/2 [00:01<00:00,  1.30it/s]\n",
            "                   all         61        193      0.656      0.158      0.159     0.0612\n",
            "\n",
            "      Epoch    GPU_mem   box_loss   cls_loss   dfl_loss  Instances       Size\n",
            "      16/60      10.9G      2.144      1.874      1.135         21       1088: 100% 16/16 [00:11<00:00,  1.34it/s]\n",
            "                 Class     Images  Instances      Box(P          R      mAP50  mAP50-95): 100% 2/2 [00:01<00:00,  1.56it/s]\n",
            "                   all         61        193      0.223      0.287      0.206     0.0474\n",
            "\n",
            "      Epoch    GPU_mem   box_loss   cls_loss   dfl_loss  Instances       Size\n",
            "      17/60      10.8G       2.13      1.848      1.115         25       1088: 100% 16/16 [00:12<00:00,  1.28it/s]\n",
            "                 Class     Images  Instances      Box(P          R      mAP50  mAP50-95): 100% 2/2 [00:01<00:00,  1.78it/s]\n",
            "                   all         61        193      0.223      0.324        0.2     0.0608\n",
            "\n",
            "      Epoch    GPU_mem   box_loss   cls_loss   dfl_loss  Instances       Size\n",
            "      18/60      10.9G       2.12      1.874      1.101         14       1088: 100% 16/16 [00:11<00:00,  1.34it/s]\n",
            "                 Class     Images  Instances      Box(P          R      mAP50  mAP50-95): 100% 2/2 [00:01<00:00,  1.66it/s]\n",
            "                   all         61        193      0.483      0.275      0.318     0.0934\n",
            "\n",
            "      Epoch    GPU_mem   box_loss   cls_loss   dfl_loss  Instances       Size\n",
            "      19/60        11G      2.091      1.636      1.105         18       1088: 100% 16/16 [00:11<00:00,  1.38it/s]\n",
            "                 Class     Images  Instances      Box(P          R      mAP50  mAP50-95): 100% 2/2 [00:01<00:00,  1.31it/s]\n",
            "                   all         61        193       0.47      0.295      0.337      0.107\n",
            "\n",
            "      Epoch    GPU_mem   box_loss   cls_loss   dfl_loss  Instances       Size\n",
            "      20/60        11G      2.095      1.732       1.08         11       1088: 100% 16/16 [00:12<00:00,  1.30it/s]\n",
            "                 Class     Images  Instances      Box(P          R      mAP50  mAP50-95): 100% 2/2 [00:01<00:00,  1.72it/s]\n",
            "                   all         61        193      0.716      0.246      0.248     0.0529\n",
            "\n",
            "      Epoch    GPU_mem   box_loss   cls_loss   dfl_loss  Instances       Size\n",
            "      21/60      10.9G      2.069      1.764      1.112         16       1088: 100% 16/16 [00:12<00:00,  1.25it/s]\n",
            "                 Class     Images  Instances      Box(P          R      mAP50  mAP50-95): 100% 2/2 [00:00<00:00,  2.08it/s]\n",
            "                   all         61        193      0.427      0.291      0.286     0.0739\n",
            "\n",
            "      Epoch    GPU_mem   box_loss   cls_loss   dfl_loss  Instances       Size\n",
            "      22/60      10.9G      2.088      1.993      1.054          4       1088: 100% 16/16 [00:11<00:00,  1.35it/s]\n",
            "                 Class     Images  Instances      Box(P          R      mAP50  mAP50-95): 100% 2/2 [00:01<00:00,  1.73it/s]\n",
            "                   all         61        193      0.425      0.322      0.281       0.12\n",
            "\n",
            "      Epoch    GPU_mem   box_loss   cls_loss   dfl_loss  Instances       Size\n",
            "      23/60        11G      2.088      1.848      1.119         13       1088: 100% 16/16 [00:11<00:00,  1.35it/s]\n",
            "                 Class     Images  Instances      Box(P          R      mAP50  mAP50-95): 100% 2/2 [00:01<00:00,  1.44it/s]\n",
            "                   all         61        193      0.352      0.245      0.242     0.0682\n",
            "\n",
            "      Epoch    GPU_mem   box_loss   cls_loss   dfl_loss  Instances       Size\n",
            "      24/60        11G      2.036      1.712      1.094         14       1088: 100% 16/16 [00:11<00:00,  1.38it/s]\n",
            "                 Class     Images  Instances      Box(P          R      mAP50  mAP50-95): 100% 2/2 [00:01<00:00,  1.82it/s]\n",
            "                   all         61        193      0.327      0.318      0.295     0.0855\n",
            "\n",
            "      Epoch    GPU_mem   box_loss   cls_loss   dfl_loss  Instances       Size\n",
            "      25/60      10.9G      2.037      1.607      1.099         11       1088: 100% 16/16 [00:11<00:00,  1.35it/s]\n",
            "                 Class     Images  Instances      Box(P          R      mAP50  mAP50-95): 100% 2/2 [00:01<00:00,  1.73it/s]\n",
            "                   all         61        193      0.348      0.309      0.254     0.0534\n",
            "\n",
            "      Epoch    GPU_mem   box_loss   cls_loss   dfl_loss  Instances       Size\n",
            "      26/60      10.9G      2.074      1.618      1.071         22       1088: 100% 16/16 [00:11<00:00,  1.35it/s]\n",
            "                 Class     Images  Instances      Box(P          R      mAP50  mAP50-95): 100% 2/2 [00:01<00:00,  1.86it/s]\n",
            "                   all         61        193      0.488        0.3      0.355     0.0932\n",
            "\n",
            "      Epoch    GPU_mem   box_loss   cls_loss   dfl_loss  Instances       Size\n",
            "      27/60      10.9G       1.98      1.758      1.089          4       1088: 100% 16/16 [00:12<00:00,  1.30it/s]\n",
            "                 Class     Images  Instances      Box(P          R      mAP50  mAP50-95): 100% 2/2 [00:00<00:00,  2.08it/s]\n",
            "                   all         61        193      0.465      0.374      0.365     0.0832\n",
            "\n",
            "      Epoch    GPU_mem   box_loss   cls_loss   dfl_loss  Instances       Size\n",
            "      28/60        11G      1.998      1.523      1.068         24       1088: 100% 16/16 [00:11<00:00,  1.40it/s]\n",
            "                 Class     Images  Instances      Box(P          R      mAP50  mAP50-95): 100% 2/2 [00:01<00:00,  1.29it/s]\n",
            "                   all         61        193      0.456        0.4      0.413      0.127\n",
            "\n",
            "      Epoch    GPU_mem   box_loss   cls_loss   dfl_loss  Instances       Size\n",
            "      29/60      10.9G      1.919      1.533      1.049         22       1088: 100% 16/16 [00:12<00:00,  1.33it/s]\n",
            "                 Class     Images  Instances      Box(P          R      mAP50  mAP50-95): 100% 2/2 [00:01<00:00,  1.75it/s]\n",
            "                   all         61        193      0.444       0.42      0.403      0.112\n",
            "\n",
            "      Epoch    GPU_mem   box_loss   cls_loss   dfl_loss  Instances       Size\n",
            "      30/60      10.9G       1.93      1.571       1.05          3       1088: 100% 16/16 [00:12<00:00,  1.30it/s]\n",
            "                 Class     Images  Instances      Box(P          R      mAP50  mAP50-95): 100% 2/2 [00:01<00:00,  1.96it/s]\n",
            "                   all         61        193       0.59      0.316      0.395      0.132\n",
            "\n",
            "      Epoch    GPU_mem   box_loss   cls_loss   dfl_loss  Instances       Size\n",
            "      31/60        11G      1.962      1.517      1.038          6       1088: 100% 16/16 [00:12<00:00,  1.33it/s]\n",
            "                 Class     Images  Instances      Box(P          R      mAP50  mAP50-95): 100% 2/2 [00:01<00:00,  1.73it/s]\n",
            "                   all         61        193      0.544       0.31      0.372       0.11\n",
            "\n",
            "      Epoch    GPU_mem   box_loss   cls_loss   dfl_loss  Instances       Size\n",
            "      32/60      10.7G      1.963      1.466      1.038         16       1088: 100% 16/16 [00:11<00:00,  1.36it/s]\n",
            "                 Class     Images  Instances      Box(P          R      mAP50  mAP50-95): 100% 2/2 [00:01<00:00,  1.63it/s]\n",
            "                   all         61        193      0.518      0.307      0.325     0.0916\n",
            "\n",
            "      Epoch    GPU_mem   box_loss   cls_loss   dfl_loss  Instances       Size\n",
            "      33/60      10.9G      1.942      1.526      1.091         14       1088: 100% 16/16 [00:11<00:00,  1.34it/s]\n",
            "                 Class     Images  Instances      Box(P          R      mAP50  mAP50-95): 100% 2/2 [00:01<00:00,  1.54it/s]\n",
            "                   all         61        193      0.407      0.336      0.305      0.114\n",
            "\n",
            "      Epoch    GPU_mem   box_loss   cls_loss   dfl_loss  Instances       Size\n",
            "      34/60        11G      1.913      1.503      1.034         15       1088: 100% 16/16 [00:11<00:00,  1.35it/s]\n",
            "                 Class     Images  Instances      Box(P          R      mAP50  mAP50-95): 100% 2/2 [00:01<00:00,  1.65it/s]\n",
            "                   all         61        193      0.406      0.414      0.362       0.12\n",
            "\n",
            "      Epoch    GPU_mem   box_loss   cls_loss   dfl_loss  Instances       Size\n",
            "      35/60      10.9G      1.869      1.502       1.04         34       1088: 100% 16/16 [00:11<00:00,  1.34it/s]\n",
            "                 Class     Images  Instances      Box(P          R      mAP50  mAP50-95): 100% 2/2 [00:00<00:00,  2.03it/s]\n",
            "                   all         61        193      0.468      0.342      0.338      0.102\n",
            "\n",
            "      Epoch    GPU_mem   box_loss   cls_loss   dfl_loss  Instances       Size\n",
            "      36/60      10.8G      1.902      1.446      1.038         23       1088: 100% 16/16 [00:12<00:00,  1.31it/s]\n",
            "                 Class     Images  Instances      Box(P          R      mAP50  mAP50-95): 100% 2/2 [00:01<00:00,  1.87it/s]\n",
            "                   all         61        193      0.484      0.346      0.384      0.123\n",
            "\n",
            "      Epoch    GPU_mem   box_loss   cls_loss   dfl_loss  Instances       Size\n",
            "      37/60      11.1G      1.905      1.473      1.048         25       1088: 100% 16/16 [00:11<00:00,  1.38it/s]\n",
            "                 Class     Images  Instances      Box(P          R      mAP50  mAP50-95): 100% 2/2 [00:01<00:00,  1.40it/s]\n",
            "                   all         61        193      0.511      0.319      0.363      0.111\n",
            "\n",
            "      Epoch    GPU_mem   box_loss   cls_loss   dfl_loss  Instances       Size\n",
            "      38/60      10.8G      1.868      1.371      1.042         17       1088: 100% 16/16 [00:12<00:00,  1.32it/s]\n",
            "                 Class     Images  Instances      Box(P          R      mAP50  mAP50-95): 100% 2/2 [00:01<00:00,  1.72it/s]\n",
            "                   all         61        193      0.453      0.346      0.328      0.103\n",
            "\n",
            "      Epoch    GPU_mem   box_loss   cls_loss   dfl_loss  Instances       Size\n",
            "      39/60      10.9G      1.855      1.384       1.04         13       1088: 100% 16/16 [00:11<00:00,  1.34it/s]\n",
            "                 Class     Images  Instances      Box(P          R      mAP50  mAP50-95): 100% 2/2 [00:00<00:00,  2.03it/s]\n",
            "                   all         61        193      0.531      0.349      0.359      0.116\n",
            "\n",
            "      Epoch    GPU_mem   box_loss   cls_loss   dfl_loss  Instances       Size\n",
            "      40/60      10.9G      1.886      1.351      1.026          9       1088: 100% 16/16 [00:11<00:00,  1.34it/s]\n",
            "                 Class     Images  Instances      Box(P          R      mAP50  mAP50-95): 100% 2/2 [00:01<00:00,  1.76it/s]\n",
            "                   all         61        193      0.492      0.315      0.354      0.121\n",
            "\n",
            "      Epoch    GPU_mem   box_loss   cls_loss   dfl_loss  Instances       Size\n",
            "      41/60        11G      1.895      1.305      1.028         10       1088: 100% 16/16 [00:11<00:00,  1.35it/s]\n",
            "                 Class     Images  Instances      Box(P          R      mAP50  mAP50-95): 100% 2/2 [00:01<00:00,  1.92it/s]\n",
            "                   all         61        193      0.449      0.384      0.389      0.139\n",
            "\n",
            "      Epoch    GPU_mem   box_loss   cls_loss   dfl_loss  Instances       Size\n",
            "      42/60        11G      1.834      1.382      1.033         18       1088: 100% 16/16 [00:11<00:00,  1.39it/s]\n",
            "                 Class     Images  Instances      Box(P          R      mAP50  mAP50-95): 100% 2/2 [00:01<00:00,  1.40it/s]\n",
            "                   all         61        193       0.48      0.398      0.391      0.123\n",
            "\n",
            "      Epoch    GPU_mem   box_loss   cls_loss   dfl_loss  Instances       Size\n",
            "      43/60      10.9G      1.798      1.282       1.01         12       1088: 100% 16/16 [00:12<00:00,  1.31it/s]\n",
            "                 Class     Images  Instances      Box(P          R      mAP50  mAP50-95): 100% 2/2 [00:01<00:00,  1.82it/s]\n",
            "                   all         61        193      0.534      0.392      0.445      0.144\n",
            "\n",
            "      Epoch    GPU_mem   box_loss   cls_loss   dfl_loss  Instances       Size\n",
            "      44/60        11G      1.808      1.373      1.022         14       1088: 100% 16/16 [00:12<00:00,  1.31it/s]\n",
            "                 Class     Images  Instances      Box(P          R      mAP50  mAP50-95): 100% 2/2 [00:01<00:00,  1.96it/s]\n",
            "                   all         61        193       0.55      0.435       0.45      0.145\n",
            "\n",
            "      Epoch    GPU_mem   box_loss   cls_loss   dfl_loss  Instances       Size\n",
            "      45/60      10.9G      1.808      1.341      1.052         31       1088: 100% 16/16 [00:12<00:00,  1.30it/s]\n",
            "                 Class     Images  Instances      Box(P          R      mAP50  mAP50-95): 100% 2/2 [00:01<00:00,  1.92it/s]\n",
            "                   all         61        193      0.563      0.398      0.442      0.154\n",
            "\n",
            "      Epoch    GPU_mem   box_loss   cls_loss   dfl_loss  Instances       Size\n",
            "      46/60      10.8G      1.838      1.305      1.041          8       1088: 100% 16/16 [00:11<00:00,  1.39it/s]\n",
            "                 Class     Images  Instances      Box(P          R      mAP50  mAP50-95): 100% 2/2 [00:01<00:00,  1.47it/s]\n",
            "                   all         61        193      0.507      0.474      0.437      0.158\n",
            "\n",
            "      Epoch    GPU_mem   box_loss   cls_loss   dfl_loss  Instances       Size\n",
            "      47/60        11G      1.821       1.32      1.029          8       1088: 100% 16/16 [00:12<00:00,  1.31it/s]\n",
            "                 Class     Images  Instances      Box(P          R      mAP50  mAP50-95): 100% 2/2 [00:01<00:00,  1.77it/s]\n",
            "                   all         61        193       0.51      0.413      0.429      0.171\n",
            "\n",
            "      Epoch    GPU_mem   box_loss   cls_loss   dfl_loss  Instances       Size\n",
            "      48/60      10.8G      1.746      1.266       1.01         19       1088: 100% 16/16 [00:12<00:00,  1.33it/s]\n",
            "                 Class     Images  Instances      Box(P          R      mAP50  mAP50-95): 100% 2/2 [00:01<00:00,  1.71it/s]\n",
            "                   all         61        193      0.526      0.364      0.415      0.151\n",
            "\n",
            "      Epoch    GPU_mem   box_loss   cls_loss   dfl_loss  Instances       Size\n",
            "      49/60      10.9G      1.708      1.236      1.013          7       1088: 100% 16/16 [00:12<00:00,  1.28it/s]\n",
            "                 Class     Images  Instances      Box(P          R      mAP50  mAP50-95): 100% 2/2 [00:01<00:00,  1.88it/s]\n",
            "                   all         61        193      0.581      0.416       0.45       0.15\n",
            "\n",
            "      Epoch    GPU_mem   box_loss   cls_loss   dfl_loss  Instances       Size\n",
            "      50/60      10.9G      1.819      1.246      1.018         94       1088:  88% 14/16 [00:10<00:01,  1.25it/s]"
          ]
        }
      ],
      "source": [
        "%cd {HOME}/sailboat_CV/\n"
      ]
    },
    {
      "cell_type": "code",
      "execution_count": null,
      "metadata": {},
      "outputs": [],
      "source": [
        "from ultralytics import YOLO\n",
        "\n",
        "def get_balanced_training_config():\n",
        "    \"\"\"Return a config dict optimized for class imbalance.\"\"\"\n",
        "    return {\n",
        "        'epochs': 150,\n",
        "        'batch': 16,\n",
        "        'imgsz': 640,\n",
        "        'patience': 20,\n",
        "        'hsv_h': 0.025,\n",
        "        'hsv_s': 0.8,\n",
        "        'hsv_v': 0.5,\n",
        "        'degrees': 15.0,\n",
        "        'translate': 0.2,\n",
        "        'scale': 0.8,\n",
        "        'shear': 5.0,\n",
        "        'perspective': 0.0005,\n",
        "        'flipud': 0.0,\n",
        "        'fliplr': 0.5,\n",
        "        'mosaic': 1.0,\n",
        "        'mixup': 0.15,\n",
        "        'copy_paste': 0.1,\n",
        "        'auto_augment': 'randaugment',\n",
        "        'erasing': 0.4,\n",
        "        'optimizer': 'AdamW',\n",
        "        'lr0': 0.001,\n",
        "        'lrf': 0.01,\n",
        "        'momentum': 0.937,\n",
        "        'weight_decay': 0.0005,\n",
        "        'warmup_epochs': 3.0,\n",
        "        'warmup_momentum': 0.8,\n",
        "        'warmup_bias_lr': 0.1,\n",
        "        'cos_lr': False,\n",
        "        'close_mosaic': 10,\n",
        "        'amp': True,\n",
        "        'save_period': 10,\n",
        "        'plots': True,\n",
        "        'val': True,\n",
        "        'cache': False,\n",
        "        'workers': 8,\n",
        "        'project': 'runs/detect',\n",
        "        'name': 'class_balanced_training',\n",
        "        'exist_ok': True,\n",
        "        'seed': 0,\n",
        "        'deterministic': True,\n",
        "    }\n"
      ]
    },
    {
      "cell_type": "code",
      "execution_count": null,
      "metadata": {},
      "outputs": [],
      "source": [
        "\n",
        "def train_yolo(data_path, model_path='yolo11n.pt', config=None):\n",
        "    \"\"\"Train YOLO with the given config.\"\"\"\n",
        "    if config is None:\n",
        "        config = get_balanced_training_config()\n",
        "    model = YOLO(model_path)\n",
        "    results = model.train(data=data_path, **config)\n",
        "    return results\n",
        "\n",
        "def calculate_class_weights(class_counts):\n",
        "    \"\"\"Return inverse frequency class weights.\"\"\"\n",
        "    total = sum(class_counts)\n",
        "    n = len(class_counts)\n",
        "    return [total / (n * c) for c in class_counts]"
      ]
    },
    {
      "cell_type": "code",
      "execution_count": null,
      "metadata": {},
      "outputs": [],
      "source": [
        "\n",
        "data_yaml = 'path/to/your/data.yaml'\n",
        "model_weights = 'yolo11n.pt'\n",
        "class_counts = [1000, 300, 150]  # Example\n",
        "\n",
        "# Optional: print class weights\n",
        "weights = calculate_class_weights(class_counts)\n",
        "print(\"Class weights:\", weights)\n",
        "\n",
        "# Train\n",
        "print(\"Starting training with class balancing...\")\n",
        "results = train_yolo(data_yaml, model_weights)\n",
        "print(\"Training complete. Results saved to:\", results.save_dir)\n",
        "\n",
        "# Validate\n",
        "model = YOLO(results.save_dir / 'weights' / 'best.pt')\n",
        "val_results = model.val(data=data_yaml)"
      ]
    },
    {
      "cell_type": "code",
      "execution_count": null,
      "metadata": {},
      "outputs": [],
      "source": [
        "\n",
        "!yolo task=detect mode=train model=yolov8s.pt data=/content/sailboat_CV/data/splitted_datasets/3-classes/data.yaml epochs=60 imgsz=1080 augment=True batch=16 degrees=120 mosaic=0.0"
      ]
    },
    {
      "cell_type": "code",
      "execution_count": null,
      "metadata": {
        "colab": {
          "base_uri": "https://localhost:8080/"
        },
        "id": "1MScstfHhArr",
        "outputId": "0d332b29-3f5c-44fd-f31d-1e1a53ea5264"
      },
      "outputs": [
        {
          "name": "stdout",
          "output_type": "stream",
          "text": [
            "total 4656\n",
            "drwxr-xr-x 3 root root   4096 Jun 10 13:46 .\n",
            "drwxr-xr-x 3 root root   4096 Jun 10 13:44 ..\n",
            "-rw-r--r-- 1 root root   1574 Jun 10 13:44 args.yaml\n",
            "-rw-r--r-- 1 root root  88182 Jun 10 13:46 confusion_matrix_normalized.png\n",
            "-rw-r--r-- 1 root root  85014 Jun 10 13:46 confusion_matrix.png\n",
            "-rw-r--r-- 1 root root 202537 Jun 10 13:46 events.out.tfevents.1749563058.27ec866411b0.6426.0\n",
            "-rw-r--r-- 1 root root 100377 Jun 10 13:46 F1_curve.png\n",
            "-rw-r--r-- 1 root root 189627 Jun 10 13:44 labels_correlogram.jpg\n",
            "-rw-r--r-- 1 root root  97727 Jun 10 13:44 labels.jpg\n",
            "-rw-r--r-- 1 root root 122787 Jun 10 13:46 P_curve.png\n",
            "-rw-r--r-- 1 root root  80099 Jun 10 13:46 PR_curve.png\n",
            "-rw-r--r-- 1 root root  98132 Jun 10 13:46 R_curve.png\n",
            "-rw-r--r-- 1 root root   8736 Jun 10 13:46 results.csv\n",
            "-rw-r--r-- 1 root root 296747 Jun 10 13:46 results.png\n",
            "-rw-r--r-- 1 root root 580967 Jun 10 13:44 train_batch0.jpg\n",
            "-rw-r--r-- 1 root root 553996 Jun 10 13:44 train_batch1.jpg\n",
            "-rw-r--r-- 1 root root 418846 Jun 10 13:44 train_batch2.jpg\n",
            "-rw-r--r-- 1 root root 435298 Jun 10 13:45 train_batch45.jpg\n",
            "-rw-r--r-- 1 root root 483868 Jun 10 13:45 train_batch46.jpg\n",
            "-rw-r--r-- 1 root root 317879 Jun 10 13:45 train_batch47.jpg\n",
            "-rw-r--r-- 1 root root 277460 Jun 10 13:46 val_batch0_labels.jpg\n",
            "-rw-r--r-- 1 root root 276312 Jun 10 13:46 val_batch0_pred.jpg\n",
            "drwxr-xr-x 2 root root   4096 Jun 10 13:44 weights\n"
          ]
        }
      ],
      "source": [
        "!ls -la {HOME}/sailboat_CV/runs/detect/train/"
      ]
    },
    {
      "cell_type": "code",
      "execution_count": null,
      "metadata": {
        "colab": {
          "base_uri": "https://localhost:8080/"
        },
        "id": "U_ZOpnH9scaU",
        "outputId": "46538f72-7b49-4c3c-d60d-407d1da93cb3"
      },
      "outputs": [
        {
          "name": "stdout",
          "output_type": "stream",
          "text": [
            "cat: /content/sailboat_CV/runs/classify/train/results.csv: No such file or directory\n"
          ]
        }
      ],
      "source": [
        "!cat {HOME}/sailboat_CV/runs/classify/train/results.csv | head -10"
      ]
    },
    {
      "cell_type": "code",
      "execution_count": null,
      "metadata": {
        "colab": {
          "base_uri": "https://localhost:8080/"
        },
        "id": "Po2LRPLjGOaQ",
        "outputId": "192a7659-1239-4345-b24f-00e41fab020a"
      },
      "outputs": [
        {
          "name": "stdout",
          "output_type": "stream",
          "text": [
            "cmd\t  docker\tREADME.md\t  runs\t yolov8n.pt\n",
            "datasets  labeled_data\trequirements.txt  utils  yolov8s.pt\n"
          ]
        }
      ],
      "source": [
        "!ls"
      ]
    },
    {
      "cell_type": "code",
      "execution_count": 12,
      "metadata": {
        "id": "x6BkkWoxGSMJ"
      },
      "outputs": [],
      "source": [
        "!git add -A"
      ]
    },
    {
      "cell_type": "code",
      "execution_count": 13,
      "metadata": {
        "colab": {
          "base_uri": "https://localhost:8080/"
        },
        "id": "8q8kez77GWA0",
        "outputId": "882e60ff-3c18-41a1-e21b-2f47459ecd3f"
      },
      "outputs": [
        {
          "name": "stdout",
          "output_type": "stream",
          "text": [
            "On branch main\n",
            "Your branch is up to date with 'origin/main'.\n",
            "\n",
            "Changes to be committed:\n",
            "  (use \"git restore --staged <file>...\" to unstage)\n",
            "\t\u001b[32mmodified:   data/splitted_datasets/3-classes/data.yaml\u001b[m\n",
            "\t\u001b[32mnew file:   data/splitted_datasets/3-classes/train/labels.cache\u001b[m\n",
            "\t\u001b[32mnew file:   data/splitted_datasets/3-classes/val/labels.cache\u001b[m\n",
            "\t\u001b[32mnew file:   runs/detect/train2/args.yaml\u001b[m\n",
            "\t\u001b[32mnew file:   runs/detect/train3/F1_curve.png\u001b[m\n",
            "\t\u001b[32mnew file:   runs/detect/train3/PR_curve.png\u001b[m\n",
            "\t\u001b[32mnew file:   runs/detect/train3/P_curve.png\u001b[m\n",
            "\t\u001b[32mnew file:   runs/detect/train3/R_curve.png\u001b[m\n",
            "\t\u001b[32mnew file:   runs/detect/train3/args.yaml\u001b[m\n",
            "\t\u001b[32mnew file:   runs/detect/train3/confusion_matrix.png\u001b[m\n",
            "\t\u001b[32mnew file:   runs/detect/train3/confusion_matrix_normalized.png\u001b[m\n",
            "\t\u001b[32mnew file:   runs/detect/train3/events.out.tfevents.1751449017.8730c4c4f063.2892.0\u001b[m\n",
            "\t\u001b[32mnew file:   runs/detect/train3/labels.jpg\u001b[m\n",
            "\t\u001b[32mnew file:   runs/detect/train3/labels_correlogram.jpg\u001b[m\n",
            "\t\u001b[32mnew file:   runs/detect/train3/results.csv\u001b[m\n",
            "\t\u001b[32mnew file:   runs/detect/train3/results.png\u001b[m\n",
            "\t\u001b[32mnew file:   runs/detect/train3/train_batch0.jpg\u001b[m\n",
            "\t\u001b[32mnew file:   runs/detect/train3/train_batch1.jpg\u001b[m\n",
            "\t\u001b[32mnew file:   runs/detect/train3/train_batch2.jpg\u001b[m\n",
            "\t\u001b[32mnew file:   runs/detect/train3/train_batch800.jpg\u001b[m\n",
            "\t\u001b[32mnew file:   runs/detect/train3/train_batch801.jpg\u001b[m\n",
            "\t\u001b[32mnew file:   runs/detect/train3/train_batch802.jpg\u001b[m\n",
            "\t\u001b[32mnew file:   runs/detect/train3/val_batch0_labels.jpg\u001b[m\n",
            "\t\u001b[32mnew file:   runs/detect/train3/val_batch0_pred.jpg\u001b[m\n",
            "\t\u001b[32mnew file:   runs/detect/train3/val_batch1_labels.jpg\u001b[m\n",
            "\t\u001b[32mnew file:   runs/detect/train3/val_batch1_pred.jpg\u001b[m\n",
            "\t\u001b[32mnew file:   runs/detect/train3/weights/best.pt\u001b[m\n",
            "\t\u001b[32mnew file:   runs/detect/train3/weights/last.pt\u001b[m\n",
            "\n"
          ]
        }
      ],
      "source": [
        "!git status"
      ]
    },
    {
      "cell_type": "code",
      "execution_count": 14,
      "metadata": {
        "id": "22PQimvkGfms"
      },
      "outputs": [],
      "source": [
        "!git config user.name \"estebanfoucher\"\n",
        "!git config user.email \"estefoucher@gmail.com\""
      ]
    },
    {
      "cell_type": "code",
      "execution_count": 15,
      "metadata": {
        "colab": {
          "base_uri": "https://localhost:8080/"
        },
        "id": "wLI1cDHXGZGp",
        "outputId": "0abd9960-628c-47a7-df08-e774cee13ec2"
      },
      "outputs": [
        {
          "name": "stdout",
          "output_type": "stream",
          "text": [
            "[main c3e4b5f] feat:train_3_classes\n",
            " 28 files changed, 275 insertions(+), 2 deletions(-)\n",
            " create mode 100644 data/splitted_datasets/3-classes/train/labels.cache\n",
            " create mode 100644 data/splitted_datasets/3-classes/val/labels.cache\n",
            " create mode 100644 runs/detect/train2/args.yaml\n",
            " create mode 100644 runs/detect/train3/F1_curve.png\n",
            " create mode 100644 runs/detect/train3/PR_curve.png\n",
            " create mode 100644 runs/detect/train3/P_curve.png\n",
            " create mode 100644 runs/detect/train3/R_curve.png\n",
            " create mode 100644 runs/detect/train3/args.yaml\n",
            " create mode 100644 runs/detect/train3/confusion_matrix.png\n",
            " create mode 100644 runs/detect/train3/confusion_matrix_normalized.png\n",
            " create mode 100644 runs/detect/train3/events.out.tfevents.1751449017.8730c4c4f063.2892.0\n",
            " create mode 100644 runs/detect/train3/labels.jpg\n",
            " create mode 100644 runs/detect/train3/labels_correlogram.jpg\n",
            " create mode 100644 runs/detect/train3/results.csv\n",
            " create mode 100644 runs/detect/train3/results.png\n",
            " create mode 100644 runs/detect/train3/train_batch0.jpg\n",
            " create mode 100644 runs/detect/train3/train_batch1.jpg\n",
            " create mode 100644 runs/detect/train3/train_batch2.jpg\n",
            " create mode 100644 runs/detect/train3/train_batch800.jpg\n",
            " create mode 100644 runs/detect/train3/train_batch801.jpg\n",
            " create mode 100644 runs/detect/train3/train_batch802.jpg\n",
            " create mode 100644 runs/detect/train3/val_batch0_labels.jpg\n",
            " create mode 100644 runs/detect/train3/val_batch0_pred.jpg\n",
            " create mode 100644 runs/detect/train3/val_batch1_labels.jpg\n",
            " create mode 100644 runs/detect/train3/val_batch1_pred.jpg\n",
            " create mode 100644 runs/detect/train3/weights/best.pt\n",
            " create mode 100644 runs/detect/train3/weights/last.pt\n"
          ]
        }
      ],
      "source": [
        "!git commit -m 'feat:train_3_classes'"
      ]
    },
    {
      "cell_type": "code",
      "execution_count": 16,
      "metadata": {
        "colab": {
          "base_uri": "https://localhost:8080/"
        },
        "id": "B0JI0HP0GtxD",
        "outputId": "e9faf032-04a9-409d-faea-ed3cfd89c518"
      },
      "outputs": [
        {
          "name": "stdout",
          "output_type": "stream",
          "text": [
            "Enumerating objects: 49, done.\n",
            "Counting objects:   2% (1/49)\rCounting objects:   4% (2/49)\rCounting objects:   6% (3/49)\rCounting objects:   8% (4/49)\rCounting objects:  10% (5/49)\rCounting objects:  12% (6/49)\rCounting objects:  14% (7/49)\rCounting objects:  16% (8/49)\rCounting objects:  18% (9/49)\rCounting objects:  20% (10/49)\rCounting objects:  22% (11/49)\rCounting objects:  24% (12/49)\rCounting objects:  26% (13/49)\rCounting objects:  28% (14/49)\rCounting objects:  30% (15/49)\rCounting objects:  32% (16/49)\rCounting objects:  34% (17/49)\rCounting objects:  36% (18/49)\rCounting objects:  38% (19/49)\rCounting objects:  40% (20/49)\rCounting objects:  42% (21/49)\rCounting objects:  44% (22/49)\rCounting objects:  46% (23/49)\rCounting objects:  48% (24/49)\rCounting objects:  51% (25/49)\rCounting objects:  53% (26/49)\rCounting objects:  55% (27/49)\rCounting objects:  57% (28/49)\rCounting objects:  59% (29/49)\rCounting objects:  61% (30/49)\rCounting objects:  63% (31/49)\rCounting objects:  65% (32/49)\rCounting objects:  67% (33/49)\rCounting objects:  69% (34/49)\rCounting objects:  71% (35/49)\rCounting objects:  73% (36/49)\rCounting objects:  75% (37/49)\rCounting objects:  77% (38/49)\rCounting objects:  79% (39/49)\rCounting objects:  81% (40/49)\rCounting objects:  83% (41/49)\rCounting objects:  85% (42/49)\rCounting objects:  87% (43/49)\rCounting objects:  89% (44/49)\rCounting objects:  91% (45/49)\rCounting objects:  93% (46/49)\rCounting objects:  95% (47/49)\rCounting objects:  97% (48/49)\rCounting objects: 100% (49/49)\rCounting objects: 100% (49/49), done.\n",
            "Delta compression using up to 2 threads\n",
            "Compressing objects: 100% (38/38), done.\n",
            "Writing objects: 100% (40/40), 45.05 MiB | 5.04 MiB/s, done.\n",
            "Total 40 (delta 5), reused 0 (delta 0), pack-reused 0\n",
            "remote: Resolving deltas: 100% (5/5), completed with 4 local objects.\u001b[K\n",
            "To github.com:estebanfoucher/sailboat_CV.git\n",
            "   03dc55b..c3e4b5f  main -> main\n"
          ]
        }
      ],
      "source": [
        "!git push"
      ]
    },
    {
      "cell_type": "code",
      "execution_count": null,
      "metadata": {
        "id": "TipuAErikHPF"
      },
      "outputs": [],
      "source": []
    }
  ],
  "metadata": {
    "accelerator": "GPU",
    "colab": {
      "gpuType": "T4",
      "provenance": []
    },
    "kernelspec": {
      "display_name": "Python 3",
      "name": "python3"
    },
    "language_info": {
      "name": "python"
    }
  },
  "nbformat": 4,
  "nbformat_minor": 0
}
