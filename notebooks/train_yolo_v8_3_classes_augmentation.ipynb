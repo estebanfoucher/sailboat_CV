{
  "cells": [
    {
      "cell_type": "markdown",
      "metadata": {
        "id": "FyRdDYkqAKN4"
      },
      "source": [
        "## Before you start\n",
        "\n",
        "Let's make sure that we have access to GPU. We can use `nvidia-smi` command to do that. In case of any problems navigate to `Edit` -> `Notebook settings` -> `Hardware accelerator`, set it to `GPU`, and then click `Save`."
      ]
    },
    {
      "cell_type": "code",
      "execution_count": 1,
      "metadata": {
        "colab": {
          "base_uri": "https://localhost:8080/"
        },
        "id": "Y8cDtxLIBHgQ",
        "outputId": "215d1259-7336-4c41-c776-56e92760e163"
      },
      "outputs": [
        {
          "output_type": "stream",
          "name": "stdout",
          "text": [
            "Thu Jul  3 14:13:20 2025       \n",
            "+-----------------------------------------------------------------------------------------+\n",
            "| NVIDIA-SMI 550.54.15              Driver Version: 550.54.15      CUDA Version: 12.4     |\n",
            "|-----------------------------------------+------------------------+----------------------+\n",
            "| GPU  Name                 Persistence-M | Bus-Id          Disp.A | Volatile Uncorr. ECC |\n",
            "| Fan  Temp   Perf          Pwr:Usage/Cap |           Memory-Usage | GPU-Util  Compute M. |\n",
            "|                                         |                        |               MIG M. |\n",
            "|=========================================+========================+======================|\n",
            "|   0  Tesla T4                       Off |   00000000:00:04.0 Off |                    0 |\n",
            "| N/A   64C    P8             10W /   70W |       0MiB /  15360MiB |      0%      Default |\n",
            "|                                         |                        |                  N/A |\n",
            "+-----------------------------------------+------------------------+----------------------+\n",
            "                                                                                         \n",
            "+-----------------------------------------------------------------------------------------+\n",
            "| Processes:                                                                              |\n",
            "|  GPU   GI   CI        PID   Type   Process name                              GPU Memory |\n",
            "|        ID   ID                                                               Usage      |\n",
            "|=========================================================================================|\n",
            "|  No running processes found                                                             |\n",
            "+-----------------------------------------------------------------------------------------+\n"
          ]
        }
      ],
      "source": [
        "!nvidia-smi"
      ]
    },
    {
      "cell_type": "code",
      "execution_count": 2,
      "metadata": {
        "colab": {
          "base_uri": "https://localhost:8080/"
        },
        "id": "CjpPg4mGKc1v",
        "outputId": "cb43f6e4-bdba-423b-eb96-587d16f02598"
      },
      "outputs": [
        {
          "output_type": "stream",
          "name": "stdout",
          "text": [
            "/content\n"
          ]
        }
      ],
      "source": [
        "import os\n",
        "HOME = os.getcwd()\n",
        "print(HOME)"
      ]
    },
    {
      "cell_type": "markdown",
      "metadata": {
        "id": "3C3EO_2zNChu"
      },
      "source": [
        "## Install YOLOv8\n",
        "\n",
        "We strive to make our YOLOv8 notebooks work with the latest version of the library. Last tests took place on **06.10.2024** with version **YOLOv8.3.7**.\n",
        "\n",
        "If you notice that our notebook behaves incorrectly - especially if you experience errors that prevent you from going through the tutorial - don't hesitate! Let us know and open an [issue](https://github.com/roboflow/notebooks/issues) on the Roboflow Notebooks repository.\n",
        "\n",
        "YOLOv8 can be installed in two ways - from the source and via pip. This is because it is the first iteration of YOLO to have an official package."
      ]
    },
    {
      "cell_type": "code",
      "execution_count": 3,
      "metadata": {
        "colab": {
          "base_uri": "https://localhost:8080/"
        },
        "id": "tdSMcABDNKW-",
        "outputId": "31eae0fe-baf2-425d-a2f7-b7d2acb42ba2"
      },
      "outputs": [
        {
          "output_type": "stream",
          "name": "stdout",
          "text": [
            "Ultralytics YOLOv8.2.103 🚀 Python-3.11.13 torch-2.6.0+cu124 CUDA:0 (Tesla T4, 15095MiB)\n",
            "Setup complete ✅ (2 CPUs, 12.7 GB RAM, 41.8/112.6 GB disk)\n"
          ]
        }
      ],
      "source": [
        "# Pip install method (recommended)\n",
        "\n",
        "!pip install ultralytics==8.2.103 -q\n",
        "\n",
        "from IPython import display\n",
        "display.clear_output()\n",
        "\n",
        "import ultralytics\n",
        "ultralytics.checks()"
      ]
    },
    {
      "cell_type": "code",
      "execution_count": 4,
      "metadata": {
        "id": "VOEYrlBoP9-E"
      },
      "outputs": [],
      "source": [
        "from ultralytics import YOLO\n",
        "\n",
        "from IPython.display import display, Image"
      ]
    },
    {
      "cell_type": "code",
      "source": [
        "!ssh-keygen -t rsa -b 4096 -f ~/.ssh/id_rsa -N ''\n"
      ],
      "metadata": {
        "colab": {
          "base_uri": "https://localhost:8080/"
        },
        "id": "kQhxCjlC_DEa",
        "outputId": "fd678798-60a6-4c06-f04b-680cfa26a309"
      },
      "execution_count": 6,
      "outputs": [
        {
          "output_type": "stream",
          "name": "stdout",
          "text": [
            "Generating public/private rsa key pair.\n",
            "Created directory '/root/.ssh'.\n",
            "Your identification has been saved in /root/.ssh/id_rsa\n",
            "Your public key has been saved in /root/.ssh/id_rsa.pub\n",
            "The key fingerprint is:\n",
            "SHA256:GBCAHZ6i42zm+mQXesPdd1GOi8RpsQOlEtEPWF3BY4M root@8086cd59604e\n",
            "The key's randomart image is:\n",
            "+---[RSA 4096]----+\n",
            "| oooo.o=...+o.   |\n",
            "|.... ...ooE =    |\n",
            "|. o   o oo.. o.  |\n",
            "|..     + o.+ +   |\n",
            "|o   . . S B o .  |\n",
            "|o. o o . o o o   |\n",
            "| =+ = . . o o    |\n",
            "|+o o .   . .     |\n",
            "|oo.              |\n",
            "+----[SHA256]-----+\n"
          ]
        }
      ]
    },
    {
      "cell_type": "code",
      "source": [
        "!ssh-keyscan -t rsa github.com >> ~/.ssh/known_hosts\n"
      ],
      "metadata": {
        "colab": {
          "base_uri": "https://localhost:8080/"
        },
        "id": "wBPb5yAm_L73",
        "outputId": "48edc8c9-280d-4724-c347-513a41047714"
      },
      "execution_count": 7,
      "outputs": [
        {
          "output_type": "stream",
          "name": "stdout",
          "text": [
            "# github.com:22 SSH-2.0-592a4704\n"
          ]
        }
      ]
    },
    {
      "cell_type": "code",
      "source": [
        "!cat ~/.ssh/id_rsa.pub\n"
      ],
      "metadata": {
        "colab": {
          "base_uri": "https://localhost:8080/"
        },
        "id": "oLaMzFfILo7_",
        "outputId": "707eb1e9-8270-481c-ebfe-79d37d801943"
      },
      "execution_count": 8,
      "outputs": [
        {
          "output_type": "stream",
          "name": "stdout",
          "text": [
            "ssh-rsa AAAAB3NzaC1yc2EAAAADAQABAAACAQC/VgmcN15+e+104ppzoVQQqM7hrVxzedDdz4WVI9AgIwv+2QTSIqm3IWn1Pvzey4AgXu5+Rr0Llc83v+BKFASxapMBATUt0V50JqqDEfhsFdi9TgRnj7b7G39ckEiFeVwOq5Dcq3VyNirwfFC0+XnwKr5zzSlXJ6jqt+IHg8XhL5zjvPWGxbdE7Fqyiz+EK/31PTPbKjIA+E2OPmQC2pnlTfcll9pTpl6eWY1uNLjlOZsCLfx+FGy2/gboNbFQYZL0bHAugFQ01mcvr8jQRlLYscIf1HBN9YbmT32FWETo51HCErLQ9UgadQE55/qpjCKEgwL4y7YxPMmXbqfOxbXwSU0JSRWTqgdROomrP0mwgSgJLSvv1J9Qyyu9yfn/fvIZz547LT8jgCv+chO3StwcWUC3sbmj9D/+vWRuV0XF6Qlev0cBfwaG3aPpQdsp6xnfZ8iLsM2f9NqALZutTHvytrr2lFizyxrHYNxVregQm5CEjl2bdvs5eqQwuhppyNoZoAQC3l6Wl0J0i5v8D9oNx8QdWHBCCnmQJQQx67JR53f4LXHu3eavZKeLgfq+razoWAjvDSY5BZIxU3+K3AMn+qRlvLRh6mQBolQraAjgCmTm0hV8BFQybY9XCf/49iGI9Tz3xqvZc6QiGRw5zFE1BS3wXK/kYpQMiRkFse8BwQ== root@8086cd59604e\n"
          ]
        }
      ]
    },
    {
      "cell_type": "code",
      "source": [
        "!ssh -T git@github.com\n"
      ],
      "metadata": {
        "colab": {
          "base_uri": "https://localhost:8080/"
        },
        "id": "UZGLdrqPMWMY",
        "outputId": "00797101-6f9f-41ac-e766-d13e2b154b16"
      },
      "execution_count": 14,
      "outputs": [
        {
          "output_type": "stream",
          "name": "stdout",
          "text": [
            "Hi estebanfoucher! You've successfully authenticated, but GitHub does not provide shell access.\n"
          ]
        }
      ]
    },
    {
      "cell_type": "code",
      "source": [
        "!git clone git@github.com:estebanfoucher/sailboat_CV.git\n",
        "\n"
      ],
      "metadata": {
        "colab": {
          "base_uri": "https://localhost:8080/"
        },
        "id": "yehv86zoMdNO",
        "outputId": "f087531f-489a-4cfc-f7b0-218491f55481"
      },
      "execution_count": 15,
      "outputs": [
        {
          "output_type": "stream",
          "name": "stdout",
          "text": [
            "Cloning into 'sailboat_CV'...\n",
            "remote: Enumerating objects: 2877, done.\u001b[K\n",
            "remote: Counting objects: 100% (7/7), done.\u001b[K\n",
            "remote: Compressing objects: 100% (7/7), done.\u001b[K\n",
            "remote: Total 2877 (delta 0), reused 0 (delta 0), pack-reused 2870 (from 2)\u001b[K\n",
            "Receiving objects: 100% (2877/2877), 1.14 GiB | 30.62 MiB/s, done.\n",
            "Resolving deltas: 100% (562/562), done.\n",
            "Updating files: 100% (6628/6628), done.\n"
          ]
        }
      ]
    },
    {
      "cell_type": "code",
      "execution_count": 19,
      "metadata": {
        "id": "D2YkphuiaE7_",
        "colab": {
          "base_uri": "https://localhost:8080/"
        },
        "outputId": "4962f22c-48ab-47da-d056-ecb733400dee"
      },
      "outputs": [
        {
          "output_type": "stream",
          "name": "stdout",
          "text": [
            "/content/sailboat_CV\n",
            "New https://pypi.org/project/ultralytics/8.3.161 available 😃 Update with 'pip install -U ultralytics'\n",
            "Ultralytics YOLOv8.2.103 🚀 Python-3.11.13 torch-2.6.0+cu124 CUDA:0 (Tesla T4, 15095MiB)\n",
            "\u001b[34m\u001b[1mengine/trainer: \u001b[0mtask=detect, mode=train, model=yolov8s.pt, data=/content/sailboat_CV/data/splitted_datasets/labels-04/data.yaml, epochs=80, time=None, patience=100, batch=0.8, imgsz=1080, save=True, save_period=-1, cache=False, device=None, workers=8, project=None, name=train3, exist_ok=False, pretrained=True, optimizer=auto, verbose=True, seed=0, deterministic=True, single_cls=False, rect=False, cos_lr=False, close_mosaic=10, resume=False, amp=True, fraction=1.0, profile=False, freeze=None, multi_scale=False, overlap_mask=True, mask_ratio=4, dropout=0.0, val=True, split=val, save_json=False, save_hybrid=False, conf=None, iou=0.7, max_det=300, half=False, dnn=False, plots=True, source=None, vid_stride=1, stream_buffer=False, visualize=False, augment=True, agnostic_nms=False, classes=None, retina_masks=False, embed=None, show=False, save_frames=False, save_txt=False, save_conf=False, save_crop=False, show_labels=True, show_conf=True, show_boxes=True, line_width=None, format=torchscript, keras=False, optimize=False, int8=False, dynamic=False, simplify=True, opset=None, workspace=4, nms=False, lr0=0.01, lrf=0.01, momentum=0.937, weight_decay=0.0005, warmup_epochs=3.0, warmup_momentum=0.8, warmup_bias_lr=0.1, box=7.5, cls=0.5, dfl=1.5, pose=12.0, kobj=1.0, label_smoothing=0.0, nbs=64, hsv_h=0.015, hsv_s=0.7, hsv_v=0.4, degrees=50, translate=0.1, scale=0.5, shear=0.0, perspective=0.0, flipud=0.0, fliplr=0.5, bgr=0.0, mosaic=1.0, mixup=0.0, copy_paste=0.0, auto_augment=randaugment, erasing=0.4, crop_fraction=1.0, cfg=None, tracker=botsort.yaml, save_dir=runs/detect/train3\n",
            "WARNING: All log messages before absl::InitializeLog() is called are written to STDERR\n",
            "E0000 00:00:1751552624.865228    3298 cuda_dnn.cc:8310] Unable to register cuDNN factory: Attempting to register factory for plugin cuDNN when one has already been registered\n",
            "E0000 00:00:1751552624.871232    3298 cuda_blas.cc:1418] Unable to register cuBLAS factory: Attempting to register factory for plugin cuBLAS when one has already been registered\n",
            "Overriding model.yaml nc=80 with nc=3\n",
            "\n",
            "                   from  n    params  module                                       arguments                     \n",
            "  0                  -1  1       928  ultralytics.nn.modules.conv.Conv             [3, 32, 3, 2]                 \n",
            "  1                  -1  1     18560  ultralytics.nn.modules.conv.Conv             [32, 64, 3, 2]                \n",
            "  2                  -1  1     29056  ultralytics.nn.modules.block.C2f             [64, 64, 1, True]             \n",
            "  3                  -1  1     73984  ultralytics.nn.modules.conv.Conv             [64, 128, 3, 2]               \n",
            "  4                  -1  2    197632  ultralytics.nn.modules.block.C2f             [128, 128, 2, True]           \n",
            "  5                  -1  1    295424  ultralytics.nn.modules.conv.Conv             [128, 256, 3, 2]              \n",
            "  6                  -1  2    788480  ultralytics.nn.modules.block.C2f             [256, 256, 2, True]           \n",
            "  7                  -1  1   1180672  ultralytics.nn.modules.conv.Conv             [256, 512, 3, 2]              \n",
            "  8                  -1  1   1838080  ultralytics.nn.modules.block.C2f             [512, 512, 1, True]           \n",
            "  9                  -1  1    656896  ultralytics.nn.modules.block.SPPF            [512, 512, 5]                 \n",
            " 10                  -1  1         0  torch.nn.modules.upsampling.Upsample         [None, 2, 'nearest']          \n",
            " 11             [-1, 6]  1         0  ultralytics.nn.modules.conv.Concat           [1]                           \n",
            " 12                  -1  1    591360  ultralytics.nn.modules.block.C2f             [768, 256, 1]                 \n",
            " 13                  -1  1         0  torch.nn.modules.upsampling.Upsample         [None, 2, 'nearest']          \n",
            " 14             [-1, 4]  1         0  ultralytics.nn.modules.conv.Concat           [1]                           \n",
            " 15                  -1  1    148224  ultralytics.nn.modules.block.C2f             [384, 128, 1]                 \n",
            " 16                  -1  1    147712  ultralytics.nn.modules.conv.Conv             [128, 128, 3, 2]              \n",
            " 17            [-1, 12]  1         0  ultralytics.nn.modules.conv.Concat           [1]                           \n",
            " 18                  -1  1    493056  ultralytics.nn.modules.block.C2f             [384, 256, 1]                 \n",
            " 19                  -1  1    590336  ultralytics.nn.modules.conv.Conv             [256, 256, 3, 2]              \n",
            " 20             [-1, 9]  1         0  ultralytics.nn.modules.conv.Concat           [1]                           \n",
            " 21                  -1  1   1969152  ultralytics.nn.modules.block.C2f             [768, 512, 1]                 \n",
            " 22        [15, 18, 21]  1   2117209  ultralytics.nn.modules.head.Detect           [3, [128, 256, 512]]          \n",
            "Model summary: 225 layers, 11,136,761 parameters, 11,136,745 gradients, 28.7 GFLOPs\n",
            "\n",
            "Transferred 349/355 items from pretrained weights\n",
            "\u001b[34m\u001b[1mTensorBoard: \u001b[0mStart with 'tensorboard --logdir runs/detect/train3', view at http://localhost:6006/\n",
            "Freezing layer 'model.22.dfl.conv.weight'\n",
            "\u001b[34m\u001b[1mAMP: \u001b[0mrunning Automatic Mixed Precision (AMP) checks with YOLOv8n...\n",
            "\u001b[34m\u001b[1mAMP: \u001b[0mchecks passed ✅\n",
            "WARNING ⚠️ imgsz=[1080] must be multiple of max stride 32, updating to [1088]\n",
            "\u001b[34m\u001b[1mAutoBatch: \u001b[0mComputing optimal batch size for imgsz=1088 at 80.0% CUDA memory utilization.\n",
            "\u001b[34m\u001b[1mAutoBatch: \u001b[0mCUDA:0 (Tesla T4) 14.74G total, 0.13G reserved, 0.13G allocated, 14.48G free\n",
            "      Params      GFLOPs  GPU_mem (GB)  forward (ms) backward (ms)                   input                  output\n",
            "    11136761        82.8         0.749         31.62         68.83      (1, 3, 1088, 1088)                    list\n",
            "    11136761       165.6         1.340         34.97         51.73      (2, 3, 1088, 1088)                    list\n",
            "    11136761       331.2         2.542         55.03         64.49      (4, 3, 1088, 1088)                    list\n",
            "    11136761       662.4         4.907         109.8           122      (8, 3, 1088, 1088)                    list\n",
            "    11136761        1325         9.972         218.9         241.2     (16, 3, 1088, 1088)                    list\n",
            "\u001b[34m\u001b[1mAutoBatch: \u001b[0mUsing batch-size 18 for CUDA:0 11.41G/14.74G (77%) ✅\n",
            "\u001b[34m\u001b[1mtrain: \u001b[0mScanning /content/sailboat_CV/data/splitted_datasets/labels-04/train_oversampled/labels.cache... 849 images, 0 backgrounds, 0 corrupt: 100% 849/849 [00:00<?, ?it/s]\n",
            "/usr/local/lib/python3.11/dist-packages/ultralytics/data/augment.py:1837: UserWarning: Argument(s) 'quality_lower' are not valid for transform ImageCompression\n",
            "  A.ImageCompression(quality_lower=75, p=0.0),\n",
            "\u001b[34m\u001b[1malbumentations: \u001b[0mBlur(p=0.01, blur_limit=(3, 7)), MedianBlur(p=0.01, blur_limit=(3, 7)), ToGray(p=0.01, method='weighted_average', num_output_channels=3), CLAHE(p=0.01, clip_limit=(1.0, 4.0), tile_grid_size=(8, 8))\n",
            "\u001b[34m\u001b[1mval: \u001b[0mScanning /content/sailboat_CV/data/splitted_datasets/labels-04/val/labels.cache... 90 images, 22 backgrounds, 0 corrupt: 100% 90/90 [00:00<?, ?it/s]\n",
            "\u001b[34m\u001b[1mval: \u001b[0mWARNING ⚠️ /content/sailboat_CV/data/splitted_datasets/labels-04/val/images/frame_llU5yYlyjPI_169.20s.jpg: 1 duplicate labels removed\n",
            "Plotting labels to runs/detect/train3/labels.jpg... \n",
            "\u001b[34m\u001b[1moptimizer:\u001b[0m 'optimizer=auto' found, ignoring 'lr0=0.01' and 'momentum=0.937' and determining best 'optimizer', 'lr0' and 'momentum' automatically... \n",
            "\u001b[34m\u001b[1moptimizer:\u001b[0m AdamW(lr=0.001429, momentum=0.9) with parameter groups 57 weight(decay=0.0), 64 weight(decay=0.0005625000000000001), 63 bias(decay=0.0)\n",
            "\u001b[34m\u001b[1mTensorBoard: \u001b[0mmodel graph visualization added ✅\n",
            "Image sizes 1088 train, 1088 val\n",
            "Using 2 dataloader workers\n",
            "Logging results to \u001b[1mruns/detect/train3\u001b[0m\n",
            "Starting training for 80 epochs...\n",
            "\n",
            "      Epoch    GPU_mem   box_loss   cls_loss   dfl_loss  Instances       Size\n",
            "       1/80      12.3G        2.8      7.135      1.536         11       1088: 100% 48/48 [00:49<00:00,  1.03s/it]\n",
            "                 Class     Images  Instances      Box(P          R      mAP50  mAP50-95): 100% 3/3 [00:01<00:00,  1.53it/s]\n",
            "                   all         90        353      0.179      0.342      0.107     0.0267\n",
            "\n",
            "      Epoch    GPU_mem   box_loss   cls_loss   dfl_loss  Instances       Size\n",
            "       2/80      12.3G      2.212      2.315      1.226         10       1088: 100% 48/48 [00:46<00:00,  1.03it/s]\n",
            "                 Class     Images  Instances      Box(P          R      mAP50  mAP50-95): 100% 3/3 [00:02<00:00,  1.32it/s]\n",
            "                   all         90        353       0.24      0.225      0.147     0.0482\n",
            "\n",
            "      Epoch    GPU_mem   box_loss   cls_loss   dfl_loss  Instances       Size\n",
            "       3/80      12.3G      2.127      2.074      1.221         23       1088: 100% 48/48 [00:47<00:00,  1.01it/s]\n",
            "                 Class     Images  Instances      Box(P          R      mAP50  mAP50-95): 100% 3/3 [00:01<00:00,  1.62it/s]\n",
            "                   all         90        353      0.261      0.159      0.114     0.0374\n",
            "\n",
            "      Epoch    GPU_mem   box_loss   cls_loss   dfl_loss  Instances       Size\n",
            "       4/80      12.2G      2.128      2.003      1.194         29       1088: 100% 48/48 [00:47<00:00,  1.01it/s]\n",
            "                 Class     Images  Instances      Box(P          R      mAP50  mAP50-95): 100% 3/3 [00:01<00:00,  1.60it/s]\n",
            "                   all         90        353      0.562       0.29      0.304     0.0982\n",
            "\n",
            "      Epoch    GPU_mem   box_loss   cls_loss   dfl_loss  Instances       Size\n",
            "       5/80      12.3G      2.055      1.814       1.16         24       1088: 100% 48/48 [00:46<00:00,  1.02it/s]\n",
            "                 Class     Images  Instances      Box(P          R      mAP50  mAP50-95): 100% 3/3 [00:02<00:00,  1.42it/s]\n",
            "                   all         90        353      0.302      0.242      0.181     0.0601\n",
            "\n",
            "      Epoch    GPU_mem   box_loss   cls_loss   dfl_loss  Instances       Size\n",
            "       6/80      12.1G      1.976      1.696      1.157         31       1088: 100% 48/48 [00:47<00:00,  1.00it/s]\n",
            "                 Class     Images  Instances      Box(P          R      mAP50  mAP50-95): 100% 3/3 [00:01<00:00,  1.69it/s]\n",
            "                   all         90        353      0.537      0.295      0.312     0.0924\n",
            "\n",
            "      Epoch    GPU_mem   box_loss   cls_loss   dfl_loss  Instances       Size\n",
            "       7/80      12.2G      1.924       1.61      1.145         15       1088: 100% 48/48 [00:46<00:00,  1.04it/s]\n",
            "                 Class     Images  Instances      Box(P          R      mAP50  mAP50-95): 100% 3/3 [00:01<00:00,  1.66it/s]\n",
            "                   all         90        353      0.415      0.425      0.369      0.113\n",
            "\n",
            "      Epoch    GPU_mem   box_loss   cls_loss   dfl_loss  Instances       Size\n",
            "       8/80      12.3G      1.907      1.598      1.124          9       1088: 100% 48/48 [00:46<00:00,  1.04it/s]\n",
            "                 Class     Images  Instances      Box(P          R      mAP50  mAP50-95): 100% 3/3 [00:02<00:00,  1.48it/s]\n",
            "                   all         90        353      0.455      0.369      0.342      0.118\n",
            "\n",
            "      Epoch    GPU_mem   box_loss   cls_loss   dfl_loss  Instances       Size\n",
            "       9/80      12.3G      1.906      1.526      1.094         11       1088: 100% 48/48 [00:46<00:00,  1.03it/s]\n",
            "                 Class     Images  Instances      Box(P          R      mAP50  mAP50-95): 100% 3/3 [00:01<00:00,  1.62it/s]\n",
            "                   all         90        353      0.519      0.396      0.401      0.144\n",
            "\n",
            "      Epoch    GPU_mem   box_loss   cls_loss   dfl_loss  Instances       Size\n",
            "      10/80      12.3G      1.832      1.496        1.1         29       1088: 100% 48/48 [00:46<00:00,  1.03it/s]\n",
            "                 Class     Images  Instances      Box(P          R      mAP50  mAP50-95): 100% 3/3 [00:02<00:00,  1.42it/s]\n",
            "                   all         90        353      0.457      0.399      0.354      0.108\n",
            "\n",
            "      Epoch    GPU_mem   box_loss   cls_loss   dfl_loss  Instances       Size\n",
            "      11/80      12.3G      1.832      1.469      1.086         16       1088: 100% 48/48 [00:46<00:00,  1.03it/s]\n",
            "                 Class     Images  Instances      Box(P          R      mAP50  mAP50-95): 100% 3/3 [00:02<00:00,  1.45it/s]\n",
            "                   all         90        353      0.505      0.417      0.405       0.14\n",
            "\n",
            "      Epoch    GPU_mem   box_loss   cls_loss   dfl_loss  Instances       Size\n",
            "      12/80      12.3G      1.791      1.418      1.081         13       1088: 100% 48/48 [00:46<00:00,  1.03it/s]\n",
            "                 Class     Images  Instances      Box(P          R      mAP50  mAP50-95): 100% 3/3 [00:01<00:00,  1.68it/s]\n",
            "                   all         90        353      0.496      0.412      0.373      0.137\n",
            "\n",
            "      Epoch    GPU_mem   box_loss   cls_loss   dfl_loss  Instances       Size\n",
            "      13/80      12.3G       1.79      1.372      1.079         18       1088: 100% 48/48 [00:45<00:00,  1.04it/s]\n",
            "                 Class     Images  Instances      Box(P          R      mAP50  mAP50-95): 100% 3/3 [00:02<00:00,  1.45it/s]\n",
            "                   all         90        353      0.632      0.443      0.472      0.167\n",
            "\n",
            "      Epoch    GPU_mem   box_loss   cls_loss   dfl_loss  Instances       Size\n",
            "      14/80      12.3G      1.764      1.344      1.079          9       1088: 100% 48/48 [00:46<00:00,  1.03it/s]\n",
            "                 Class     Images  Instances      Box(P          R      mAP50  mAP50-95): 100% 3/3 [00:02<00:00,  1.36it/s]\n",
            "                   all         90        353      0.644      0.404      0.453      0.161\n",
            "\n",
            "      Epoch    GPU_mem   box_loss   cls_loss   dfl_loss  Instances       Size\n",
            "      15/80      12.1G      1.778      1.328      1.077         11       1088: 100% 48/48 [00:46<00:00,  1.04it/s]\n",
            "                 Class     Images  Instances      Box(P          R      mAP50  mAP50-95): 100% 3/3 [00:02<00:00,  1.36it/s]\n",
            "                   all         90        353      0.574      0.388      0.395      0.138\n",
            "\n",
            "      Epoch    GPU_mem   box_loss   cls_loss   dfl_loss  Instances       Size\n",
            "      16/80      12.3G      1.721      1.308      1.064         17       1088: 100% 48/48 [00:46<00:00,  1.03it/s]\n",
            "                 Class     Images  Instances      Box(P          R      mAP50  mAP50-95): 100% 3/3 [00:02<00:00,  1.37it/s]\n",
            "                   all         90        353      0.587      0.424      0.429      0.163\n",
            "\n",
            "      Epoch    GPU_mem   box_loss   cls_loss   dfl_loss  Instances       Size\n",
            "      17/80      12.3G      1.713      1.266      1.054         23       1088: 100% 48/48 [00:46<00:00,  1.03it/s]\n",
            "                 Class     Images  Instances      Box(P          R      mAP50  mAP50-95): 100% 3/3 [00:02<00:00,  1.48it/s]\n",
            "                   all         90        353       0.66      0.426      0.466      0.171\n",
            "\n",
            "      Epoch    GPU_mem   box_loss   cls_loss   dfl_loss  Instances       Size\n",
            "      18/80      12.3G       1.69      1.263      1.051         25       1088: 100% 48/48 [00:47<00:00,  1.02it/s]\n",
            "                 Class     Images  Instances      Box(P          R      mAP50  mAP50-95): 100% 3/3 [00:01<00:00,  1.57it/s]\n",
            "                   all         90        353      0.599      0.445      0.438      0.164\n",
            "\n",
            "      Epoch    GPU_mem   box_loss   cls_loss   dfl_loss  Instances       Size\n",
            "      19/80      12.4G      1.688      1.198      1.035          9       1088: 100% 48/48 [00:48<00:00,  1.00s/it]\n",
            "                 Class     Images  Instances      Box(P          R      mAP50  mAP50-95): 100% 3/3 [00:01<00:00,  1.56it/s]\n",
            "                   all         90        353      0.625       0.42      0.471      0.171\n",
            "\n",
            "      Epoch    GPU_mem   box_loss   cls_loss   dfl_loss  Instances       Size\n",
            "      20/80      12.4G      1.712      1.217      1.051          4       1088: 100% 48/48 [00:47<00:00,  1.01it/s]\n",
            "                 Class     Images  Instances      Box(P          R      mAP50  mAP50-95): 100% 3/3 [00:01<00:00,  1.73it/s]\n",
            "                   all         90        353       0.66      0.404      0.438      0.174\n",
            "\n",
            "      Epoch    GPU_mem   box_loss   cls_loss   dfl_loss  Instances       Size\n",
            "      21/80      12.3G       1.66      1.185      1.037         14       1088: 100% 48/48 [00:47<00:00,  1.01it/s]\n",
            "                 Class     Images  Instances      Box(P          R      mAP50  mAP50-95): 100% 3/3 [00:01<00:00,  1.74it/s]\n",
            "                   all         90        353       0.67      0.436       0.51      0.201\n",
            "\n",
            "      Epoch    GPU_mem   box_loss   cls_loss   dfl_loss  Instances       Size\n",
            "      22/80      12.1G      1.651      1.175      1.034         16       1088: 100% 48/48 [00:47<00:00,  1.01it/s]\n",
            "                 Class     Images  Instances      Box(P          R      mAP50  mAP50-95): 100% 3/3 [00:01<00:00,  1.71it/s]\n",
            "                   all         90        353      0.647      0.469       0.48      0.175\n",
            "\n",
            "      Epoch    GPU_mem   box_loss   cls_loss   dfl_loss  Instances       Size\n",
            "      23/80      12.3G      1.648      1.155      1.026         12       1088: 100% 48/48 [00:47<00:00,  1.01it/s]\n",
            "                 Class     Images  Instances      Box(P          R      mAP50  mAP50-95): 100% 3/3 [00:01<00:00,  1.60it/s]\n",
            "                   all         90        353      0.701      0.464        0.5      0.177\n",
            "\n",
            "      Epoch    GPU_mem   box_loss   cls_loss   dfl_loss  Instances       Size\n",
            "      24/80      12.3G      1.627      1.144      1.021         16       1088: 100% 48/48 [00:47<00:00,  1.01it/s]\n",
            "                 Class     Images  Instances      Box(P          R      mAP50  mAP50-95): 100% 3/3 [00:01<00:00,  1.77it/s]\n",
            "                   all         90        353      0.687      0.437      0.496      0.183\n",
            "\n",
            "      Epoch    GPU_mem   box_loss   cls_loss   dfl_loss  Instances       Size\n",
            "      25/80      12.3G      1.589      1.084      1.026         25       1088: 100% 48/48 [00:47<00:00,  1.00it/s]\n",
            "                 Class     Images  Instances      Box(P          R      mAP50  mAP50-95): 100% 3/3 [00:01<00:00,  1.61it/s]\n",
            "                   all         90        353      0.674      0.474      0.505      0.179\n",
            "\n",
            "      Epoch    GPU_mem   box_loss   cls_loss   dfl_loss  Instances       Size\n",
            "      26/80      12.3G      1.567      1.078      1.013         32       1088: 100% 48/48 [00:47<00:00,  1.02it/s]\n",
            "                 Class     Images  Instances      Box(P          R      mAP50  mAP50-95): 100% 3/3 [00:01<00:00,  1.80it/s]\n",
            "                   all         90        353      0.518      0.424      0.398      0.159\n",
            "\n",
            "      Epoch    GPU_mem   box_loss   cls_loss   dfl_loss  Instances       Size\n",
            "      27/80      12.3G      1.599      1.087      1.014         31       1088: 100% 48/48 [00:47<00:00,  1.01it/s]\n",
            "                 Class     Images  Instances      Box(P          R      mAP50  mAP50-95): 100% 3/3 [00:01<00:00,  1.59it/s]\n",
            "                   all         90        353      0.663      0.454      0.497      0.184\n",
            "\n",
            "      Epoch    GPU_mem   box_loss   cls_loss   dfl_loss  Instances       Size\n",
            "      28/80      12.2G      1.577      1.083      1.012         12       1088: 100% 48/48 [00:46<00:00,  1.02it/s]\n",
            "                 Class     Images  Instances      Box(P          R      mAP50  mAP50-95): 100% 3/3 [00:02<00:00,  1.28it/s]\n",
            "                   all         90        353      0.648      0.507      0.513        0.2\n",
            "\n",
            "      Epoch    GPU_mem   box_loss   cls_loss   dfl_loss  Instances       Size\n",
            "      29/80      12.2G      1.535      1.028      1.001         21       1088: 100% 48/48 [00:46<00:00,  1.02it/s]\n",
            "                 Class     Images  Instances      Box(P          R      mAP50  mAP50-95): 100% 3/3 [00:02<00:00,  1.30it/s]\n",
            "                   all         90        353       0.68      0.477       0.51      0.179\n",
            "\n",
            "      Epoch    GPU_mem   box_loss   cls_loss   dfl_loss  Instances       Size\n",
            "      30/80      12.2G      1.499      1.004     0.9978         22       1088: 100% 48/48 [00:46<00:00,  1.03it/s]\n",
            "                 Class     Images  Instances      Box(P          R      mAP50  mAP50-95): 100% 3/3 [00:02<00:00,  1.25it/s]\n",
            "                   all         90        353      0.717      0.443      0.503      0.188\n",
            "\n",
            "      Epoch    GPU_mem   box_loss   cls_loss   dfl_loss  Instances       Size\n",
            "      31/80      12.3G      1.528      1.017     0.9924         14       1088: 100% 48/48 [00:47<00:00,  1.02it/s]\n",
            "                 Class     Images  Instances      Box(P          R      mAP50  mAP50-95): 100% 3/3 [00:02<00:00,  1.21it/s]\n",
            "                   all         90        353      0.654      0.438      0.482      0.183\n",
            "\n",
            "      Epoch    GPU_mem   box_loss   cls_loss   dfl_loss  Instances       Size\n",
            "      32/80      12.3G      1.501      1.006      0.986          5       1088: 100% 48/48 [00:47<00:00,  1.02it/s]\n",
            "                 Class     Images  Instances      Box(P          R      mAP50  mAP50-95): 100% 3/3 [00:02<00:00,  1.29it/s]\n",
            "                   all         90        353      0.632      0.477      0.487      0.173\n",
            "\n",
            "      Epoch    GPU_mem   box_loss   cls_loss   dfl_loss  Instances       Size\n",
            "      33/80      12.3G      1.575      1.009      1.009         21       1088: 100% 48/48 [00:47<00:00,  1.00it/s]\n",
            "                 Class     Images  Instances      Box(P          R      mAP50  mAP50-95): 100% 3/3 [00:02<00:00,  1.31it/s]\n",
            "                   all         90        353       0.62      0.443      0.457      0.177\n",
            "\n",
            "      Epoch    GPU_mem   box_loss   cls_loss   dfl_loss  Instances       Size\n",
            "      34/80      12.3G      1.518      1.001     0.9945         17       1088: 100% 48/48 [00:47<00:00,  1.01it/s]\n",
            "                 Class     Images  Instances      Box(P          R      mAP50  mAP50-95): 100% 3/3 [00:02<00:00,  1.23it/s]\n",
            "                   all         90        353      0.599      0.484      0.502       0.19\n",
            "\n",
            "      Epoch    GPU_mem   box_loss   cls_loss   dfl_loss  Instances       Size\n",
            "      35/80      12.3G      1.498     0.9435     0.9811         13       1088: 100% 48/48 [00:47<00:00,  1.01it/s]\n",
            "                 Class     Images  Instances      Box(P          R      mAP50  mAP50-95): 100% 3/3 [00:02<00:00,  1.29it/s]\n",
            "                   all         90        353      0.589      0.467      0.486      0.193\n",
            "\n",
            "      Epoch    GPU_mem   box_loss   cls_loss   dfl_loss  Instances       Size\n",
            "      36/80      12.3G      1.506     0.9937      1.001         17       1088: 100% 48/48 [00:47<00:00,  1.01it/s]\n",
            "                 Class     Images  Instances      Box(P          R      mAP50  mAP50-95): 100% 3/3 [00:02<00:00,  1.25it/s]\n",
            "                   all         90        353      0.707      0.444      0.515      0.204\n",
            "\n",
            "      Epoch    GPU_mem   box_loss   cls_loss   dfl_loss  Instances       Size\n",
            "      37/80      12.3G      1.496     0.9508     0.9947         13       1088: 100% 48/48 [00:48<00:00,  1.00s/it]\n",
            "                 Class     Images  Instances      Box(P          R      mAP50  mAP50-95): 100% 3/3 [00:02<00:00,  1.36it/s]\n",
            "                   all         90        353       0.65      0.514      0.515      0.206\n",
            "\n",
            "      Epoch    GPU_mem   box_loss   cls_loss   dfl_loss  Instances       Size\n",
            "      38/80      12.1G      1.487     0.9427     0.9844         41       1088: 100% 48/48 [00:47<00:00,  1.01it/s]\n",
            "                 Class     Images  Instances      Box(P          R      mAP50  mAP50-95): 100% 3/3 [00:02<00:00,  1.30it/s]\n",
            "                   all         90        353      0.603      0.548       0.56      0.222\n",
            "\n",
            "      Epoch    GPU_mem   box_loss   cls_loss   dfl_loss  Instances       Size\n",
            "      39/80      12.3G      1.472     0.9109     0.9658          7       1088: 100% 48/48 [00:48<00:00,  1.01s/it]\n",
            "                 Class     Images  Instances      Box(P          R      mAP50  mAP50-95): 100% 3/3 [00:02<00:00,  1.30it/s]\n",
            "                   all         90        353      0.642      0.489      0.496       0.19\n",
            "\n",
            "      Epoch    GPU_mem   box_loss   cls_loss   dfl_loss  Instances       Size\n",
            "      40/80      12.4G      1.442      0.909     0.9632         22       1088: 100% 48/48 [00:47<00:00,  1.00it/s]\n",
            "                 Class     Images  Instances      Box(P          R      mAP50  mAP50-95): 100% 3/3 [00:02<00:00,  1.32it/s]\n",
            "                   all         90        353      0.634      0.512      0.533      0.216\n",
            "\n",
            "      Epoch    GPU_mem   box_loss   cls_loss   dfl_loss  Instances       Size\n",
            "      41/80      12.1G       1.42     0.9004     0.9802         14       1088: 100% 48/48 [00:47<00:00,  1.01it/s]\n",
            "                 Class     Images  Instances      Box(P          R      mAP50  mAP50-95): 100% 3/3 [00:02<00:00,  1.46it/s]\n",
            "                   all         90        353      0.675      0.491      0.511      0.205\n",
            "\n",
            "      Epoch    GPU_mem   box_loss   cls_loss   dfl_loss  Instances       Size\n",
            "      42/80      12.3G      1.407     0.8635     0.9787          8       1088: 100% 48/48 [00:46<00:00,  1.03it/s]\n",
            "                 Class     Images  Instances      Box(P          R      mAP50  mAP50-95): 100% 3/3 [00:02<00:00,  1.29it/s]\n",
            "                   all         90        353      0.666      0.519       0.55      0.224\n",
            "\n",
            "      Epoch    GPU_mem   box_loss   cls_loss   dfl_loss  Instances       Size\n",
            "      43/80        12G      1.389      0.873     0.9686         14       1088: 100% 48/48 [00:48<00:00,  1.00s/it]\n",
            "                 Class     Images  Instances      Box(P          R      mAP50  mAP50-95): 100% 3/3 [00:01<00:00,  1.52it/s]\n",
            "                   all         90        353      0.674      0.452      0.507      0.187\n",
            "\n",
            "      Epoch    GPU_mem   box_loss   cls_loss   dfl_loss  Instances       Size\n",
            "      44/80      12.3G      1.383     0.8547     0.9506         25       1088: 100% 48/48 [00:48<00:00,  1.00s/it]\n",
            "                 Class     Images  Instances      Box(P          R      mAP50  mAP50-95): 100% 3/3 [00:02<00:00,  1.48it/s]\n",
            "                   all         90        353      0.576      0.533      0.548      0.221\n",
            "\n",
            "      Epoch    GPU_mem   box_loss   cls_loss   dfl_loss  Instances       Size\n",
            "      45/80      12.2G      1.351     0.8427     0.9499         11       1088: 100% 48/48 [00:48<00:00,  1.00s/it]\n",
            "                 Class     Images  Instances      Box(P          R      mAP50  mAP50-95): 100% 3/3 [00:01<00:00,  1.51it/s]\n",
            "                   all         90        353      0.633      0.473      0.525      0.221\n",
            "\n",
            "      Epoch    GPU_mem   box_loss   cls_loss   dfl_loss  Instances       Size\n",
            "      46/80      12.3G      1.385     0.8458      0.971         12       1088: 100% 48/48 [00:47<00:00,  1.00it/s]\n",
            "                 Class     Images  Instances      Box(P          R      mAP50  mAP50-95): 100% 3/3 [00:01<00:00,  1.51it/s]\n",
            "                   all         90        353      0.578      0.515      0.512       0.21\n",
            "\n",
            "      Epoch    GPU_mem   box_loss   cls_loss   dfl_loss  Instances       Size\n",
            "      47/80      12.3G      1.375     0.8151     0.9528         16       1088: 100% 48/48 [00:47<00:00,  1.01it/s]\n",
            "                 Class     Images  Instances      Box(P          R      mAP50  mAP50-95): 100% 3/3 [00:02<00:00,  1.39it/s]\n",
            "                   all         90        353      0.622      0.508      0.516       0.21\n",
            "\n",
            "      Epoch    GPU_mem   box_loss   cls_loss   dfl_loss  Instances       Size\n",
            "      48/80      12.3G      1.348     0.8357     0.9501         29       1088: 100% 48/48 [00:47<00:00,  1.00it/s]\n",
            "                 Class     Images  Instances      Box(P          R      mAP50  mAP50-95): 100% 3/3 [00:02<00:00,  1.39it/s]\n",
            "                   all         90        353      0.595      0.474      0.486      0.204\n",
            "\n",
            "      Epoch    GPU_mem   box_loss   cls_loss   dfl_loss  Instances       Size\n",
            "      49/80      12.3G      1.329     0.7932     0.9484         16       1088: 100% 48/48 [00:47<00:00,  1.01it/s]\n",
            "                 Class     Images  Instances      Box(P          R      mAP50  mAP50-95): 100% 3/3 [00:02<00:00,  1.34it/s]\n",
            "                   all         90        353      0.674      0.528      0.563      0.225\n",
            "\n",
            "      Epoch    GPU_mem   box_loss   cls_loss   dfl_loss  Instances       Size\n",
            "      50/80      12.3G      1.342     0.7997     0.9613          7       1088: 100% 48/48 [00:47<00:00,  1.02it/s]\n",
            "                 Class     Images  Instances      Box(P          R      mAP50  mAP50-95): 100% 3/3 [00:02<00:00,  1.29it/s]\n",
            "                   all         90        353      0.575      0.546      0.535      0.221\n",
            "\n",
            "      Epoch    GPU_mem   box_loss   cls_loss   dfl_loss  Instances       Size\n",
            "      51/80      12.3G       1.35     0.7856     0.9451          9       1088: 100% 48/48 [00:47<00:00,  1.00it/s]\n",
            "                 Class     Images  Instances      Box(P          R      mAP50  mAP50-95): 100% 3/3 [00:02<00:00,  1.36it/s]\n",
            "                   all         90        353      0.632      0.554       0.55      0.228\n",
            "\n",
            "      Epoch    GPU_mem   box_loss   cls_loss   dfl_loss  Instances       Size\n",
            "      52/80      12.3G      1.348     0.8163     0.9386         13       1088: 100% 48/48 [00:46<00:00,  1.03it/s]\n",
            "                 Class     Images  Instances      Box(P          R      mAP50  mAP50-95): 100% 3/3 [00:02<00:00,  1.28it/s]\n",
            "                   all         90        353      0.602      0.605      0.561       0.23\n",
            "\n",
            "      Epoch    GPU_mem   box_loss   cls_loss   dfl_loss  Instances       Size\n",
            "      53/80      12.3G      1.264      0.748     0.9388         12       1088: 100% 48/48 [00:47<00:00,  1.00it/s]\n",
            "                 Class     Images  Instances      Box(P          R      mAP50  mAP50-95): 100% 3/3 [00:02<00:00,  1.46it/s]\n",
            "                   all         90        353      0.661      0.469       0.52      0.209\n",
            "\n",
            "      Epoch    GPU_mem   box_loss   cls_loss   dfl_loss  Instances       Size\n",
            "      54/80      12.3G      1.309     0.7657     0.9457         25       1088: 100% 48/48 [00:46<00:00,  1.03it/s]\n",
            "                 Class     Images  Instances      Box(P          R      mAP50  mAP50-95): 100% 3/3 [00:02<00:00,  1.31it/s]\n",
            "                   all         90        353      0.673       0.44      0.518      0.214\n",
            "\n",
            "      Epoch    GPU_mem   box_loss   cls_loss   dfl_loss  Instances       Size\n",
            "      55/80      12.1G      1.298     0.7564     0.9379         17       1088: 100% 48/48 [00:47<00:00,  1.02it/s]\n",
            "                 Class     Images  Instances      Box(P          R      mAP50  mAP50-95): 100% 3/3 [00:02<00:00,  1.34it/s]\n",
            "                   all         90        353      0.646      0.477      0.546      0.222\n",
            "\n",
            "      Epoch    GPU_mem   box_loss   cls_loss   dfl_loss  Instances       Size\n",
            "      56/80      12.1G      1.274     0.7574      0.942         19       1088: 100% 48/48 [00:46<00:00,  1.03it/s]\n",
            "                 Class     Images  Instances      Box(P          R      mAP50  mAP50-95): 100% 3/3 [00:02<00:00,  1.29it/s]\n",
            "                   all         90        353      0.661      0.495      0.548      0.235\n",
            "\n",
            "      Epoch    GPU_mem   box_loss   cls_loss   dfl_loss  Instances       Size\n",
            "      57/80      12.3G      1.259     0.7468     0.9213         16       1088: 100% 48/48 [00:47<00:00,  1.02it/s]\n",
            "                 Class     Images  Instances      Box(P          R      mAP50  mAP50-95): 100% 3/3 [00:02<00:00,  1.39it/s]\n",
            "                   all         90        353      0.613      0.534      0.542      0.219\n",
            "\n",
            "      Epoch    GPU_mem   box_loss   cls_loss   dfl_loss  Instances       Size\n",
            "      58/80      12.2G      1.257     0.7403     0.9369         50       1088: 100% 48/48 [00:47<00:00,  1.02it/s]\n",
            "                 Class     Images  Instances      Box(P          R      mAP50  mAP50-95): 100% 3/3 [00:01<00:00,  1.61it/s]\n",
            "                   all         90        353      0.636      0.562      0.541       0.22\n",
            "\n",
            "      Epoch    GPU_mem   box_loss   cls_loss   dfl_loss  Instances       Size\n",
            "      59/80      12.4G      1.228     0.7257     0.9199         13       1088: 100% 48/48 [00:47<00:00,  1.01it/s]\n",
            "                 Class     Images  Instances      Box(P          R      mAP50  mAP50-95): 100% 3/3 [00:01<00:00,  1.75it/s]\n",
            "                   all         90        353      0.645      0.491      0.538      0.225\n",
            "\n",
            "      Epoch    GPU_mem   box_loss   cls_loss   dfl_loss  Instances       Size\n",
            "      60/80      12.2G      1.227     0.7029     0.9174         23       1088: 100% 48/48 [00:47<00:00,  1.00it/s]\n",
            "                 Class     Images  Instances      Box(P          R      mAP50  mAP50-95): 100% 3/3 [00:01<00:00,  1.66it/s]\n",
            "                   all         90        353      0.631       0.53      0.562      0.235\n",
            "\n",
            "      Epoch    GPU_mem   box_loss   cls_loss   dfl_loss  Instances       Size\n",
            "      61/80      12.4G      1.205      0.714     0.9204         33       1088: 100% 48/48 [00:47<00:00,  1.01it/s]\n",
            "                 Class     Images  Instances      Box(P          R      mAP50  mAP50-95): 100% 3/3 [00:01<00:00,  1.61it/s]\n",
            "                   all         90        353      0.678      0.481      0.534      0.212\n",
            "\n",
            "      Epoch    GPU_mem   box_loss   cls_loss   dfl_loss  Instances       Size\n",
            "      62/80      12.2G      1.219     0.7074      0.923         17       1088: 100% 48/48 [00:47<00:00,  1.02it/s]\n",
            "                 Class     Images  Instances      Box(P          R      mAP50  mAP50-95): 100% 3/3 [00:01<00:00,  1.61it/s]\n",
            "                   all         90        353        0.6      0.527      0.562      0.229\n",
            "\n",
            "      Epoch    GPU_mem   box_loss   cls_loss   dfl_loss  Instances       Size\n",
            "      63/80      12.2G      1.205     0.6929     0.9179         11       1088: 100% 48/48 [00:47<00:00,  1.01it/s]\n",
            "                 Class     Images  Instances      Box(P          R      mAP50  mAP50-95): 100% 3/3 [00:01<00:00,  1.79it/s]\n",
            "                   all         90        353      0.678      0.497      0.568      0.234\n",
            "\n",
            "      Epoch    GPU_mem   box_loss   cls_loss   dfl_loss  Instances       Size\n",
            "      64/80      12.2G      1.189     0.6832     0.9209         12       1088: 100% 48/48 [00:47<00:00,  1.01it/s]\n",
            "                 Class     Images  Instances      Box(P          R      mAP50  mAP50-95): 100% 3/3 [00:01<00:00,  1.69it/s]\n",
            "                   all         90        353      0.662      0.512      0.577      0.241\n",
            "\n",
            "      Epoch    GPU_mem   box_loss   cls_loss   dfl_loss  Instances       Size\n",
            "      65/80      12.3G      1.151     0.6648     0.9103         24       1088: 100% 48/48 [00:47<00:00,  1.00it/s]\n",
            "                 Class     Images  Instances      Box(P          R      mAP50  mAP50-95): 100% 3/3 [00:01<00:00,  1.80it/s]\n",
            "                   all         90        353      0.623      0.528      0.541      0.224\n",
            "\n",
            "      Epoch    GPU_mem   box_loss   cls_loss   dfl_loss  Instances       Size\n",
            "      66/80      12.2G       1.22     0.6998     0.9016          2       1088: 100% 48/48 [00:47<00:00,  1.01it/s]\n",
            "                 Class     Images  Instances      Box(P          R      mAP50  mAP50-95): 100% 3/3 [00:01<00:00,  1.69it/s]\n",
            "                   all         90        353      0.672      0.506      0.543      0.231\n",
            "\n",
            "      Epoch    GPU_mem   box_loss   cls_loss   dfl_loss  Instances       Size\n",
            "      67/80      12.3G      1.153     0.6558     0.9138         12       1088: 100% 48/48 [00:47<00:00,  1.02it/s]\n",
            "                 Class     Images  Instances      Box(P          R      mAP50  mAP50-95): 100% 3/3 [00:01<00:00,  1.53it/s]\n",
            "                   all         90        353      0.693        0.5      0.567      0.231\n",
            "\n",
            "      Epoch    GPU_mem   box_loss   cls_loss   dfl_loss  Instances       Size\n",
            "      68/80      12.3G      1.199     0.6936     0.9133         14       1088: 100% 48/48 [00:47<00:00,  1.01it/s]\n",
            "                 Class     Images  Instances      Box(P          R      mAP50  mAP50-95): 100% 3/3 [00:01<00:00,  1.69it/s]\n",
            "                   all         90        353      0.631      0.498      0.543      0.227\n",
            "\n",
            "      Epoch    GPU_mem   box_loss   cls_loss   dfl_loss  Instances       Size\n",
            "      69/80      12.3G      1.137     0.6394     0.8985         15       1088: 100% 48/48 [00:47<00:00,  1.02it/s]\n",
            "                 Class     Images  Instances      Box(P          R      mAP50  mAP50-95): 100% 3/3 [00:02<00:00,  1.40it/s]\n",
            "                   all         90        353       0.64      0.535      0.562      0.234\n",
            "\n",
            "      Epoch    GPU_mem   box_loss   cls_loss   dfl_loss  Instances       Size\n",
            "      70/80      12.3G      1.153     0.6587     0.9051         19       1088: 100% 48/48 [00:47<00:00,  1.00it/s]\n",
            "                 Class     Images  Instances      Box(P          R      mAP50  mAP50-95): 100% 3/3 [00:02<00:00,  1.44it/s]\n",
            "                   all         90        353      0.606      0.561      0.544      0.225\n",
            "Closing dataloader mosaic\n",
            "/usr/local/lib/python3.11/dist-packages/ultralytics/data/augment.py:1837: UserWarning: Argument(s) 'quality_lower' are not valid for transform ImageCompression\n",
            "  A.ImageCompression(quality_lower=75, p=0.0),\n",
            "\u001b[34m\u001b[1malbumentations: \u001b[0mBlur(p=0.01, blur_limit=(3, 7)), MedianBlur(p=0.01, blur_limit=(3, 7)), ToGray(p=0.01, method='weighted_average', num_output_channels=3), CLAHE(p=0.01, clip_limit=(1.0, 4.0), tile_grid_size=(8, 8))\n",
            "\n",
            "      Epoch    GPU_mem   box_loss   cls_loss   dfl_loss  Instances       Size\n",
            "      71/80      12.2G      1.172     0.6618     0.9237         12       1088: 100% 48/48 [00:50<00:00,  1.05s/it]\n",
            "                 Class     Images  Instances      Box(P          R      mAP50  mAP50-95): 100% 3/3 [00:01<00:00,  1.74it/s]\n",
            "                   all         90        353      0.636      0.516      0.554      0.223\n",
            "\n",
            "      Epoch    GPU_mem   box_loss   cls_loss   dfl_loss  Instances       Size\n",
            "      72/80      12.2G      1.114     0.6261     0.9109         11       1088: 100% 48/48 [00:44<00:00,  1.07it/s]\n",
            "                 Class     Images  Instances      Box(P          R      mAP50  mAP50-95): 100% 3/3 [00:02<00:00,  1.31it/s]\n",
            "                   all         90        353      0.632      0.534      0.546      0.217\n",
            "\n",
            "      Epoch    GPU_mem   box_loss   cls_loss   dfl_loss  Instances       Size\n",
            "      73/80      12.1G      1.088     0.6115     0.9094          9       1088: 100% 48/48 [00:44<00:00,  1.09it/s]\n",
            "                 Class     Images  Instances      Box(P          R      mAP50  mAP50-95): 100% 3/3 [00:01<00:00,  1.58it/s]\n",
            "                   all         90        353      0.585      0.554      0.539      0.224\n",
            "\n",
            "      Epoch    GPU_mem   box_loss   cls_loss   dfl_loss  Instances       Size\n",
            "      74/80      12.1G      1.077     0.5987     0.9064          2       1088: 100% 48/48 [00:44<00:00,  1.07it/s]\n",
            "                 Class     Images  Instances      Box(P          R      mAP50  mAP50-95): 100% 3/3 [00:01<00:00,  1.56it/s]\n",
            "                   all         90        353      0.594      0.558      0.562      0.224\n",
            "\n",
            "      Epoch    GPU_mem   box_loss   cls_loss   dfl_loss  Instances       Size\n",
            "      75/80      12.2G      1.093     0.6079     0.8929          6       1088: 100% 48/48 [00:45<00:00,  1.05it/s]\n",
            "                 Class     Images  Instances      Box(P          R      mAP50  mAP50-95): 100% 3/3 [00:01<00:00,  1.74it/s]\n",
            "                   all         90        353       0.56      0.585      0.544      0.233\n",
            "\n",
            "      Epoch    GPU_mem   box_loss   cls_loss   dfl_loss  Instances       Size\n",
            "      76/80      12.2G      1.052     0.5962     0.8957          8       1088: 100% 48/48 [00:46<00:00,  1.03it/s]\n",
            "                 Class     Images  Instances      Box(P          R      mAP50  mAP50-95): 100% 3/3 [00:01<00:00,  1.64it/s]\n",
            "                   all         90        353      0.668      0.488      0.553      0.233\n",
            "\n",
            "      Epoch    GPU_mem   box_loss   cls_loss   dfl_loss  Instances       Size\n",
            "      77/80      12.2G       1.05     0.5792     0.8934         29       1088: 100% 48/48 [00:44<00:00,  1.07it/s]\n",
            "                 Class     Images  Instances      Box(P          R      mAP50  mAP50-95): 100% 3/3 [00:02<00:00,  1.24it/s]\n",
            "                   all         90        353      0.645      0.511      0.554      0.229\n",
            "\n",
            "      Epoch    GPU_mem   box_loss   cls_loss   dfl_loss  Instances       Size\n",
            "      78/80      12.1G      1.028     0.5727     0.8885          7       1088: 100% 48/48 [00:45<00:00,  1.06it/s]\n",
            "                 Class     Images  Instances      Box(P          R      mAP50  mAP50-95): 100% 3/3 [00:01<00:00,  1.73it/s]\n",
            "                   all         90        353      0.697      0.482      0.549       0.23\n",
            "\n",
            "      Epoch    GPU_mem   box_loss   cls_loss   dfl_loss  Instances       Size\n",
            "      79/80      12.3G      1.041     0.5667     0.8964         10       1088: 100% 48/48 [00:45<00:00,  1.06it/s]\n",
            "                 Class     Images  Instances      Box(P          R      mAP50  mAP50-95): 100% 3/3 [00:01<00:00,  1.70it/s]\n",
            "                   all         90        353      0.567      0.561      0.558      0.233\n",
            "\n",
            "      Epoch    GPU_mem   box_loss   cls_loss   dfl_loss  Instances       Size\n",
            "      80/80      12.3G      1.035     0.5733     0.8942         14       1088: 100% 48/48 [00:45<00:00,  1.05it/s]\n",
            "                 Class     Images  Instances      Box(P          R      mAP50  mAP50-95): 100% 3/3 [00:01<00:00,  1.66it/s]\n",
            "                   all         90        353      0.689      0.476       0.55      0.232\n",
            "\n",
            "80 epochs completed in 1.158 hours.\n",
            "Optimizer stripped from runs/detect/train3/weights/last.pt, 22.6MB\n",
            "Optimizer stripped from runs/detect/train3/weights/best.pt, 22.6MB\n",
            "\n",
            "Validating runs/detect/train3/weights/best.pt...\n",
            "Ultralytics YOLOv8.2.103 🚀 Python-3.11.13 torch-2.6.0+cu124 CUDA:0 (Tesla T4, 15095MiB)\n",
            "Model summary (fused): 168 layers, 11,126,745 parameters, 0 gradients, 28.4 GFLOPs\n",
            "                 Class     Images  Instances      Box(P          R      mAP50  mAP50-95): 100% 3/3 [00:04<00:00,  1.49s/it]\n",
            "                   all         90        353      0.547      0.583      0.559      0.236\n",
            "       pennon_attached         59        226       0.58      0.637      0.634      0.299\n",
            "       pennon_detached         32         83      0.515      0.542      0.529        0.2\n",
            "          pennon_leech         24         44      0.544      0.568      0.512      0.208\n",
            "Speed: 0.4ms preprocess, 36.5ms inference, 0.0ms loss, 2.6ms postprocess per image\n",
            "Results saved to \u001b[1mruns/detect/train3\u001b[0m\n",
            "💡 Learn more at https://docs.ultralytics.com/modes/train\n"
          ]
        }
      ],
      "source": [
        "%cd {HOME}/sailboat_CV/\n",
        "\n",
        "!yolo task=detect mode=train model=yolov8s.pt data=/content/sailboat_CV/data/splitted_datasets/labels-04/data.yaml epochs=80 imgsz=1080 augment=True batch=0.8 degrees=50"
      ]
    },
    {
      "cell_type": "code",
      "execution_count": null,
      "metadata": {
        "colab": {
          "base_uri": "https://localhost:8080/"
        },
        "id": "1MScstfHhArr",
        "outputId": "0d332b29-3f5c-44fd-f31d-1e1a53ea5264"
      },
      "outputs": [
        {
          "output_type": "stream",
          "name": "stdout",
          "text": [
            "total 4656\n",
            "drwxr-xr-x 3 root root   4096 Jun 10 13:46 .\n",
            "drwxr-xr-x 3 root root   4096 Jun 10 13:44 ..\n",
            "-rw-r--r-- 1 root root   1574 Jun 10 13:44 args.yaml\n",
            "-rw-r--r-- 1 root root  88182 Jun 10 13:46 confusion_matrix_normalized.png\n",
            "-rw-r--r-- 1 root root  85014 Jun 10 13:46 confusion_matrix.png\n",
            "-rw-r--r-- 1 root root 202537 Jun 10 13:46 events.out.tfevents.1749563058.27ec866411b0.6426.0\n",
            "-rw-r--r-- 1 root root 100377 Jun 10 13:46 F1_curve.png\n",
            "-rw-r--r-- 1 root root 189627 Jun 10 13:44 labels_correlogram.jpg\n",
            "-rw-r--r-- 1 root root  97727 Jun 10 13:44 labels.jpg\n",
            "-rw-r--r-- 1 root root 122787 Jun 10 13:46 P_curve.png\n",
            "-rw-r--r-- 1 root root  80099 Jun 10 13:46 PR_curve.png\n",
            "-rw-r--r-- 1 root root  98132 Jun 10 13:46 R_curve.png\n",
            "-rw-r--r-- 1 root root   8736 Jun 10 13:46 results.csv\n",
            "-rw-r--r-- 1 root root 296747 Jun 10 13:46 results.png\n",
            "-rw-r--r-- 1 root root 580967 Jun 10 13:44 train_batch0.jpg\n",
            "-rw-r--r-- 1 root root 553996 Jun 10 13:44 train_batch1.jpg\n",
            "-rw-r--r-- 1 root root 418846 Jun 10 13:44 train_batch2.jpg\n",
            "-rw-r--r-- 1 root root 435298 Jun 10 13:45 train_batch45.jpg\n",
            "-rw-r--r-- 1 root root 483868 Jun 10 13:45 train_batch46.jpg\n",
            "-rw-r--r-- 1 root root 317879 Jun 10 13:45 train_batch47.jpg\n",
            "-rw-r--r-- 1 root root 277460 Jun 10 13:46 val_batch0_labels.jpg\n",
            "-rw-r--r-- 1 root root 276312 Jun 10 13:46 val_batch0_pred.jpg\n",
            "drwxr-xr-x 2 root root   4096 Jun 10 13:44 weights\n"
          ]
        }
      ],
      "source": [
        "!ls -la {HOME}/sailboat_CV/runs/detect/train/"
      ]
    },
    {
      "cell_type": "code",
      "execution_count": null,
      "metadata": {
        "colab": {
          "base_uri": "https://localhost:8080/"
        },
        "id": "U_ZOpnH9scaU",
        "outputId": "46538f72-7b49-4c3c-d60d-407d1da93cb3"
      },
      "outputs": [
        {
          "output_type": "stream",
          "name": "stdout",
          "text": [
            "cat: /content/sailboat_CV/runs/classify/train/results.csv: No such file or directory\n"
          ]
        }
      ],
      "source": [
        "!cat {HOME}/sailboat_CV/runs/classify/train/results.csv | head -10"
      ]
    },
    {
      "cell_type": "code",
      "source": [
        "!ls"
      ],
      "metadata": {
        "colab": {
          "base_uri": "https://localhost:8080/"
        },
        "id": "Po2LRPLjGOaQ",
        "outputId": "192a7659-1239-4345-b24f-00e41fab020a"
      },
      "execution_count": null,
      "outputs": [
        {
          "output_type": "stream",
          "name": "stdout",
          "text": [
            "cmd\t  docker\tREADME.md\t  runs\t yolov8n.pt\n",
            "datasets  labeled_data\trequirements.txt  utils  yolov8s.pt\n"
          ]
        }
      ]
    },
    {
      "cell_type": "code",
      "source": [
        "!git add -A"
      ],
      "metadata": {
        "id": "x6BkkWoxGSMJ"
      },
      "execution_count": 20,
      "outputs": []
    },
    {
      "cell_type": "code",
      "source": [
        "!git status"
      ],
      "metadata": {
        "colab": {
          "base_uri": "https://localhost:8080/"
        },
        "id": "8q8kez77GWA0",
        "outputId": "fa9191d3-5ac7-4d35-81ef-649433057890"
      },
      "execution_count": 21,
      "outputs": [
        {
          "output_type": "stream",
          "name": "stdout",
          "text": [
            "On branch main\n",
            "Your branch is up to date with 'origin/main'.\n",
            "\n",
            "Changes to be committed:\n",
            "  (use \"git restore --staged <file>...\" to unstage)\n",
            "\t\u001b[32mmodified:   data/splitted_datasets/labels-04/data.yaml\u001b[m\n",
            "\t\u001b[32mnew file:   data/splitted_datasets/labels-04/train_oversampled/labels.cache\u001b[m\n",
            "\t\u001b[32mnew file:   data/splitted_datasets/labels-04/val/labels.cache\u001b[m\n",
            "\t\u001b[32mnew file:   runs/detect/train/args.yaml\u001b[m\n",
            "\t\u001b[32mnew file:   runs/detect/train2/F1_curve.png\u001b[m\n",
            "\t\u001b[32mnew file:   runs/detect/train2/PR_curve.png\u001b[m\n",
            "\t\u001b[32mnew file:   runs/detect/train2/P_curve.png\u001b[m\n",
            "\t\u001b[32mnew file:   runs/detect/train2/R_curve.png\u001b[m\n",
            "\t\u001b[32mnew file:   runs/detect/train2/args.yaml\u001b[m\n",
            "\t\u001b[32mnew file:   runs/detect/train2/confusion_matrix.png\u001b[m\n",
            "\t\u001b[32mnew file:   runs/detect/train2/confusion_matrix_normalized.png\u001b[m\n",
            "\t\u001b[32mnew file:   runs/detect/train2/events.out.tfevents.1751552450.8086cd59604e.2483.0\u001b[m\n",
            "\t\u001b[32mnew file:   runs/detect/train2/labels.jpg\u001b[m\n",
            "\t\u001b[32mnew file:   runs/detect/train2/labels_correlogram.jpg\u001b[m\n",
            "\t\u001b[32mnew file:   runs/detect/train2/results.csv\u001b[m\n",
            "\t\u001b[32mnew file:   runs/detect/train2/results.png\u001b[m\n",
            "\t\u001b[32mnew file:   runs/detect/train2/train_batch0.jpg\u001b[m\n",
            "\t\u001b[32mnew file:   runs/detect/train2/train_batch1.jpg\u001b[m\n",
            "\t\u001b[32mnew file:   runs/detect/train2/train_batch2.jpg\u001b[m\n",
            "\t\u001b[32mnew file:   runs/detect/train2/val_batch0_labels.jpg\u001b[m\n",
            "\t\u001b[32mnew file:   runs/detect/train2/val_batch0_pred.jpg\u001b[m\n",
            "\t\u001b[32mnew file:   runs/detect/train2/val_batch1_labels.jpg\u001b[m\n",
            "\t\u001b[32mnew file:   runs/detect/train2/val_batch1_pred.jpg\u001b[m\n",
            "\t\u001b[32mnew file:   runs/detect/train2/val_batch2_labels.jpg\u001b[m\n",
            "\t\u001b[32mnew file:   runs/detect/train2/val_batch2_pred.jpg\u001b[m\n",
            "\t\u001b[32mnew file:   runs/detect/train2/weights/best.pt\u001b[m\n",
            "\t\u001b[32mnew file:   runs/detect/train2/weights/last.pt\u001b[m\n",
            "\t\u001b[32mnew file:   runs/detect/train3/F1_curve.png\u001b[m\n",
            "\t\u001b[32mnew file:   runs/detect/train3/PR_curve.png\u001b[m\n",
            "\t\u001b[32mnew file:   runs/detect/train3/P_curve.png\u001b[m\n",
            "\t\u001b[32mnew file:   runs/detect/train3/R_curve.png\u001b[m\n",
            "\t\u001b[32mnew file:   runs/detect/train3/args.yaml\u001b[m\n",
            "\t\u001b[32mnew file:   runs/detect/train3/confusion_matrix.png\u001b[m\n",
            "\t\u001b[32mnew file:   runs/detect/train3/confusion_matrix_normalized.png\u001b[m\n",
            "\t\u001b[32mnew file:   runs/detect/train3/events.out.tfevents.1751552628.8086cd59604e.3298.0\u001b[m\n",
            "\t\u001b[32mnew file:   runs/detect/train3/labels.jpg\u001b[m\n",
            "\t\u001b[32mnew file:   runs/detect/train3/labels_correlogram.jpg\u001b[m\n",
            "\t\u001b[32mnew file:   runs/detect/train3/results.csv\u001b[m\n",
            "\t\u001b[32mnew file:   runs/detect/train3/results.png\u001b[m\n",
            "\t\u001b[32mnew file:   runs/detect/train3/train_batch0.jpg\u001b[m\n",
            "\t\u001b[32mnew file:   runs/detect/train3/train_batch1.jpg\u001b[m\n",
            "\t\u001b[32mnew file:   runs/detect/train3/train_batch2.jpg\u001b[m\n",
            "\t\u001b[32mnew file:   runs/detect/train3/train_batch3360.jpg\u001b[m\n",
            "\t\u001b[32mnew file:   runs/detect/train3/train_batch3361.jpg\u001b[m\n",
            "\t\u001b[32mnew file:   runs/detect/train3/train_batch3362.jpg\u001b[m\n",
            "\t\u001b[32mnew file:   runs/detect/train3/val_batch0_labels.jpg\u001b[m\n",
            "\t\u001b[32mnew file:   runs/detect/train3/val_batch0_pred.jpg\u001b[m\n",
            "\t\u001b[32mnew file:   runs/detect/train3/val_batch1_labels.jpg\u001b[m\n",
            "\t\u001b[32mnew file:   runs/detect/train3/val_batch1_pred.jpg\u001b[m\n",
            "\t\u001b[32mnew file:   runs/detect/train3/val_batch2_labels.jpg\u001b[m\n",
            "\t\u001b[32mnew file:   runs/detect/train3/val_batch2_pred.jpg\u001b[m\n",
            "\t\u001b[32mnew file:   runs/detect/train3/weights/best.pt\u001b[m\n",
            "\t\u001b[32mnew file:   runs/detect/train3/weights/last.pt\u001b[m\n",
            "\n"
          ]
        }
      ]
    },
    {
      "cell_type": "code",
      "source": [
        "!git config user.name \"estebanfoucher\"\n",
        "!git config user.email \"estefoucher@gmail.com\""
      ],
      "metadata": {
        "id": "22PQimvkGfms"
      },
      "execution_count": 22,
      "outputs": []
    },
    {
      "cell_type": "code",
      "source": [
        "!git commit -m 'feat:second_train_3_classes'"
      ],
      "metadata": {
        "colab": {
          "base_uri": "https://localhost:8080/"
        },
        "id": "wLI1cDHXGZGp",
        "outputId": "6b56e197-ac9e-4d69-d43d-5460ebcf0559"
      },
      "execution_count": 23,
      "outputs": [
        {
          "output_type": "stream",
          "name": "stdout",
          "text": [
            "[main e6522c8] feat:second_train_3_classes\n",
            " 53 files changed, 404 insertions(+), 2 deletions(-)\n",
            " create mode 100644 data/splitted_datasets/labels-04/train_oversampled/labels.cache\n",
            " create mode 100644 data/splitted_datasets/labels-04/val/labels.cache\n",
            " create mode 100644 runs/detect/train/args.yaml\n",
            " create mode 100644 runs/detect/train2/F1_curve.png\n",
            " create mode 100644 runs/detect/train2/PR_curve.png\n",
            " create mode 100644 runs/detect/train2/P_curve.png\n",
            " create mode 100644 runs/detect/train2/R_curve.png\n",
            " create mode 100644 runs/detect/train2/args.yaml\n",
            " create mode 100644 runs/detect/train2/confusion_matrix.png\n",
            " create mode 100644 runs/detect/train2/confusion_matrix_normalized.png\n",
            " create mode 100644 runs/detect/train2/events.out.tfevents.1751552450.8086cd59604e.2483.0\n",
            " create mode 100644 runs/detect/train2/labels.jpg\n",
            " create mode 100644 runs/detect/train2/labels_correlogram.jpg\n",
            " create mode 100644 runs/detect/train2/results.csv\n",
            " create mode 100644 runs/detect/train2/results.png\n",
            " create mode 100644 runs/detect/train2/train_batch0.jpg\n",
            " create mode 100644 runs/detect/train2/train_batch1.jpg\n",
            " create mode 100644 runs/detect/train2/train_batch2.jpg\n",
            " create mode 100644 runs/detect/train2/val_batch0_labels.jpg\n",
            " create mode 100644 runs/detect/train2/val_batch0_pred.jpg\n",
            " create mode 100644 runs/detect/train2/val_batch1_labels.jpg\n",
            " create mode 100644 runs/detect/train2/val_batch1_pred.jpg\n",
            " create mode 100644 runs/detect/train2/val_batch2_labels.jpg\n",
            " create mode 100644 runs/detect/train2/val_batch2_pred.jpg\n",
            " create mode 100644 runs/detect/train2/weights/best.pt\n",
            " create mode 100644 runs/detect/train2/weights/last.pt\n",
            " create mode 100644 runs/detect/train3/F1_curve.png\n",
            " create mode 100644 runs/detect/train3/PR_curve.png\n",
            " create mode 100644 runs/detect/train3/P_curve.png\n",
            " create mode 100644 runs/detect/train3/R_curve.png\n",
            " create mode 100644 runs/detect/train3/args.yaml\n",
            " create mode 100644 runs/detect/train3/confusion_matrix.png\n",
            " create mode 100644 runs/detect/train3/confusion_matrix_normalized.png\n",
            " create mode 100644 runs/detect/train3/events.out.tfevents.1751552628.8086cd59604e.3298.0\n",
            " create mode 100644 runs/detect/train3/labels.jpg\n",
            " create mode 100644 runs/detect/train3/labels_correlogram.jpg\n",
            " create mode 100644 runs/detect/train3/results.csv\n",
            " create mode 100644 runs/detect/train3/results.png\n",
            " create mode 100644 runs/detect/train3/train_batch0.jpg\n",
            " create mode 100644 runs/detect/train3/train_batch1.jpg\n",
            " create mode 100644 runs/detect/train3/train_batch2.jpg\n",
            " create mode 100644 runs/detect/train3/train_batch3360.jpg\n",
            " create mode 100644 runs/detect/train3/train_batch3361.jpg\n",
            " create mode 100644 runs/detect/train3/train_batch3362.jpg\n",
            " create mode 100644 runs/detect/train3/val_batch0_labels.jpg\n",
            " create mode 100644 runs/detect/train3/val_batch0_pred.jpg\n",
            " create mode 100644 runs/detect/train3/val_batch1_labels.jpg\n",
            " create mode 100644 runs/detect/train3/val_batch1_pred.jpg\n",
            " create mode 100644 runs/detect/train3/val_batch2_labels.jpg\n",
            " create mode 100644 runs/detect/train3/val_batch2_pred.jpg\n",
            " create mode 100644 runs/detect/train3/weights/best.pt\n",
            " create mode 100644 runs/detect/train3/weights/last.pt\n"
          ]
        }
      ]
    },
    {
      "cell_type": "code",
      "source": [
        "!git push"
      ],
      "metadata": {
        "colab": {
          "base_uri": "https://localhost:8080/"
        },
        "id": "B0JI0HP0GtxD",
        "outputId": "33fb7a3e-174b-4e61-8639-15b9d7bb8ee4"
      },
      "execution_count": 24,
      "outputs": [
        {
          "output_type": "stream",
          "name": "stdout",
          "text": [
            "Enumerating objects: 68, done.\n",
            "Counting objects:   1% (1/68)\rCounting objects:   2% (2/68)\rCounting objects:   4% (3/68)\rCounting objects:   5% (4/68)\rCounting objects:   7% (5/68)\rCounting objects:   8% (6/68)\rCounting objects:  10% (7/68)\rCounting objects:  11% (8/68)\rCounting objects:  13% (9/68)\rCounting objects:  14% (10/68)\rCounting objects:  16% (11/68)\rCounting objects:  17% (12/68)\rCounting objects:  19% (13/68)\rCounting objects:  20% (14/68)\rCounting objects:  22% (15/68)\rCounting objects:  23% (16/68)\rCounting objects:  25% (17/68)\rCounting objects:  26% (18/68)\rCounting objects:  27% (19/68)\rCounting objects:  29% (20/68)\rCounting objects:  30% (21/68)\rCounting objects:  32% (22/68)\rCounting objects:  33% (23/68)\rCounting objects:  35% (24/68)\rCounting objects:  36% (25/68)\rCounting objects:  38% (26/68)\rCounting objects:  39% (27/68)\rCounting objects:  41% (28/68)\rCounting objects:  42% (29/68)\rCounting objects:  44% (30/68)\rCounting objects:  45% (31/68)\rCounting objects:  47% (32/68)\rCounting objects:  48% (33/68)\rCounting objects:  50% (34/68)\rCounting objects:  51% (35/68)\rCounting objects:  52% (36/68)\rCounting objects:  54% (37/68)\rCounting objects:  55% (38/68)\rCounting objects:  57% (39/68)\rCounting objects:  58% (40/68)\rCounting objects:  60% (41/68)\rCounting objects:  61% (42/68)\rCounting objects:  63% (43/68)\rCounting objects:  64% (44/68)\rCounting objects:  66% (45/68)\rCounting objects:  67% (46/68)\rCounting objects:  69% (47/68)\rCounting objects:  70% (48/68)\rCounting objects:  72% (49/68)\rCounting objects:  73% (50/68)\rCounting objects:  75% (51/68)\rCounting objects:  76% (52/68)\rCounting objects:  77% (53/68)\rCounting objects:  79% (54/68)\rCounting objects:  80% (55/68)\rCounting objects:  82% (56/68)\rCounting objects:  83% (57/68)\rCounting objects:  85% (58/68)\rCounting objects:  86% (59/68)\rCounting objects:  88% (60/68)\rCounting objects:  89% (61/68)\rCounting objects:  91% (62/68)\rCounting objects:  92% (63/68)\rCounting objects:  94% (64/68)\rCounting objects:  95% (65/68)\rCounting objects:  97% (66/68)\rCounting objects:  98% (67/68)\rCounting objects: 100% (68/68)\rCounting objects: 100% (68/68), done.\n",
            "Delta compression using up to 2 threads\n",
            "Compressing objects: 100% (57/57), done.\n",
            "Writing objects: 100% (59/59), 67.80 MiB | 10.17 MiB/s, done.\n",
            "Total 59 (delta 10), reused 0 (delta 0), pack-reused 0\n",
            "remote: Resolving deltas: 100% (10/10), completed with 4 local objects.\u001b[K\n",
            "To github.com:estebanfoucher/sailboat_CV.git\n",
            "   532e58e..e6522c8  main -> main\n"
          ]
        }
      ]
    },
    {
      "cell_type": "code",
      "source": [],
      "metadata": {
        "id": "TipuAErikHPF"
      },
      "execution_count": null,
      "outputs": []
    }
  ],
  "metadata": {
    "accelerator": "GPU",
    "colab": {
      "provenance": [],
      "gpuType": "T4"
    },
    "kernelspec": {
      "display_name": "Python 3",
      "name": "python3"
    },
    "language_info": {
      "name": "python"
    }
  },
  "nbformat": 4,
  "nbformat_minor": 0
}