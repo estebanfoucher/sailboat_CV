{
  "cells": [
    {
      "cell_type": "markdown",
      "metadata": {
        "id": "FyRdDYkqAKN4"
      },
      "source": [
        "## Before you start\n",
        "\n",
        "Let's make sure that we have access to GPU. We can use `nvidia-smi` command to do that. In case of any problems navigate to `Edit` -> `Notebook settings` -> `Hardware accelerator`, set it to `GPU`, and then click `Save`."
      ]
    },
    {
      "cell_type": "code",
      "execution_count": 1,
      "metadata": {
        "colab": {
          "base_uri": "https://localhost:8080/"
        },
        "id": "Y8cDtxLIBHgQ",
        "outputId": "1248887b-bd08-4ea8-c750-dc353b39ad63"
      },
      "outputs": [
        {
          "output_type": "stream",
          "name": "stdout",
          "text": [
            "Tue Jun 10 13:22:32 2025       \n",
            "+-----------------------------------------------------------------------------------------+\n",
            "| NVIDIA-SMI 550.54.15              Driver Version: 550.54.15      CUDA Version: 12.4     |\n",
            "|-----------------------------------------+------------------------+----------------------+\n",
            "| GPU  Name                 Persistence-M | Bus-Id          Disp.A | Volatile Uncorr. ECC |\n",
            "| Fan  Temp   Perf          Pwr:Usage/Cap |           Memory-Usage | GPU-Util  Compute M. |\n",
            "|                                         |                        |               MIG M. |\n",
            "|=========================================+========================+======================|\n",
            "|   0  Tesla T4                       Off |   00000000:00:04.0 Off |                    0 |\n",
            "| N/A   53C    P8             10W /   70W |       0MiB /  15360MiB |      0%      Default |\n",
            "|                                         |                        |                  N/A |\n",
            "+-----------------------------------------+------------------------+----------------------+\n",
            "                                                                                         \n",
            "+-----------------------------------------------------------------------------------------+\n",
            "| Processes:                                                                              |\n",
            "|  GPU   GI   CI        PID   Type   Process name                              GPU Memory |\n",
            "|        ID   ID                                                               Usage      |\n",
            "|=========================================================================================|\n",
            "|  No running processes found                                                             |\n",
            "+-----------------------------------------------------------------------------------------+\n"
          ]
        }
      ],
      "source": [
        "!nvidia-smi"
      ]
    },
    {
      "cell_type": "code",
      "execution_count": 2,
      "metadata": {
        "colab": {
          "base_uri": "https://localhost:8080/"
        },
        "id": "CjpPg4mGKc1v",
        "outputId": "b35ac5ed-5652-44ff-b967-c4eabd2a0cf3"
      },
      "outputs": [
        {
          "output_type": "stream",
          "name": "stdout",
          "text": [
            "/content\n"
          ]
        }
      ],
      "source": [
        "import os\n",
        "HOME = os.getcwd()\n",
        "print(HOME)"
      ]
    },
    {
      "cell_type": "markdown",
      "metadata": {
        "id": "3C3EO_2zNChu"
      },
      "source": [
        "## Install YOLOv8\n",
        "\n",
        "We strive to make our YOLOv8 notebooks work with the latest version of the library. Last tests took place on **06.10.2024** with version **YOLOv8.3.7**.\n",
        "\n",
        "If you notice that our notebook behaves incorrectly - especially if you experience errors that prevent you from going through the tutorial - don't hesitate! Let us know and open an [issue](https://github.com/roboflow/notebooks/issues) on the Roboflow Notebooks repository.\n",
        "\n",
        "YOLOv8 can be installed in two ways - from the source and via pip. This is because it is the first iteration of YOLO to have an official package."
      ]
    },
    {
      "cell_type": "code",
      "execution_count": 3,
      "metadata": {
        "colab": {
          "base_uri": "https://localhost:8080/"
        },
        "id": "tdSMcABDNKW-",
        "outputId": "7d8f1ca1-a8ee-4636-ce44-ef675a34a3d4"
      },
      "outputs": [
        {
          "output_type": "stream",
          "name": "stdout",
          "text": [
            "Ultralytics YOLOv8.2.103 🚀 Python-3.11.13 torch-2.6.0+cu124 CUDA:0 (Tesla T4, 15095MiB)\n",
            "Setup complete ✅ (2 CPUs, 12.7 GB RAM, 41.6/112.6 GB disk)\n"
          ]
        }
      ],
      "source": [
        "# Pip install method (recommended)\n",
        "\n",
        "!pip install ultralytics==8.2.103 -q\n",
        "\n",
        "from IPython import display\n",
        "display.clear_output()\n",
        "\n",
        "import ultralytics\n",
        "ultralytics.checks()"
      ]
    },
    {
      "cell_type": "code",
      "execution_count": 4,
      "metadata": {
        "id": "VOEYrlBoP9-E"
      },
      "outputs": [],
      "source": [
        "from ultralytics import YOLO\n",
        "\n",
        "from IPython.display import display, Image"
      ]
    },
    {
      "cell_type": "code",
      "source": [
        "!ssh-keygen -t rsa -b 4096 -f ~/.ssh/id_rsa -N ''\n"
      ],
      "metadata": {
        "colab": {
          "base_uri": "https://localhost:8080/"
        },
        "id": "kQhxCjlC_DEa",
        "outputId": "20dc0934-3ed2-4c9f-d6a8-778416284960"
      },
      "execution_count": 5,
      "outputs": [
        {
          "output_type": "stream",
          "name": "stdout",
          "text": [
            "Generating public/private rsa key pair.\n",
            "Created directory '/root/.ssh'.\n",
            "Your identification has been saved in /root/.ssh/id_rsa\n",
            "Your public key has been saved in /root/.ssh/id_rsa.pub\n",
            "The key fingerprint is:\n",
            "SHA256:Lo3u8Kg2IPvJ4WHqMmTBn5Pg9i/Jg/QERXvAyQ28uMg root@27ec866411b0\n",
            "The key's randomart image is:\n",
            "+---[RSA 4096]----+\n",
            "|  =++            |\n",
            "|   *o.           |\n",
            "|. o...           |\n",
            "| * ..            |\n",
            "|+ * o   S        |\n",
            "|+E *   +         |\n",
            "|*oX + o o        |\n",
            "|+*o@ = .         |\n",
            "|+=*o=o+          |\n",
            "+----[SHA256]-----+\n"
          ]
        }
      ]
    },
    {
      "cell_type": "code",
      "source": [
        "!ssh-keyscan -t rsa github.com >> ~/.ssh/known_hosts\n"
      ],
      "metadata": {
        "colab": {
          "base_uri": "https://localhost:8080/"
        },
        "id": "wBPb5yAm_L73",
        "outputId": "391118fa-5aa3-4954-c70d-bf30077edba3"
      },
      "execution_count": 6,
      "outputs": [
        {
          "output_type": "stream",
          "name": "stdout",
          "text": [
            "# github.com:22 SSH-2.0-55b9c56f\n"
          ]
        }
      ]
    },
    {
      "cell_type": "code",
      "source": [
        "!cat ~/.ssh/id_rsa.pub\n"
      ],
      "metadata": {
        "colab": {
          "base_uri": "https://localhost:8080/"
        },
        "id": "oLaMzFfILo7_",
        "outputId": "ef7f3b69-ab6b-48f6-bac7-3eceaa35dcc0"
      },
      "execution_count": 7,
      "outputs": [
        {
          "output_type": "stream",
          "name": "stdout",
          "text": [
            "ssh-rsa AAAAB3NzaC1yc2EAAAADAQABAAACAQDuforMvNjwb5/vHv6GSgp3w3OnukRkvGIvwmC+XAsCboUP/6gOp/dXk6FKFtFPyZ5LsEh1sj7Zoa6ukl/ewgrl0e0SufVH+KczV3M9Tpf302dsGqQe4snGZIo04aQnFu9mzfFP3aKWO6wv0ntTt/m6HGngL1Y9UTTBB9FzuC2xA49VyZ1K+TMzfF8NWX9UY09MpQ1k0RfU6hKoUl8dboZZkRdg0kIjMldSSvvloAMkG+HvZPtvF03acll98d0JOThhweGkv9LYmvEKXB9aleAf5lCtIUU0fFW/OZS2qIIgC8ikcV2rrtXqyFgyCFt8HkFI1OYdJxLtoTEqgCETVG2aRylXJIygx4R2M+EGBq/puPrRDYxgfce9BublxTk9rZkhRitSkk3Cw+N8jIMQIFMZ0+8skXbLaxlAcJqrLRA4ZEIHxIfXcOdw+ClPTUcFWCjQ5OK77jU37zmQ23zss3J62W5OcLbkd2NXw1dIVfCq+vxeUz3ko5RAWXJojZRGtJ2DdcVcwXNbrvb7EQr5PsF8qEfhNq2lhlA8uqGJ6rjLQmfHYU1l3nS4KXc9C5jlafQXTBIl70HuMQ51/R9DAA4SU/6EWhoq6vQDrrwvuwpVUkIS0yOugRi7gredpAVhEnd6XEaZvHoznfro6LNfCuluGxQ2Lkehi7fwnoO2nXnn0Q== root@27ec866411b0\n"
          ]
        }
      ]
    },
    {
      "cell_type": "code",
      "source": [
        "!ssh -T git@github.com\n"
      ],
      "metadata": {
        "colab": {
          "base_uri": "https://localhost:8080/"
        },
        "id": "UZGLdrqPMWMY",
        "outputId": "a067fd9d-0eed-49dc-ce9a-53ec966dffa7"
      },
      "execution_count": 8,
      "outputs": [
        {
          "output_type": "stream",
          "name": "stdout",
          "text": [
            "Hi estebanfoucher! You've successfully authenticated, but GitHub does not provide shell access.\n"
          ]
        }
      ]
    },
    {
      "cell_type": "code",
      "source": [
        "!git clone git@github.com:estebanfoucher/sailboat_CV.git\n",
        "\n"
      ],
      "metadata": {
        "colab": {
          "base_uri": "https://localhost:8080/"
        },
        "id": "yehv86zoMdNO",
        "outputId": "c83d060a-cdb0-4224-cdbb-831e3558508b"
      },
      "execution_count": 9,
      "outputs": [
        {
          "output_type": "stream",
          "name": "stdout",
          "text": [
            "Cloning into 'sailboat_CV'...\n",
            "remote: Enumerating objects: 210, done.\u001b[K\n",
            "remote: Total 210 (delta 0), reused 0 (delta 0), pack-reused 210 (from 2)\u001b[K\n",
            "Receiving objects: 100% (210/210), 104.26 MiB | 42.35 MiB/s, done.\n",
            "Resolving deltas: 100% (20/20), done.\n"
          ]
        }
      ]
    },
    {
      "cell_type": "code",
      "execution_count": 12,
      "metadata": {
        "id": "D2YkphuiaE7_",
        "colab": {
          "base_uri": "https://localhost:8080/"
        },
        "outputId": "e60de264-d279-4c83-e650-1778927e2ebf"
      },
      "outputs": [
        {
          "output_type": "stream",
          "name": "stdout",
          "text": [
            "/content/sailboat_CV\n",
            "Downloading https://github.com/ultralytics/assets/releases/download/v8.2.0/yolov8s.pt to 'yolov8s.pt'...\n",
            "100% 21.5M/21.5M [00:00<00:00, 77.8MB/s]\n",
            "New https://pypi.org/project/ultralytics/8.3.152 available 😃 Update with 'pip install -U ultralytics'\n",
            "Ultralytics YOLOv8.2.103 🚀 Python-3.11.13 torch-2.6.0+cu124 CUDA:0 (Tesla T4, 15095MiB)\n",
            "\u001b[34m\u001b[1mengine/trainer: \u001b[0mtask=detect, mode=train, model=yolov8s.pt, data=/content/sailboat_CV/datasets/pennon-label-yolo-00/data.yaml, epochs=25, time=None, patience=100, batch=16, imgsz=1280, save=True, save_period=-1, cache=False, device=None, workers=8, project=None, name=train, exist_ok=False, pretrained=True, optimizer=auto, verbose=True, seed=0, deterministic=True, single_cls=False, rect=False, cos_lr=False, close_mosaic=10, resume=False, amp=True, fraction=1.0, profile=False, freeze=None, multi_scale=False, overlap_mask=True, mask_ratio=4, dropout=0.0, val=True, split=val, save_json=False, save_hybrid=False, conf=None, iou=0.7, max_det=300, half=False, dnn=False, plots=True, source=None, vid_stride=1, stream_buffer=False, visualize=False, augment=False, agnostic_nms=False, classes=None, retina_masks=False, embed=None, show=False, save_frames=False, save_txt=False, save_conf=False, save_crop=False, show_labels=True, show_conf=True, show_boxes=True, line_width=None, format=torchscript, keras=False, optimize=False, int8=False, dynamic=False, simplify=True, opset=None, workspace=4, nms=False, lr0=0.01, lrf=0.01, momentum=0.937, weight_decay=0.0005, warmup_epochs=3.0, warmup_momentum=0.8, warmup_bias_lr=0.1, box=7.5, cls=0.5, dfl=1.5, pose=12.0, kobj=1.0, label_smoothing=0.0, nbs=64, hsv_h=0.015, hsv_s=0.7, hsv_v=0.4, degrees=0.0, translate=0.1, scale=0.5, shear=0.0, perspective=0.0, flipud=0.0, fliplr=0.5, bgr=0.0, mosaic=1.0, mixup=0.0, copy_paste=0.0, auto_augment=randaugment, erasing=0.4, crop_fraction=1.0, cfg=None, tracker=botsort.yaml, save_dir=runs/detect/train\n",
            "WARNING: All log messages before absl::InitializeLog() is called are written to STDERR\n",
            "E0000 00:00:1749563054.630315    6426 cuda_dnn.cc:8310] Unable to register cuDNN factory: Attempting to register factory for plugin cuDNN when one has already been registered\n",
            "E0000 00:00:1749563054.640921    6426 cuda_blas.cc:1418] Unable to register cuBLAS factory: Attempting to register factory for plugin cuBLAS when one has already been registered\n",
            "Overriding model.yaml nc=80 with nc=1\n",
            "\n",
            "                   from  n    params  module                                       arguments                     \n",
            "  0                  -1  1       928  ultralytics.nn.modules.conv.Conv             [3, 32, 3, 2]                 \n",
            "  1                  -1  1     18560  ultralytics.nn.modules.conv.Conv             [32, 64, 3, 2]                \n",
            "  2                  -1  1     29056  ultralytics.nn.modules.block.C2f             [64, 64, 1, True]             \n",
            "  3                  -1  1     73984  ultralytics.nn.modules.conv.Conv             [64, 128, 3, 2]               \n",
            "  4                  -1  2    197632  ultralytics.nn.modules.block.C2f             [128, 128, 2, True]           \n",
            "  5                  -1  1    295424  ultralytics.nn.modules.conv.Conv             [128, 256, 3, 2]              \n",
            "  6                  -1  2    788480  ultralytics.nn.modules.block.C2f             [256, 256, 2, True]           \n",
            "  7                  -1  1   1180672  ultralytics.nn.modules.conv.Conv             [256, 512, 3, 2]              \n",
            "  8                  -1  1   1838080  ultralytics.nn.modules.block.C2f             [512, 512, 1, True]           \n",
            "  9                  -1  1    656896  ultralytics.nn.modules.block.SPPF            [512, 512, 5]                 \n",
            " 10                  -1  1         0  torch.nn.modules.upsampling.Upsample         [None, 2, 'nearest']          \n",
            " 11             [-1, 6]  1         0  ultralytics.nn.modules.conv.Concat           [1]                           \n",
            " 12                  -1  1    591360  ultralytics.nn.modules.block.C2f             [768, 256, 1]                 \n",
            " 13                  -1  1         0  torch.nn.modules.upsampling.Upsample         [None, 2, 'nearest']          \n",
            " 14             [-1, 4]  1         0  ultralytics.nn.modules.conv.Concat           [1]                           \n",
            " 15                  -1  1    148224  ultralytics.nn.modules.block.C2f             [384, 128, 1]                 \n",
            " 16                  -1  1    147712  ultralytics.nn.modules.conv.Conv             [128, 128, 3, 2]              \n",
            " 17            [-1, 12]  1         0  ultralytics.nn.modules.conv.Concat           [1]                           \n",
            " 18                  -1  1    493056  ultralytics.nn.modules.block.C2f             [384, 256, 1]                 \n",
            " 19                  -1  1    590336  ultralytics.nn.modules.conv.Conv             [256, 256, 3, 2]              \n",
            " 20             [-1, 9]  1         0  ultralytics.nn.modules.conv.Concat           [1]                           \n",
            " 21                  -1  1   1969152  ultralytics.nn.modules.block.C2f             [768, 512, 1]                 \n",
            " 22        [15, 18, 21]  1   2116435  ultralytics.nn.modules.head.Detect           [1, [128, 256, 512]]          \n",
            "Model summary: 225 layers, 11,135,987 parameters, 11,135,971 gradients, 28.6 GFLOPs\n",
            "\n",
            "Transferred 349/355 items from pretrained weights\n",
            "\u001b[34m\u001b[1mTensorBoard: \u001b[0mStart with 'tensorboard --logdir runs/detect/train', view at http://localhost:6006/\n",
            "Freezing layer 'model.22.dfl.conv.weight'\n",
            "\u001b[34m\u001b[1mAMP: \u001b[0mrunning Automatic Mixed Precision (AMP) checks with YOLOv8n...\n",
            "Downloading https://github.com/ultralytics/assets/releases/download/v8.2.0/yolov8n.pt to 'yolov8n.pt'...\n",
            "100% 6.25M/6.25M [00:00<00:00, 73.6MB/s]\n",
            "\u001b[34m\u001b[1mAMP: \u001b[0mchecks passed ✅\n",
            "\u001b[34m\u001b[1mtrain: \u001b[0mScanning /content/sailboat_CV/datasets/pennon-label-yolo-00/train/labels.cache... 39 images, 10 backgrounds, 0 corrupt: 100% 39/39 [00:00<?, ?it/s]\n",
            "/usr/local/lib/python3.11/dist-packages/ultralytics/data/augment.py:1837: UserWarning: Argument(s) 'quality_lower' are not valid for transform ImageCompression\n",
            "  A.ImageCompression(quality_lower=75, p=0.0),\n",
            "\u001b[34m\u001b[1malbumentations: \u001b[0mBlur(p=0.01, blur_limit=(3, 7)), MedianBlur(p=0.01, blur_limit=(3, 7)), ToGray(p=0.01, method='weighted_average', num_output_channels=3), CLAHE(p=0.01, clip_limit=(1.0, 4.0), tile_grid_size=(8, 8))\n",
            "\u001b[34m\u001b[1mval: \u001b[0mScanning /content/sailboat_CV/datasets/pennon-label-yolo-00/val/labels.cache... 10 images, 4 backgrounds, 0 corrupt: 100% 10/10 [00:00<?, ?it/s]\n",
            "Plotting labels to runs/detect/train/labels.jpg... \n",
            "\u001b[34m\u001b[1moptimizer:\u001b[0m 'optimizer=auto' found, ignoring 'lr0=0.01' and 'momentum=0.937' and determining best 'optimizer', 'lr0' and 'momentum' automatically... \n",
            "\u001b[34m\u001b[1moptimizer:\u001b[0m AdamW(lr=0.002, momentum=0.9) with parameter groups 57 weight(decay=0.0), 64 weight(decay=0.0005), 63 bias(decay=0.0)\n",
            "\u001b[34m\u001b[1mTensorBoard: \u001b[0mmodel graph visualization added ✅\n",
            "Image sizes 1280 train, 1280 val\n",
            "Using 2 dataloader workers\n",
            "Logging results to \u001b[1mruns/detect/train\u001b[0m\n",
            "Starting training for 25 epochs...\n",
            "\n",
            "      Epoch    GPU_mem   box_loss   cls_loss   dfl_loss  Instances       Size\n",
            "       1/25      15.2G       3.11      69.62      1.338         66       1280: 100% 3/3 [00:03<00:00,  1.09s/it]\n",
            "                 Class     Images  Instances      Box(P          R      mAP50  mAP50-95): 100% 1/1 [00:00<00:00,  1.47it/s]\n",
            "                   all         10         27          0          0          0          0\n",
            "\n",
            "      Epoch    GPU_mem   box_loss   cls_loss   dfl_loss  Instances       Size\n",
            "       2/25      14.3G      3.478      110.2      1.492         28       1280: 100% 3/3 [00:02<00:00,  1.25it/s]\n",
            "                 Class     Images  Instances      Box(P          R      mAP50  mAP50-95): 100% 1/1 [00:00<00:00,  3.48it/s]\n",
            "                   all         10         27          0          0          0          0\n",
            "\n",
            "      Epoch    GPU_mem   box_loss   cls_loss   dfl_loss  Instances       Size\n",
            "       3/25      13.9G      3.392      87.93      1.392         68       1280: 100% 3/3 [00:02<00:00,  1.30it/s]\n",
            "                 Class     Images  Instances      Box(P          R      mAP50  mAP50-95): 100% 1/1 [00:00<00:00,  4.35it/s]\n",
            "                   all         10         27          0          0          0          0\n",
            "\n",
            "      Epoch    GPU_mem   box_loss   cls_loss   dfl_loss  Instances       Size\n",
            "       4/25      13.9G      3.525      143.1        1.4         20       1280: 100% 3/3 [00:02<00:00,  1.30it/s]\n",
            "                 Class     Images  Instances      Box(P          R      mAP50  mAP50-95): 100% 1/1 [00:00<00:00,  3.92it/s]\n",
            "                   all         10         27          0          0          0          0\n",
            "\n",
            "      Epoch    GPU_mem   box_loss   cls_loss   dfl_loss  Instances       Size\n",
            "       5/25      14.1G      3.393      57.49      1.335         27       1280: 100% 3/3 [00:02<00:00,  1.25it/s]\n",
            "                 Class     Images  Instances      Box(P          R      mAP50  mAP50-95): 100% 1/1 [00:00<00:00,  1.38it/s]\n",
            "                   all         10         27          0          0          0          0\n",
            "\n",
            "      Epoch    GPU_mem   box_loss   cls_loss   dfl_loss  Instances       Size\n",
            "       6/25      14.1G      2.792      18.41      1.146         41       1280: 100% 3/3 [00:02<00:00,  1.28it/s]\n",
            "                 Class     Images  Instances      Box(P          R      mAP50  mAP50-95): 100% 1/1 [00:00<00:00,  3.10it/s]\n",
            "                   all         10         27    0.00167      0.037   0.000894   0.000456\n",
            "\n",
            "      Epoch    GPU_mem   box_loss   cls_loss   dfl_loss  Instances       Size\n",
            "       7/25      14.5G      2.768      9.292       1.15         42       1280: 100% 3/3 [00:02<00:00,  1.30it/s]\n",
            "                 Class     Images  Instances      Box(P          R      mAP50  mAP50-95): 100% 1/1 [00:00<00:00,  3.88it/s]\n",
            "                   all         10         27      0.189     0.0741     0.0267     0.0136\n",
            "\n",
            "      Epoch    GPU_mem   box_loss   cls_loss   dfl_loss  Instances       Size\n",
            "       8/25      14.2G       2.52      7.214      1.153         22       1280: 100% 3/3 [00:02<00:00,  1.30it/s]\n",
            "                 Class     Images  Instances      Box(P          R      mAP50  mAP50-95): 100% 1/1 [00:00<00:00,  3.59it/s]\n",
            "                   all         10         27      0.126     0.0741     0.0179     0.0117\n",
            "\n",
            "      Epoch    GPU_mem   box_loss   cls_loss   dfl_loss  Instances       Size\n",
            "       9/25      14.1G       2.39      4.795      1.089         45       1280: 100% 3/3 [00:02<00:00,  1.24it/s]\n",
            "                 Class     Images  Instances      Box(P          R      mAP50  mAP50-95): 100% 1/1 [00:00<00:00,  5.85it/s]\n",
            "                   all         10         27      0.544      0.148      0.125     0.0466\n",
            "\n",
            "      Epoch    GPU_mem   box_loss   cls_loss   dfl_loss  Instances       Size\n",
            "      10/25      14.3G      2.659      5.109      1.106         77       1280: 100% 3/3 [00:02<00:00,  1.32it/s]\n",
            "                 Class     Images  Instances      Box(P          R      mAP50  mAP50-95): 100% 1/1 [00:00<00:00,  4.69it/s]\n",
            "                   all         10         27       0.37      0.148        0.1     0.0461\n",
            "\n",
            "      Epoch    GPU_mem   box_loss   cls_loss   dfl_loss  Instances       Size\n",
            "      11/25      14.4G      2.486      4.456      1.038         46       1280: 100% 3/3 [00:02<00:00,  1.28it/s]\n",
            "                 Class     Images  Instances      Box(P          R      mAP50  mAP50-95): 100% 1/1 [00:00<00:00,  3.68it/s]\n",
            "                   all         10         27     0.0468      0.185     0.0181    0.00715\n",
            "\n",
            "      Epoch    GPU_mem   box_loss   cls_loss   dfl_loss  Instances       Size\n",
            "      12/25      14.2G      2.601      3.816      1.062         51       1280: 100% 3/3 [00:02<00:00,  1.27it/s]\n",
            "                 Class     Images  Instances      Box(P          R      mAP50  mAP50-95): 100% 1/1 [00:00<00:00,  5.26it/s]\n",
            "                   all         10         27       0.34      0.222      0.216     0.0747\n",
            "\n",
            "      Epoch    GPU_mem   box_loss   cls_loss   dfl_loss  Instances       Size\n",
            "      13/25      14.3G      2.179      3.492     0.9901         18       1280: 100% 3/3 [00:02<00:00,  1.27it/s]\n",
            "                 Class     Images  Instances      Box(P          R      mAP50  mAP50-95): 100% 1/1 [00:00<00:00,  4.48it/s]\n",
            "                   all         10         27      0.561      0.185        0.2     0.0955\n",
            "\n",
            "      Epoch    GPU_mem   box_loss   cls_loss   dfl_loss  Instances       Size\n",
            "      14/25      14.3G      2.359      3.786       1.02         23       1280: 100% 3/3 [00:02<00:00,  1.27it/s]\n",
            "                 Class     Images  Instances      Box(P          R      mAP50  mAP50-95): 100% 1/1 [00:00<00:00,  3.80it/s]\n",
            "                   all         10         27      0.404      0.251      0.214      0.091\n",
            "\n",
            "      Epoch    GPU_mem   box_loss   cls_loss   dfl_loss  Instances       Size\n",
            "      15/25      14.4G      2.529       2.87      1.043         34       1280: 100% 3/3 [00:02<00:00,  1.24it/s]\n",
            "                 Class     Images  Instances      Box(P          R      mAP50  mAP50-95): 100% 1/1 [00:00<00:00,  4.29it/s]\n",
            "                   all         10         27      0.359      0.311       0.22     0.0913\n",
            "Closing dataloader mosaic\n",
            "/usr/local/lib/python3.11/dist-packages/ultralytics/data/augment.py:1837: UserWarning: Argument(s) 'quality_lower' are not valid for transform ImageCompression\n",
            "  A.ImageCompression(quality_lower=75, p=0.0),\n",
            "\u001b[34m\u001b[1malbumentations: \u001b[0mBlur(p=0.01, blur_limit=(3, 7)), MedianBlur(p=0.01, blur_limit=(3, 7)), ToGray(p=0.01, method='weighted_average', num_output_channels=3), CLAHE(p=0.01, clip_limit=(1.0, 4.0), tile_grid_size=(8, 8))\n",
            "\n",
            "      Epoch    GPU_mem   box_loss   cls_loss   dfl_loss  Instances       Size\n",
            "      16/25      14.3G       2.34       3.19      1.034         26       1280: 100% 3/3 [00:04<00:00,  1.39s/it]\n",
            "                 Class     Images  Instances      Box(P          R      mAP50  mAP50-95): 100% 1/1 [00:00<00:00,  1.45it/s]\n",
            "                   all         10         27      0.299       0.37       0.26      0.106\n",
            "\n",
            "      Epoch    GPU_mem   box_loss   cls_loss   dfl_loss  Instances       Size\n",
            "      17/25      14.3G      2.218      3.219      0.979          9       1280: 100% 3/3 [00:02<00:00,  1.27it/s]\n",
            "                 Class     Images  Instances      Box(P          R      mAP50  mAP50-95): 100% 1/1 [00:00<00:00,  4.27it/s]\n",
            "                   all         10         27       0.43      0.392      0.298      0.117\n",
            "\n",
            "      Epoch    GPU_mem   box_loss   cls_loss   dfl_loss  Instances       Size\n",
            "      18/25      14.3G      2.305      3.293     0.9806         12       1280: 100% 3/3 [00:02<00:00,  1.28it/s]\n",
            "                 Class     Images  Instances      Box(P          R      mAP50  mAP50-95): 100% 1/1 [00:00<00:00,  4.61it/s]\n",
            "                   all         10         27      0.417       0.37      0.289      0.111\n",
            "\n",
            "      Epoch    GPU_mem   box_loss   cls_loss   dfl_loss  Instances       Size\n",
            "      19/25      14.3G      1.936      2.092      1.001         22       1280: 100% 3/3 [00:02<00:00,  1.21it/s]\n",
            "                 Class     Images  Instances      Box(P          R      mAP50  mAP50-95): 100% 1/1 [00:00<00:00,  3.27it/s]\n",
            "                   all         10         27       0.39       0.37      0.279     0.0987\n",
            "\n",
            "      Epoch    GPU_mem   box_loss   cls_loss   dfl_loss  Instances       Size\n",
            "      20/25      14.2G      2.499      6.194      1.017         11       1280: 100% 3/3 [00:02<00:00,  1.26it/s]\n",
            "                 Class     Images  Instances      Box(P          R      mAP50  mAP50-95): 100% 1/1 [00:00<00:00,  4.47it/s]\n",
            "                   all         10         27      0.348      0.455      0.282      0.102\n",
            "\n",
            "      Epoch    GPU_mem   box_loss   cls_loss   dfl_loss  Instances       Size\n",
            "      21/25      14.3G      1.998      2.335     0.9924         23       1280: 100% 3/3 [00:02<00:00,  1.27it/s]\n",
            "                 Class     Images  Instances      Box(P          R      mAP50  mAP50-95): 100% 1/1 [00:00<00:00,  4.49it/s]\n",
            "                   all         10         27      0.332      0.407      0.261      0.113\n",
            "\n",
            "      Epoch    GPU_mem   box_loss   cls_loss   dfl_loss  Instances       Size\n",
            "      22/25      14.2G      2.073      2.031     0.9634         35       1280: 100% 3/3 [00:02<00:00,  1.24it/s]\n",
            "                 Class     Images  Instances      Box(P          R      mAP50  mAP50-95): 100% 1/1 [00:00<00:00,  4.48it/s]\n",
            "                   all         10         27      0.361       0.37      0.238      0.116\n",
            "\n",
            "      Epoch    GPU_mem   box_loss   cls_loss   dfl_loss  Instances       Size\n",
            "      23/25      14.3G      2.139       2.25     0.9489         46       1280: 100% 3/3 [00:02<00:00,  1.23it/s]\n",
            "                 Class     Images  Instances      Box(P          R      mAP50  mAP50-95): 100% 1/1 [00:00<00:00,  4.51it/s]\n",
            "                   all         10         27      0.401      0.397       0.28      0.145\n",
            "\n",
            "      Epoch    GPU_mem   box_loss   cls_loss   dfl_loss  Instances       Size\n",
            "      24/25      14.3G      2.065      2.432     0.9696         19       1280: 100% 3/3 [00:02<00:00,  1.24it/s]\n",
            "                 Class     Images  Instances      Box(P          R      mAP50  mAP50-95): 100% 1/1 [00:00<00:00,  4.54it/s]\n",
            "                   all         10         27       0.39       0.37      0.314      0.159\n",
            "\n",
            "      Epoch    GPU_mem   box_loss   cls_loss   dfl_loss  Instances       Size\n",
            "      25/25      14.3G      1.942      1.832     0.9383         17       1280: 100% 3/3 [00:02<00:00,  1.20it/s]\n",
            "                 Class     Images  Instances      Box(P          R      mAP50  mAP50-95): 100% 1/1 [00:00<00:00,  3.84it/s]\n",
            "                   all         10         27      0.472      0.296      0.342       0.16\n",
            "\n",
            "25 epochs completed in 0.032 hours.\n",
            "Optimizer stripped from runs/detect/train/weights/last.pt, 22.6MB\n",
            "Optimizer stripped from runs/detect/train/weights/best.pt, 22.6MB\n",
            "\n",
            "Validating runs/detect/train/weights/best.pt...\n",
            "Ultralytics YOLOv8.2.103 🚀 Python-3.11.13 torch-2.6.0+cu124 CUDA:0 (Tesla T4, 15095MiB)\n",
            "Model summary (fused): 168 layers, 11,125,971 parameters, 0 gradients, 28.4 GFLOPs\n",
            "                 Class     Images  Instances      Box(P          R      mAP50  mAP50-95): 100% 1/1 [00:00<00:00,  6.19it/s]\n",
            "                   all         10         27      0.472      0.296      0.341       0.16\n",
            "Speed: 0.4ms preprocess, 9.9ms inference, 0.0ms loss, 1.3ms postprocess per image\n",
            "Results saved to \u001b[1mruns/detect/train\u001b[0m\n",
            "💡 Learn more at https://docs.ultralytics.com/modes/train\n"
          ]
        }
      ],
      "source": [
        "%cd {HOME}/sailboat_CV/\n",
        "\n",
        "!yolo task=detect mode=train model=yolov8s.pt data=/content/sailboat_CV/datasets/pennon-label-yolo-00/data.yaml epochs=25 imgsz=1280"
      ]
    },
    {
      "cell_type": "code",
      "execution_count": 13,
      "metadata": {
        "colab": {
          "base_uri": "https://localhost:8080/"
        },
        "id": "1MScstfHhArr",
        "outputId": "0d332b29-3f5c-44fd-f31d-1e1a53ea5264"
      },
      "outputs": [
        {
          "output_type": "stream",
          "name": "stdout",
          "text": [
            "total 4656\n",
            "drwxr-xr-x 3 root root   4096 Jun 10 13:46 .\n",
            "drwxr-xr-x 3 root root   4096 Jun 10 13:44 ..\n",
            "-rw-r--r-- 1 root root   1574 Jun 10 13:44 args.yaml\n",
            "-rw-r--r-- 1 root root  88182 Jun 10 13:46 confusion_matrix_normalized.png\n",
            "-rw-r--r-- 1 root root  85014 Jun 10 13:46 confusion_matrix.png\n",
            "-rw-r--r-- 1 root root 202537 Jun 10 13:46 events.out.tfevents.1749563058.27ec866411b0.6426.0\n",
            "-rw-r--r-- 1 root root 100377 Jun 10 13:46 F1_curve.png\n",
            "-rw-r--r-- 1 root root 189627 Jun 10 13:44 labels_correlogram.jpg\n",
            "-rw-r--r-- 1 root root  97727 Jun 10 13:44 labels.jpg\n",
            "-rw-r--r-- 1 root root 122787 Jun 10 13:46 P_curve.png\n",
            "-rw-r--r-- 1 root root  80099 Jun 10 13:46 PR_curve.png\n",
            "-rw-r--r-- 1 root root  98132 Jun 10 13:46 R_curve.png\n",
            "-rw-r--r-- 1 root root   8736 Jun 10 13:46 results.csv\n",
            "-rw-r--r-- 1 root root 296747 Jun 10 13:46 results.png\n",
            "-rw-r--r-- 1 root root 580967 Jun 10 13:44 train_batch0.jpg\n",
            "-rw-r--r-- 1 root root 553996 Jun 10 13:44 train_batch1.jpg\n",
            "-rw-r--r-- 1 root root 418846 Jun 10 13:44 train_batch2.jpg\n",
            "-rw-r--r-- 1 root root 435298 Jun 10 13:45 train_batch45.jpg\n",
            "-rw-r--r-- 1 root root 483868 Jun 10 13:45 train_batch46.jpg\n",
            "-rw-r--r-- 1 root root 317879 Jun 10 13:45 train_batch47.jpg\n",
            "-rw-r--r-- 1 root root 277460 Jun 10 13:46 val_batch0_labels.jpg\n",
            "-rw-r--r-- 1 root root 276312 Jun 10 13:46 val_batch0_pred.jpg\n",
            "drwxr-xr-x 2 root root   4096 Jun 10 13:44 weights\n"
          ]
        }
      ],
      "source": [
        "!ls -la {HOME}/sailboat_CV/runs/detect/train/"
      ]
    },
    {
      "cell_type": "code",
      "execution_count": null,
      "metadata": {
        "colab": {
          "base_uri": "https://localhost:8080/"
        },
        "id": "U_ZOpnH9scaU",
        "outputId": "ea43dbd0-f018-4a87-b595-7a11ec8f0d2c"
      },
      "outputs": [
        {
          "output_type": "stream",
          "name": "stdout",
          "text": [
            "                  epoch,             train/loss,  metrics/accuracy_top1,  metrics/accuracy_top5,               val/loss,                 lr/pg0,                 lr/pg1,                 lr/pg2\n",
            "                      1,                0.85584,                0.95459,                      1,                 1.1213,             0.00023752,             0.00023752,             0.00023752\n",
            "                      2,                0.31146,                0.96082,                      1,                  1.102,             0.00045669,             0.00045669,             0.00045669\n",
            "                      3,                 0.2424,                0.96082,                      1,                 1.0905,             0.00065701,             0.00065701,             0.00065701\n",
            "                      4,                0.21304,                0.96972,                      1,                 1.0869,             0.00062918,             0.00062918,             0.00062918\n",
            "                      5,                0.17518,                 0.9715,                      1,                 1.0755,              0.0006009,              0.0006009,              0.0006009\n",
            "                      6,                0.16782,                0.97863,                      1,                 1.0766,             0.00057263,             0.00057263,             0.00057263\n",
            "                      7,                0.14313,                0.97685,                      1,                 1.0712,             0.00054435,             0.00054435,             0.00054435\n",
            "                      8,                 0.1344,                0.97418,                      1,                 1.0766,             0.00051608,             0.00051608,             0.00051608\n",
            "                      9,                0.12723,                0.98308,                      1,                 1.0718,              0.0004878,              0.0004878,              0.0004878\n"
          ]
        }
      ],
      "source": [
        "!cat {HOME}/sailboat_CV/runs/classify/train/results.csv | head -10"
      ]
    },
    {
      "cell_type": "code",
      "source": [
        "!ls"
      ],
      "metadata": {
        "colab": {
          "base_uri": "https://localhost:8080/"
        },
        "id": "Po2LRPLjGOaQ",
        "outputId": "192a7659-1239-4345-b24f-00e41fab020a"
      },
      "execution_count": 14,
      "outputs": [
        {
          "output_type": "stream",
          "name": "stdout",
          "text": [
            "cmd\t  docker\tREADME.md\t  runs\t yolov8n.pt\n",
            "datasets  labeled_data\trequirements.txt  utils  yolov8s.pt\n"
          ]
        }
      ]
    },
    {
      "cell_type": "code",
      "source": [
        "!git add -A"
      ],
      "metadata": {
        "id": "x6BkkWoxGSMJ"
      },
      "execution_count": 15,
      "outputs": []
    },
    {
      "cell_type": "code",
      "source": [
        "!git status"
      ],
      "metadata": {
        "colab": {
          "base_uri": "https://localhost:8080/"
        },
        "id": "8q8kez77GWA0",
        "outputId": "d2f19a2f-eefa-4a5d-c44c-fc14c4d3dd2c"
      },
      "execution_count": 16,
      "outputs": [
        {
          "output_type": "stream",
          "name": "stdout",
          "text": [
            "On branch main\n",
            "Your branch is up to date with 'origin/main'.\n",
            "\n",
            "Changes to be committed:\n",
            "  (use \"git restore --staged <file>...\" to unstage)\n",
            "\t\u001b[32mmodified:   datasets/pennon-label-yolo-00/data.yaml\u001b[m\n",
            "\t\u001b[32mnew file:   datasets/pennon-label-yolo-00/train/labels.cache\u001b[m\n",
            "\t\u001b[32mnew file:   datasets/pennon-label-yolo-00/val/labels.cache\u001b[m\n",
            "\t\u001b[32mnew file:   runs/detect/train/F1_curve.png\u001b[m\n",
            "\t\u001b[32mnew file:   runs/detect/train/PR_curve.png\u001b[m\n",
            "\t\u001b[32mnew file:   runs/detect/train/P_curve.png\u001b[m\n",
            "\t\u001b[32mnew file:   runs/detect/train/R_curve.png\u001b[m\n",
            "\t\u001b[32mnew file:   runs/detect/train/args.yaml\u001b[m\n",
            "\t\u001b[32mnew file:   runs/detect/train/confusion_matrix.png\u001b[m\n",
            "\t\u001b[32mnew file:   runs/detect/train/confusion_matrix_normalized.png\u001b[m\n",
            "\t\u001b[32mnew file:   runs/detect/train/events.out.tfevents.1749563058.27ec866411b0.6426.0\u001b[m\n",
            "\t\u001b[32mnew file:   runs/detect/train/labels.jpg\u001b[m\n",
            "\t\u001b[32mnew file:   runs/detect/train/labels_correlogram.jpg\u001b[m\n",
            "\t\u001b[32mnew file:   runs/detect/train/results.csv\u001b[m\n",
            "\t\u001b[32mnew file:   runs/detect/train/results.png\u001b[m\n",
            "\t\u001b[32mnew file:   runs/detect/train/train_batch0.jpg\u001b[m\n",
            "\t\u001b[32mnew file:   runs/detect/train/train_batch1.jpg\u001b[m\n",
            "\t\u001b[32mnew file:   runs/detect/train/train_batch2.jpg\u001b[m\n",
            "\t\u001b[32mnew file:   runs/detect/train/train_batch45.jpg\u001b[m\n",
            "\t\u001b[32mnew file:   runs/detect/train/train_batch46.jpg\u001b[m\n",
            "\t\u001b[32mnew file:   runs/detect/train/train_batch47.jpg\u001b[m\n",
            "\t\u001b[32mnew file:   runs/detect/train/val_batch0_labels.jpg\u001b[m\n",
            "\t\u001b[32mnew file:   runs/detect/train/val_batch0_pred.jpg\u001b[m\n",
            "\t\u001b[32mnew file:   runs/detect/train/weights/best.pt\u001b[m\n",
            "\t\u001b[32mnew file:   runs/detect/train/weights/last.pt\u001b[m\n",
            "\t\u001b[32mnew file:   yolov8n.pt\u001b[m\n",
            "\t\u001b[32mnew file:   yolov8s.pt\u001b[m\n",
            "\n"
          ]
        }
      ]
    },
    {
      "cell_type": "code",
      "source": [
        "!git config user.name \"estebanfoucher\"\n",
        "!git config user.email \"estefoucher@gmail.com\""
      ],
      "metadata": {
        "id": "22PQimvkGfms"
      },
      "execution_count": 24,
      "outputs": []
    },
    {
      "cell_type": "code",
      "source": [
        "!git commit -m 'feat:first_train'"
      ],
      "metadata": {
        "colab": {
          "base_uri": "https://localhost:8080/"
        },
        "id": "wLI1cDHXGZGp",
        "outputId": "3cbbdb87-b2f4-4cd9-dc10-4f065676eb14"
      },
      "execution_count": 25,
      "outputs": [
        {
          "output_type": "stream",
          "name": "stdout",
          "text": [
            "[main 53cc3fd] feat:first_train\n",
            " 27 files changed, 134 insertions(+), 2 deletions(-)\n",
            " create mode 100644 datasets/pennon-label-yolo-00/train/labels.cache\n",
            " create mode 100644 datasets/pennon-label-yolo-00/val/labels.cache\n",
            " create mode 100644 runs/detect/train/F1_curve.png\n",
            " create mode 100644 runs/detect/train/PR_curve.png\n",
            " create mode 100644 runs/detect/train/P_curve.png\n",
            " create mode 100644 runs/detect/train/R_curve.png\n",
            " create mode 100644 runs/detect/train/args.yaml\n",
            " create mode 100644 runs/detect/train/confusion_matrix.png\n",
            " create mode 100644 runs/detect/train/confusion_matrix_normalized.png\n",
            " create mode 100644 runs/detect/train/events.out.tfevents.1749563058.27ec866411b0.6426.0\n",
            " create mode 100644 runs/detect/train/labels.jpg\n",
            " create mode 100644 runs/detect/train/labels_correlogram.jpg\n",
            " create mode 100644 runs/detect/train/results.csv\n",
            " create mode 100644 runs/detect/train/results.png\n",
            " create mode 100644 runs/detect/train/train_batch0.jpg\n",
            " create mode 100644 runs/detect/train/train_batch1.jpg\n",
            " create mode 100644 runs/detect/train/train_batch2.jpg\n",
            " create mode 100644 runs/detect/train/train_batch45.jpg\n",
            " create mode 100644 runs/detect/train/train_batch46.jpg\n",
            " create mode 100644 runs/detect/train/train_batch47.jpg\n",
            " create mode 100644 runs/detect/train/val_batch0_labels.jpg\n",
            " create mode 100644 runs/detect/train/val_batch0_pred.jpg\n",
            " create mode 100644 runs/detect/train/weights/best.pt\n",
            " create mode 100644 runs/detect/train/weights/last.pt\n",
            " create mode 100644 yolov8n.pt\n",
            " create mode 100644 yolov8s.pt\n"
          ]
        }
      ]
    },
    {
      "cell_type": "code",
      "source": [
        "!git push"
      ],
      "metadata": {
        "colab": {
          "base_uri": "https://localhost:8080/"
        },
        "id": "B0JI0HP0GtxD",
        "outputId": "951c3f17-d181-424d-82c5-889675e0807b"
      },
      "execution_count": 26,
      "outputs": [
        {
          "output_type": "stream",
          "name": "stdout",
          "text": [
            "Enumerating objects: 43, done.\n",
            "Counting objects:   2% (1/43)\rCounting objects:   4% (2/43)\rCounting objects:   6% (3/43)\rCounting objects:   9% (4/43)\rCounting objects:  11% (5/43)\rCounting objects:  13% (6/43)\rCounting objects:  16% (7/43)\rCounting objects:  18% (8/43)\rCounting objects:  20% (9/43)\rCounting objects:  23% (10/43)\rCounting objects:  25% (11/43)\rCounting objects:  27% (12/43)\rCounting objects:  30% (13/43)\rCounting objects:  32% (14/43)\rCounting objects:  34% (15/43)\rCounting objects:  37% (16/43)\rCounting objects:  39% (17/43)\rCounting objects:  41% (18/43)\rCounting objects:  44% (19/43)\rCounting objects:  46% (20/43)\rCounting objects:  48% (21/43)\rCounting objects:  51% (22/43)\rCounting objects:  53% (23/43)\rCounting objects:  55% (24/43)\rCounting objects:  58% (25/43)\rCounting objects:  60% (26/43)\rCounting objects:  62% (27/43)\rCounting objects:  65% (28/43)\rCounting objects:  67% (29/43)\rCounting objects:  69% (30/43)\rCounting objects:  72% (31/43)\rCounting objects:  74% (32/43)\rCounting objects:  76% (33/43)\rCounting objects:  79% (34/43)\rCounting objects:  81% (35/43)\rCounting objects:  83% (36/43)\rCounting objects:  86% (37/43)\rCounting objects:  88% (38/43)\rCounting objects:  90% (39/43)\rCounting objects:  93% (40/43)\rCounting objects:  95% (41/43)\rCounting objects:  97% (42/43)\rCounting objects: 100% (43/43)\rCounting objects: 100% (43/43), done.\n",
            "Delta compression using up to 2 threads\n",
            "Compressing objects: 100% (34/34), done.\n",
            "Writing objects: 100% (37/37), 49.17 MiB | 15.32 MiB/s, done.\n",
            "Total 37 (delta 3), reused 1 (delta 0), pack-reused 0\n",
            "remote: Resolving deltas: 100% (3/3), completed with 2 local objects.\u001b[K\n",
            "To github.com:estebanfoucher/sailboat_CV.git\n",
            "   caf738b..53cc3fd  main -> main\n"
          ]
        }
      ]
    }
  ],
  "metadata": {
    "accelerator": "GPU",
    "colab": {
      "provenance": [],
      "gpuType": "T4"
    },
    "kernelspec": {
      "display_name": "Python 3",
      "name": "python3"
    },
    "language_info": {
      "name": "python"
    }
  },
  "nbformat": 4,
  "nbformat_minor": 0
}