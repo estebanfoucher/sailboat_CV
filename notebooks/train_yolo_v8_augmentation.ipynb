{
  "cells": [
    {
      "cell_type": "markdown",
      "metadata": {
        "id": "FyRdDYkqAKN4"
      },
      "source": [
        "## Before you start\n",
        "\n",
        "Let's make sure that we have access to GPU. We can use `nvidia-smi` command to do that. In case of any problems navigate to `Edit` -> `Notebook settings` -> `Hardware accelerator`, set it to `GPU`, and then click `Save`."
      ]
    },
    {
      "cell_type": "code",
      "execution_count": 1,
      "metadata": {
        "colab": {
          "base_uri": "https://localhost:8080/"
        },
        "id": "Y8cDtxLIBHgQ",
        "outputId": "8df582ba-0289-4d0c-d24c-1c0397751d4f"
      },
      "outputs": [
        {
          "output_type": "stream",
          "name": "stdout",
          "text": [
            "Mon Jun 30 09:31:52 2025       \n",
            "+-----------------------------------------------------------------------------------------+\n",
            "| NVIDIA-SMI 550.54.15              Driver Version: 550.54.15      CUDA Version: 12.4     |\n",
            "|-----------------------------------------+------------------------+----------------------+\n",
            "| GPU  Name                 Persistence-M | Bus-Id          Disp.A | Volatile Uncorr. ECC |\n",
            "| Fan  Temp   Perf          Pwr:Usage/Cap |           Memory-Usage | GPU-Util  Compute M. |\n",
            "|                                         |                        |               MIG M. |\n",
            "|=========================================+========================+======================|\n",
            "|   0  Tesla T4                       Off |   00000000:00:04.0 Off |                    0 |\n",
            "| N/A   54C    P8             10W /   70W |       0MiB /  15360MiB |      0%      Default |\n",
            "|                                         |                        |                  N/A |\n",
            "+-----------------------------------------+------------------------+----------------------+\n",
            "                                                                                         \n",
            "+-----------------------------------------------------------------------------------------+\n",
            "| Processes:                                                                              |\n",
            "|  GPU   GI   CI        PID   Type   Process name                              GPU Memory |\n",
            "|        ID   ID                                                               Usage      |\n",
            "|=========================================================================================|\n",
            "|  No running processes found                                                             |\n",
            "+-----------------------------------------------------------------------------------------+\n"
          ]
        }
      ],
      "source": [
        "!nvidia-smi"
      ]
    },
    {
      "cell_type": "code",
      "execution_count": 2,
      "metadata": {
        "colab": {
          "base_uri": "https://localhost:8080/"
        },
        "id": "CjpPg4mGKc1v",
        "outputId": "e485f2ae-5442-4f30-fa46-fd3efe828ba3"
      },
      "outputs": [
        {
          "output_type": "stream",
          "name": "stdout",
          "text": [
            "/content\n"
          ]
        }
      ],
      "source": [
        "import os\n",
        "HOME = os.getcwd()\n",
        "print(HOME)"
      ]
    },
    {
      "cell_type": "markdown",
      "metadata": {
        "id": "3C3EO_2zNChu"
      },
      "source": [
        "## Install YOLOv8\n",
        "\n",
        "We strive to make our YOLOv8 notebooks work with the latest version of the library. Last tests took place on **06.10.2024** with version **YOLOv8.3.7**.\n",
        "\n",
        "If you notice that our notebook behaves incorrectly - especially if you experience errors that prevent you from going through the tutorial - don't hesitate! Let us know and open an [issue](https://github.com/roboflow/notebooks/issues) on the Roboflow Notebooks repository.\n",
        "\n",
        "YOLOv8 can be installed in two ways - from the source and via pip. This is because it is the first iteration of YOLO to have an official package."
      ]
    },
    {
      "cell_type": "code",
      "execution_count": 3,
      "metadata": {
        "colab": {
          "base_uri": "https://localhost:8080/"
        },
        "id": "tdSMcABDNKW-",
        "outputId": "967fbe5f-e9ab-41e0-c856-bf44fbe7ed6a"
      },
      "outputs": [
        {
          "output_type": "stream",
          "name": "stdout",
          "text": [
            "Ultralytics YOLOv8.2.103 🚀 Python-3.11.13 torch-2.6.0+cu124 CUDA:0 (Tesla T4, 15095MiB)\n",
            "Setup complete ✅ (2 CPUs, 12.7 GB RAM, 41.9/112.6 GB disk)\n"
          ]
        }
      ],
      "source": [
        "# Pip install method (recommended)\n",
        "\n",
        "!pip install ultralytics==8.2.103 -q\n",
        "\n",
        "from IPython import display\n",
        "display.clear_output()\n",
        "\n",
        "import ultralytics\n",
        "ultralytics.checks()"
      ]
    },
    {
      "cell_type": "code",
      "execution_count": 4,
      "metadata": {
        "id": "VOEYrlBoP9-E"
      },
      "outputs": [],
      "source": [
        "from ultralytics import YOLO\n",
        "\n",
        "from IPython.display import display, Image"
      ]
    },
    {
      "cell_type": "code",
      "source": [
        "!ssh-keygen -t rsa -b 4096 -f ~/.ssh/id_rsa -N ''\n"
      ],
      "metadata": {
        "colab": {
          "base_uri": "https://localhost:8080/"
        },
        "id": "kQhxCjlC_DEa",
        "outputId": "8f396739-087e-4fa9-ef79-c3871756ffcd"
      },
      "execution_count": 5,
      "outputs": [
        {
          "output_type": "stream",
          "name": "stdout",
          "text": [
            "Generating public/private rsa key pair.\n",
            "Created directory '/root/.ssh'.\n",
            "Your identification has been saved in /root/.ssh/id_rsa\n",
            "Your public key has been saved in /root/.ssh/id_rsa.pub\n",
            "The key fingerprint is:\n",
            "SHA256:AVeohEx9RvDzeC7iZoz0ALoKwWPc474BfCn7ZXFtR5Q root@eaf4f00f1ee8\n",
            "The key's randomart image is:\n",
            "+---[RSA 4096]----+\n",
            "|   o.ooooo...    |\n",
            "|    o o++ .E     |\n",
            "|     . ++  .     |\n",
            "|+ o . . .=.      |\n",
            "|.X * . .Soo.     |\n",
            "|o.B + o .o.      |\n",
            "|.o + B. . .      |\n",
            "|o o =.=. .       |\n",
            "|o  +.o.          |\n",
            "+----[SHA256]-----+\n"
          ]
        }
      ]
    },
    {
      "cell_type": "code",
      "source": [
        "!ssh-keyscan -t rsa github.com >> ~/.ssh/known_hosts\n"
      ],
      "metadata": {
        "colab": {
          "base_uri": "https://localhost:8080/"
        },
        "id": "wBPb5yAm_L73",
        "outputId": "aa699f9d-389c-4c21-d0e2-ba5594cf69cd"
      },
      "execution_count": 6,
      "outputs": [
        {
          "output_type": "stream",
          "name": "stdout",
          "text": [
            "# github.com:22 SSH-2.0-06447d1b\n"
          ]
        }
      ]
    },
    {
      "cell_type": "code",
      "source": [
        "!cat ~/.ssh/id_rsa.pub\n"
      ],
      "metadata": {
        "colab": {
          "base_uri": "https://localhost:8080/"
        },
        "id": "oLaMzFfILo7_",
        "outputId": "edcc2a3b-8a56-47e3-ff2a-74d0f42a70e5"
      },
      "execution_count": 7,
      "outputs": [
        {
          "output_type": "stream",
          "name": "stdout",
          "text": [
            "ssh-rsa AAAAB3NzaC1yc2EAAAADAQABAAACAQCIqO1Mw1hhG9LnS999zDfewzwB9RYHdhqJClrklt6lJKja7n/AFbv0w5rzukiFSwVnH31doTF8sX1NML3KPudKcA6XljKQZdEdhs6M0VyqFwZXfcxS28aawIZpuW66qJ/RigF0jYD3LdihnI2n3qr7gevSSvgc0FIWhNyc6K3pxW6OGDOTkGAFWe8gZwd9sBQbQtgm6avBgAiQDMx4TcFqnIafTs5HWp4eGKz76Yx2QJWj1lcGkCAjxmWMyWwPF0z3OgSf1k2eibD3b29MUxjOgna7/9AzZqnxEAFsFjRk1FZM7305GKruhmwRzHiVFJu0QPKZsFTiIcxZrEcYcWjJZHT4JbRkUS04EIk8JWTgNc21GbN1kVU1gU+65DUbdC3nBuHGvDoEzJiIMWzE9KVcnsCTMyZkRLzkSovpgqYXHCwV8B4DYCT6IYDmf3ULu8DJ1+/ue7PxebexBRMLQVrRTlU7DnjqrVvzij0mNrprqxD2XakPcAXVDbmXrpR8QLNcp8ZCUu99sTofQZ9dyZKQzawGY5LZOj4w0DANipx9Rcn5J/DVIm2nr3j9M9Z/UiTjWFE+txm4ZXSuYU443fnfDE9KIHsYgg1HwJnWRITAu0moh91h4IPykR0R7H3N6MN30PAdPmWHx98cQZjylcGzv+L4KGntPSxPg4RQjZbnBQ== root@eaf4f00f1ee8\n"
          ]
        }
      ]
    },
    {
      "cell_type": "code",
      "source": [
        "!ssh -T git@github.com\n"
      ],
      "metadata": {
        "colab": {
          "base_uri": "https://localhost:8080/"
        },
        "id": "UZGLdrqPMWMY",
        "outputId": "d27a6e62-ff86-476d-b850-7ef194081085"
      },
      "execution_count": 8,
      "outputs": [
        {
          "output_type": "stream",
          "name": "stdout",
          "text": [
            "git@github.com: Permission denied (publickey).\r\n"
          ]
        }
      ]
    },
    {
      "cell_type": "code",
      "source": [
        "!git clone git@github.com:estebanfoucher/sailboat_CV.git\n",
        "\n"
      ],
      "metadata": {
        "colab": {
          "base_uri": "https://localhost:8080/"
        },
        "id": "yehv86zoMdNO",
        "outputId": "50deb7d6-600b-43ff-9d72-dbaeb9183cd4"
      },
      "execution_count": 9,
      "outputs": [
        {
          "output_type": "stream",
          "name": "stdout",
          "text": [
            "Cloning into 'sailboat_CV'...\n",
            "remote: Enumerating objects: 2190, done.\u001b[K\n",
            "remote: Counting objects: 100% (4/4), done.\u001b[K\n",
            "remote: Compressing objects: 100% (4/4), done.\u001b[K\n",
            "remote: Total 2190 (delta 0), reused 1 (delta 0), pack-reused 2186 (from 1)\u001b[K\n",
            "Receiving objects: 100% (2190/2190), 941.47 MiB | 30.42 MiB/s, done.\n",
            "Resolving deltas: 100% (330/330), done.\n",
            "Updating files: 100% (3392/3392), done.\n"
          ]
        }
      ]
    },
    {
      "cell_type": "code",
      "execution_count": 10,
      "metadata": {
        "id": "D2YkphuiaE7_",
        "colab": {
          "base_uri": "https://localhost:8080/"
        },
        "outputId": "80132778-df14-4f3a-f167-35674e7a9f36"
      },
      "outputs": [
        {
          "output_type": "stream",
          "name": "stdout",
          "text": [
            "/content/sailboat_CV\n",
            "New https://pypi.org/project/ultralytics/8.3.160 available 😃 Update with 'pip install -U ultralytics'\n",
            "Ultralytics YOLOv8.2.103 🚀 Python-3.11.13 torch-2.6.0+cu124 CUDA:0 (Tesla T4, 15095MiB)\n",
            "\u001b[34m\u001b[1mengine/trainer: \u001b[0mtask=detect, mode=train, model=yolov8n.pt, data=/content/sailboat_CV/data/splitted_datasets/pennon-label-yolo-03/data.yaml, epochs=60, time=None, patience=100, batch=16, imgsz=1080, save=True, save_period=-1, cache=False, device=None, workers=8, project=None, name=train2, exist_ok=False, pretrained=True, optimizer=auto, verbose=True, seed=0, deterministic=True, single_cls=False, rect=False, cos_lr=False, close_mosaic=10, resume=False, amp=True, fraction=1.0, profile=False, freeze=None, multi_scale=False, overlap_mask=True, mask_ratio=4, dropout=0.0, val=True, split=val, save_json=False, save_hybrid=False, conf=None, iou=0.7, max_det=300, half=False, dnn=False, plots=True, source=None, vid_stride=1, stream_buffer=False, visualize=False, augment=True, agnostic_nms=False, classes=None, retina_masks=False, embed=None, show=False, save_frames=False, save_txt=False, save_conf=False, save_crop=False, show_labels=True, show_conf=True, show_boxes=True, line_width=None, format=torchscript, keras=False, optimize=False, int8=False, dynamic=False, simplify=True, opset=None, workspace=4, nms=False, lr0=0.01, lrf=0.01, momentum=0.937, weight_decay=0.0005, warmup_epochs=3.0, warmup_momentum=0.8, warmup_bias_lr=0.1, box=7.5, cls=0.5, dfl=1.5, pose=12.0, kobj=1.0, label_smoothing=0.0, nbs=64, hsv_h=0.015, hsv_s=0.7, hsv_v=0.4, degrees=0.0, translate=0.1, scale=0.5, shear=0.0, perspective=0.0, flipud=0.0, fliplr=0.5, bgr=0.0, mosaic=1.0, mixup=0.0, copy_paste=0.0, auto_augment=randaugment, erasing=0.4, crop_fraction=1.0, cfg=None, tracker=botsort.yaml, save_dir=runs/detect/train2\n",
            "Downloading https://ultralytics.com/assets/Arial.ttf to '/root/.config/Ultralytics/Arial.ttf'...\n",
            "100% 755k/755k [00:00<00:00, 24.0MB/s]\n",
            "WARNING: All log messages before absl::InitializeLog() is called are written to STDERR\n",
            "E0000 00:00:1751276322.838743    2483 cuda_dnn.cc:8310] Unable to register cuDNN factory: Attempting to register factory for plugin cuDNN when one has already been registered\n",
            "E0000 00:00:1751276322.844623    2483 cuda_blas.cc:1418] Unable to register cuBLAS factory: Attempting to register factory for plugin cuBLAS when one has already been registered\n",
            "Overriding model.yaml nc=80 with nc=1\n",
            "\n",
            "                   from  n    params  module                                       arguments                     \n",
            "  0                  -1  1       464  ultralytics.nn.modules.conv.Conv             [3, 16, 3, 2]                 \n",
            "  1                  -1  1      4672  ultralytics.nn.modules.conv.Conv             [16, 32, 3, 2]                \n",
            "  2                  -1  1      7360  ultralytics.nn.modules.block.C2f             [32, 32, 1, True]             \n",
            "  3                  -1  1     18560  ultralytics.nn.modules.conv.Conv             [32, 64, 3, 2]                \n",
            "  4                  -1  2     49664  ultralytics.nn.modules.block.C2f             [64, 64, 2, True]             \n",
            "  5                  -1  1     73984  ultralytics.nn.modules.conv.Conv             [64, 128, 3, 2]               \n",
            "  6                  -1  2    197632  ultralytics.nn.modules.block.C2f             [128, 128, 2, True]           \n",
            "  7                  -1  1    295424  ultralytics.nn.modules.conv.Conv             [128, 256, 3, 2]              \n",
            "  8                  -1  1    460288  ultralytics.nn.modules.block.C2f             [256, 256, 1, True]           \n",
            "  9                  -1  1    164608  ultralytics.nn.modules.block.SPPF            [256, 256, 5]                 \n",
            " 10                  -1  1         0  torch.nn.modules.upsampling.Upsample         [None, 2, 'nearest']          \n",
            " 11             [-1, 6]  1         0  ultralytics.nn.modules.conv.Concat           [1]                           \n",
            " 12                  -1  1    148224  ultralytics.nn.modules.block.C2f             [384, 128, 1]                 \n",
            " 13                  -1  1         0  torch.nn.modules.upsampling.Upsample         [None, 2, 'nearest']          \n",
            " 14             [-1, 4]  1         0  ultralytics.nn.modules.conv.Concat           [1]                           \n",
            " 15                  -1  1     37248  ultralytics.nn.modules.block.C2f             [192, 64, 1]                  \n",
            " 16                  -1  1     36992  ultralytics.nn.modules.conv.Conv             [64, 64, 3, 2]                \n",
            " 17            [-1, 12]  1         0  ultralytics.nn.modules.conv.Concat           [1]                           \n",
            " 18                  -1  1    123648  ultralytics.nn.modules.block.C2f             [192, 128, 1]                 \n",
            " 19                  -1  1    147712  ultralytics.nn.modules.conv.Conv             [128, 128, 3, 2]              \n",
            " 20             [-1, 9]  1         0  ultralytics.nn.modules.conv.Concat           [1]                           \n",
            " 21                  -1  1    493056  ultralytics.nn.modules.block.C2f             [384, 256, 1]                 \n",
            " 22        [15, 18, 21]  1    751507  ultralytics.nn.modules.head.Detect           [1, [64, 128, 256]]           \n",
            "Model summary: 225 layers, 3,011,043 parameters, 3,011,027 gradients, 8.2 GFLOPs\n",
            "\n",
            "Transferred 319/355 items from pretrained weights\n",
            "\u001b[34m\u001b[1mTensorBoard: \u001b[0mStart with 'tensorboard --logdir runs/detect/train2', view at http://localhost:6006/\n",
            "Freezing layer 'model.22.dfl.conv.weight'\n",
            "\u001b[34m\u001b[1mAMP: \u001b[0mrunning Automatic Mixed Precision (AMP) checks with YOLOv8n...\n",
            "\u001b[34m\u001b[1mAMP: \u001b[0mchecks passed ✅\n",
            "WARNING ⚠️ imgsz=[1080] must be multiple of max stride 32, updating to [1088]\n",
            "\u001b[34m\u001b[1mtrain: \u001b[0mScanning /content/sailboat_CV/data/splitted_datasets/pennon-label-yolo-03/train/labels.cache... 246 images, 63 backgrounds, 0 corrupt: 100% 246/246 [00:00<?, ?it/s]\n",
            "/usr/local/lib/python3.11/dist-packages/ultralytics/data/augment.py:1837: UserWarning: Argument(s) 'quality_lower' are not valid for transform ImageCompression\n",
            "  A.ImageCompression(quality_lower=75, p=0.0),\n",
            "\u001b[34m\u001b[1malbumentations: \u001b[0mBlur(p=0.01, blur_limit=(3, 7)), MedianBlur(p=0.01, blur_limit=(3, 7)), ToGray(p=0.01, method='weighted_average', num_output_channels=3), CLAHE(p=0.01, clip_limit=(1.0, 4.0), tile_grid_size=(8, 8))\n",
            "\u001b[34m\u001b[1mval: \u001b[0mScanning /content/sailboat_CV/data/splitted_datasets/pennon-label-yolo-03/val/labels... 62 images, 12 backgrounds, 0 corrupt: 100% 62/62 [00:00<00:00, 1716.02it/s]\n",
            "\u001b[34m\u001b[1mval: \u001b[0mWARNING ⚠️ /content/sailboat_CV/data/splitted_datasets/pennon-label-yolo-03/val/images/frame_llU5yYlyjPI_169.20s.jpg: 1 duplicate labels removed\n",
            "\u001b[34m\u001b[1mval: \u001b[0mNew cache created: /content/sailboat_CV/data/splitted_datasets/pennon-label-yolo-03/val/labels.cache\n",
            "Plotting labels to runs/detect/train2/labels.jpg... \n",
            "\u001b[34m\u001b[1moptimizer:\u001b[0m 'optimizer=auto' found, ignoring 'lr0=0.01' and 'momentum=0.937' and determining best 'optimizer', 'lr0' and 'momentum' automatically... \n",
            "\u001b[34m\u001b[1moptimizer:\u001b[0m AdamW(lr=0.002, momentum=0.9) with parameter groups 57 weight(decay=0.0), 64 weight(decay=0.0005), 63 bias(decay=0.0)\n",
            "\u001b[34m\u001b[1mTensorBoard: \u001b[0mmodel graph visualization added ✅\n",
            "Image sizes 1088 train, 1088 val\n",
            "Using 2 dataloader workers\n",
            "Logging results to \u001b[1mruns/detect/train2\u001b[0m\n",
            "Starting training for 60 epochs...\n",
            "\n",
            "      Epoch    GPU_mem   box_loss   cls_loss   dfl_loss  Instances       Size\n",
            "       1/60      6.29G      2.604      12.15      1.222         27       1088: 100% 16/16 [00:13<00:00,  1.16it/s]\n",
            "                 Class     Images  Instances      Box(P          R      mAP50  mAP50-95): 100% 2/2 [00:03<00:00,  1.79s/it]\n",
            "                   all         62        216   0.000645     0.0556   0.000353   0.000103\n",
            "\n",
            "      Epoch    GPU_mem   box_loss   cls_loss   dfl_loss  Instances       Size\n",
            "       2/60      6.04G      2.226      6.104      1.105         16       1088: 100% 16/16 [00:11<00:00,  1.44it/s]\n",
            "                 Class     Images  Instances      Box(P          R      mAP50  mAP50-95): 100% 2/2 [00:01<00:00,  1.99it/s]\n",
            "                   all         62        216   0.000108    0.00926   5.43e-05   1.36e-05\n",
            "\n",
            "      Epoch    GPU_mem   box_loss   cls_loss   dfl_loss  Instances       Size\n",
            "       3/60      5.99G      2.119      4.935      1.064         27       1088: 100% 16/16 [00:10<00:00,  1.51it/s]\n",
            "                 Class     Images  Instances      Box(P          R      mAP50  mAP50-95): 100% 2/2 [00:01<00:00,  1.87it/s]\n",
            "                   all         62        216   0.000108    0.00926   5.43e-05   1.36e-05\n",
            "\n",
            "      Epoch    GPU_mem   box_loss   cls_loss   dfl_loss  Instances       Size\n",
            "       4/60      6.01G      2.109      4.535      1.059         32       1088: 100% 16/16 [00:10<00:00,  1.58it/s]\n",
            "                 Class     Images  Instances      Box(P          R      mAP50  mAP50-95): 100% 2/2 [00:00<00:00,  2.02it/s]\n",
            "                   all         62        216   0.000108    0.00926   5.43e-05    3.8e-05\n",
            "\n",
            "      Epoch    GPU_mem   box_loss   cls_loss   dfl_loss  Instances       Size\n",
            "       5/60      6.02G      1.981      3.695      1.028         16       1088: 100% 16/16 [00:09<00:00,  1.60it/s]\n",
            "                 Class     Images  Instances      Box(P          R      mAP50  mAP50-95): 100% 2/2 [00:00<00:00,  2.10it/s]\n",
            "                   all         62        216          1     0.0567      0.207     0.0972\n",
            "\n",
            "      Epoch    GPU_mem   box_loss   cls_loss   dfl_loss  Instances       Size\n",
            "       6/60      5.96G      2.091      3.566      1.094         25       1088: 100% 16/16 [00:09<00:00,  1.64it/s]\n",
            "                 Class     Images  Instances      Box(P          R      mAP50  mAP50-95): 100% 2/2 [00:01<00:00,  1.70it/s]\n",
            "                   all         62        216     0.0298      0.144     0.0214    0.00808\n",
            "\n",
            "      Epoch    GPU_mem   box_loss   cls_loss   dfl_loss  Instances       Size\n",
            "       7/60      6.04G      2.092      3.445      1.016         36       1088: 100% 16/16 [00:09<00:00,  1.64it/s]\n",
            "                 Class     Images  Instances      Box(P          R      mAP50  mAP50-95): 100% 2/2 [00:01<00:00,  1.44it/s]\n",
            "                   all         62        216      0.526      0.221      0.229     0.0999\n",
            "\n",
            "      Epoch    GPU_mem   box_loss   cls_loss   dfl_loss  Instances       Size\n",
            "       8/60      6.03G      2.012      3.141      1.051         16       1088: 100% 16/16 [00:11<00:00,  1.45it/s]\n",
            "                 Class     Images  Instances      Box(P          R      mAP50  mAP50-95): 100% 2/2 [00:00<00:00,  2.01it/s]\n",
            "                   all         62        216      0.617      0.264      0.324      0.122\n",
            "\n",
            "      Epoch    GPU_mem   box_loss   cls_loss   dfl_loss  Instances       Size\n",
            "       9/60      5.95G      1.957      2.635      1.032         24       1088: 100% 16/16 [00:10<00:00,  1.49it/s]\n",
            "                 Class     Images  Instances      Box(P          R      mAP50  mAP50-95): 100% 2/2 [00:00<00:00,  2.18it/s]\n",
            "                   all         62        216      0.592      0.309      0.343      0.154\n",
            "\n",
            "      Epoch    GPU_mem   box_loss   cls_loss   dfl_loss  Instances       Size\n",
            "      10/60         6G      1.872      2.426      1.049         27       1088: 100% 16/16 [00:10<00:00,  1.49it/s]\n",
            "                 Class     Images  Instances      Box(P          R      mAP50  mAP50-95): 100% 2/2 [00:00<00:00,  2.27it/s]\n",
            "                   all         62        216      0.465      0.352      0.334      0.135\n",
            "\n",
            "      Epoch    GPU_mem   box_loss   cls_loss   dfl_loss  Instances       Size\n",
            "      11/60      5.95G      2.069      2.474      1.075         32       1088: 100% 16/16 [00:10<00:00,  1.48it/s]\n",
            "                 Class     Images  Instances      Box(P          R      mAP50  mAP50-95): 100% 2/2 [00:00<00:00,  2.04it/s]\n",
            "                   all         62        216      0.566      0.426      0.425      0.181\n",
            "\n",
            "      Epoch    GPU_mem   box_loss   cls_loss   dfl_loss  Instances       Size\n",
            "      12/60      6.03G      1.894      2.205      1.008         20       1088: 100% 16/16 [00:10<00:00,  1.49it/s]\n",
            "                 Class     Images  Instances      Box(P          R      mAP50  mAP50-95): 100% 2/2 [00:00<00:00,  2.16it/s]\n",
            "                   all         62        216      0.431      0.404      0.361      0.147\n",
            "\n",
            "      Epoch    GPU_mem   box_loss   cls_loss   dfl_loss  Instances       Size\n",
            "      13/60      6.01G      1.859      2.046      1.008         22       1088: 100% 16/16 [00:10<00:00,  1.48it/s]\n",
            "                 Class     Images  Instances      Box(P          R      mAP50  mAP50-95): 100% 2/2 [00:01<00:00,  1.94it/s]\n",
            "                   all         62        216      0.568      0.403      0.431      0.195\n",
            "\n",
            "      Epoch    GPU_mem   box_loss   cls_loss   dfl_loss  Instances       Size\n",
            "      14/60      6.03G      1.827      1.962      1.039         18       1088: 100% 16/16 [00:10<00:00,  1.52it/s]\n",
            "                 Class     Images  Instances      Box(P          R      mAP50  mAP50-95): 100% 2/2 [00:00<00:00,  2.10it/s]\n",
            "                   all         62        216      0.616      0.446      0.494      0.222\n",
            "\n",
            "      Epoch    GPU_mem   box_loss   cls_loss   dfl_loss  Instances       Size\n",
            "      15/60      5.99G      1.824      1.791     0.9898         26       1088: 100% 16/16 [00:10<00:00,  1.52it/s]\n",
            "                 Class     Images  Instances      Box(P          R      mAP50  mAP50-95): 100% 2/2 [00:00<00:00,  2.18it/s]\n",
            "                   all         62        216      0.639      0.509      0.515      0.224\n",
            "\n",
            "      Epoch    GPU_mem   box_loss   cls_loss   dfl_loss  Instances       Size\n",
            "      16/60      5.95G      1.752      1.692      1.011         12       1088: 100% 16/16 [00:09<00:00,  1.68it/s]\n",
            "                 Class     Images  Instances      Box(P          R      mAP50  mAP50-95): 100% 2/2 [00:00<00:00,  2.06it/s]\n",
            "                   all         62        216      0.697      0.362      0.444      0.178\n",
            "\n",
            "      Epoch    GPU_mem   box_loss   cls_loss   dfl_loss  Instances       Size\n",
            "      17/60      6.07G      1.829      1.774      1.028         16       1088: 100% 16/16 [00:09<00:00,  1.66it/s]\n",
            "                 Class     Images  Instances      Box(P          R      mAP50  mAP50-95): 100% 2/2 [00:01<00:00,  1.33it/s]\n",
            "                   all         62        216      0.582      0.417      0.454      0.181\n",
            "\n",
            "      Epoch    GPU_mem   box_loss   cls_loss   dfl_loss  Instances       Size\n",
            "      18/60      6.02G      1.854      1.693      1.007         24       1088: 100% 16/16 [00:10<00:00,  1.53it/s]\n",
            "                 Class     Images  Instances      Box(P          R      mAP50  mAP50-95): 100% 2/2 [00:01<00:00,  1.95it/s]\n",
            "                   all         62        216      0.557      0.426      0.432      0.174\n",
            "\n",
            "      Epoch    GPU_mem   box_loss   cls_loss   dfl_loss  Instances       Size\n",
            "      19/60      6.05G      1.796       1.64      0.992         33       1088: 100% 16/16 [00:11<00:00,  1.45it/s]\n",
            "                 Class     Images  Instances      Box(P          R      mAP50  mAP50-95): 100% 2/2 [00:00<00:00,  2.16it/s]\n",
            "                   all         62        216      0.597      0.491      0.522      0.219\n",
            "\n",
            "      Epoch    GPU_mem   box_loss   cls_loss   dfl_loss  Instances       Size\n",
            "      20/60      6.03G      1.681      1.541     0.9829         50       1088: 100% 16/16 [00:10<00:00,  1.54it/s]\n",
            "                 Class     Images  Instances      Box(P          R      mAP50  mAP50-95): 100% 2/2 [00:00<00:00,  2.12it/s]\n",
            "                   all         62        216      0.681      0.468      0.547      0.251\n",
            "\n",
            "      Epoch    GPU_mem   box_loss   cls_loss   dfl_loss  Instances       Size\n",
            "      21/60      6.01G      1.713      1.405          1         32       1088: 100% 16/16 [00:10<00:00,  1.47it/s]\n",
            "                 Class     Images  Instances      Box(P          R      mAP50  mAP50-95): 100% 2/2 [00:01<00:00,  1.94it/s]\n",
            "                   all         62        216      0.552      0.486       0.49      0.215\n",
            "\n",
            "      Epoch    GPU_mem   box_loss   cls_loss   dfl_loss  Instances       Size\n",
            "      22/60      6.04G      1.691      1.404      1.009         35       1088: 100% 16/16 [00:10<00:00,  1.56it/s]\n",
            "                 Class     Images  Instances      Box(P          R      mAP50  mAP50-95): 100% 2/2 [00:00<00:00,  2.12it/s]\n",
            "                   all         62        216      0.498      0.375      0.386      0.161\n",
            "\n",
            "      Epoch    GPU_mem   box_loss   cls_loss   dfl_loss  Instances       Size\n",
            "      23/60         6G      1.681      1.395       0.99          3       1088: 100% 16/16 [00:10<00:00,  1.51it/s]\n",
            "                 Class     Images  Instances      Box(P          R      mAP50  mAP50-95): 100% 2/2 [00:00<00:00,  2.05it/s]\n",
            "                   all         62        216      0.609      0.468      0.498      0.235\n",
            "\n",
            "      Epoch    GPU_mem   box_loss   cls_loss   dfl_loss  Instances       Size\n",
            "      24/60      6.13G      1.665      1.344     0.9726         30       1088: 100% 16/16 [00:09<00:00,  1.72it/s]\n",
            "                 Class     Images  Instances      Box(P          R      mAP50  mAP50-95): 100% 2/2 [00:01<00:00,  1.65it/s]\n",
            "                   all         62        216      0.584      0.377      0.434      0.171\n",
            "\n",
            "      Epoch    GPU_mem   box_loss   cls_loss   dfl_loss  Instances       Size\n",
            "      25/60      5.95G      1.699      1.316     0.9809         10       1088: 100% 16/16 [00:09<00:00,  1.75it/s]\n",
            "                 Class     Images  Instances      Box(P          R      mAP50  mAP50-95): 100% 2/2 [00:01<00:00,  1.47it/s]\n",
            "                   all         62        216      0.595      0.483       0.51      0.237\n",
            "\n",
            "      Epoch    GPU_mem   box_loss   cls_loss   dfl_loss  Instances       Size\n",
            "      26/60      6.03G      1.648      1.374     0.9799         11       1088: 100% 16/16 [00:09<00:00,  1.66it/s]\n",
            "                 Class     Images  Instances      Box(P          R      mAP50  mAP50-95): 100% 2/2 [00:01<00:00,  1.60it/s]\n",
            "                   all         62        216      0.683      0.481      0.529      0.231\n",
            "\n",
            "      Epoch    GPU_mem   box_loss   cls_loss   dfl_loss  Instances       Size\n",
            "      27/60      5.95G      1.599      1.221     0.9689         25       1088: 100% 16/16 [00:09<00:00,  1.72it/s]\n",
            "                 Class     Images  Instances      Box(P          R      mAP50  mAP50-95): 100% 2/2 [00:01<00:00,  1.57it/s]\n",
            "                   all         62        216       0.61      0.455      0.495      0.225\n",
            "\n",
            "      Epoch    GPU_mem   box_loss   cls_loss   dfl_loss  Instances       Size\n",
            "      28/60      5.95G      1.625      1.158     0.9788          7       1088: 100% 16/16 [00:11<00:00,  1.41it/s]\n",
            "                 Class     Images  Instances      Box(P          R      mAP50  mAP50-95): 100% 2/2 [00:01<00:00,  1.73it/s]\n",
            "                   all         62        216        0.6      0.491       0.54      0.252\n",
            "\n",
            "      Epoch    GPU_mem   box_loss   cls_loss   dfl_loss  Instances       Size\n",
            "      29/60      5.95G      1.606      1.144     0.9551         27       1088: 100% 16/16 [00:10<00:00,  1.51it/s]\n",
            "                 Class     Images  Instances      Box(P          R      mAP50  mAP50-95): 100% 2/2 [00:00<00:00,  2.07it/s]\n",
            "                   all         62        216      0.652       0.52      0.543      0.243\n",
            "\n",
            "      Epoch    GPU_mem   box_loss   cls_loss   dfl_loss  Instances       Size\n",
            "      30/60      5.94G      1.594      1.176     0.9203         19       1088: 100% 16/16 [00:10<00:00,  1.55it/s]\n",
            "                 Class     Images  Instances      Box(P          R      mAP50  mAP50-95): 100% 2/2 [00:00<00:00,  2.47it/s]\n",
            "                   all         62        216      0.653      0.558      0.563      0.257\n",
            "\n",
            "      Epoch    GPU_mem   box_loss   cls_loss   dfl_loss  Instances       Size\n",
            "      31/60      6.04G      1.605      1.115     0.9598         32       1088: 100% 16/16 [00:10<00:00,  1.59it/s]\n",
            "                 Class     Images  Instances      Box(P          R      mAP50  mAP50-95): 100% 2/2 [00:00<00:00,  2.29it/s]\n",
            "                   all         62        216      0.629      0.417      0.477      0.205\n",
            "\n",
            "      Epoch    GPU_mem   box_loss   cls_loss   dfl_loss  Instances       Size\n",
            "      32/60      6.13G      1.524       1.08     0.9451         33       1088: 100% 16/16 [00:10<00:00,  1.56it/s]\n",
            "                 Class     Images  Instances      Box(P          R      mAP50  mAP50-95): 100% 2/2 [00:00<00:00,  2.35it/s]\n",
            "                   all         62        216      0.686      0.532       0.58      0.269\n",
            "\n",
            "      Epoch    GPU_mem   box_loss   cls_loss   dfl_loss  Instances       Size\n",
            "      33/60      6.03G      1.529      1.075     0.9329         31       1088: 100% 16/16 [00:09<00:00,  1.60it/s]\n",
            "                 Class     Images  Instances      Box(P          R      mAP50  mAP50-95): 100% 2/2 [00:00<00:00,  2.33it/s]\n",
            "                   all         62        216      0.642      0.505      0.542      0.253\n",
            "\n",
            "      Epoch    GPU_mem   box_loss   cls_loss   dfl_loss  Instances       Size\n",
            "      34/60      6.18G      1.678      1.114     0.9377         27       1088: 100% 16/16 [00:10<00:00,  1.46it/s]\n",
            "                 Class     Images  Instances      Box(P          R      mAP50  mAP50-95): 100% 2/2 [00:00<00:00,  2.50it/s]\n",
            "                   all         62        216      0.648      0.537      0.564      0.261\n",
            "\n",
            "      Epoch    GPU_mem   box_loss   cls_loss   dfl_loss  Instances       Size\n",
            "      35/60      5.99G      1.516      1.028     0.9423         35       1088: 100% 16/16 [00:10<00:00,  1.58it/s]\n",
            "                 Class     Images  Instances      Box(P          R      mAP50  mAP50-95): 100% 2/2 [00:01<00:00,  1.91it/s]\n",
            "                   all         62        216      0.678      0.532       0.57      0.274\n",
            "\n",
            "      Epoch    GPU_mem   box_loss   cls_loss   dfl_loss  Instances       Size\n",
            "      36/60      6.04G      1.557      1.055     0.9358         29       1088: 100% 16/16 [00:09<00:00,  1.61it/s]\n",
            "                 Class     Images  Instances      Box(P          R      mAP50  mAP50-95): 100% 2/2 [00:00<00:00,  2.13it/s]\n",
            "                   all         62        216      0.656      0.493      0.546      0.261\n",
            "\n",
            "      Epoch    GPU_mem   box_loss   cls_loss   dfl_loss  Instances       Size\n",
            "      37/60      6.03G      1.598      1.113      0.936         20       1088: 100% 16/16 [00:09<00:00,  1.74it/s]\n",
            "                 Class     Images  Instances      Box(P          R      mAP50  mAP50-95): 100% 2/2 [00:01<00:00,  1.71it/s]\n",
            "                   all         62        216      0.578      0.495      0.541      0.245\n",
            "\n",
            "      Epoch    GPU_mem   box_loss   cls_loss   dfl_loss  Instances       Size\n",
            "      38/60      6.02G      1.539      1.007      0.929         25       1088: 100% 16/16 [00:09<00:00,  1.75it/s]\n",
            "                 Class     Images  Instances      Box(P          R      mAP50  mAP50-95): 100% 2/2 [00:01<00:00,  1.58it/s]\n",
            "                   all         62        216      0.651      0.475      0.527      0.247\n",
            "\n",
            "      Epoch    GPU_mem   box_loss   cls_loss   dfl_loss  Instances       Size\n",
            "      39/60      6.05G      1.499     0.9907     0.9172         23       1088: 100% 16/16 [00:08<00:00,  1.80it/s]\n",
            "                 Class     Images  Instances      Box(P          R      mAP50  mAP50-95): 100% 2/2 [00:01<00:00,  1.54it/s]\n",
            "                   all         62        216      0.674      0.497      0.556      0.263\n",
            "\n",
            "      Epoch    GPU_mem   box_loss   cls_loss   dfl_loss  Instances       Size\n",
            "      40/60      5.99G      1.528       1.03     0.9455         14       1088: 100% 16/16 [00:09<00:00,  1.62it/s]\n",
            "                 Class     Images  Instances      Box(P          R      mAP50  mAP50-95): 100% 2/2 [00:01<00:00,  1.72it/s]\n",
            "                   all         62        216      0.616      0.519      0.569       0.27\n",
            "\n",
            "      Epoch    GPU_mem   box_loss   cls_loss   dfl_loss  Instances       Size\n",
            "      41/60         6G      1.436     0.9221     0.9198         29       1088: 100% 16/16 [00:10<00:00,  1.50it/s]\n",
            "                 Class     Images  Instances      Box(P          R      mAP50  mAP50-95): 100% 2/2 [00:00<00:00,  2.32it/s]\n",
            "                   all         62        216      0.651      0.514      0.569      0.279\n",
            "\n",
            "      Epoch    GPU_mem   box_loss   cls_loss   dfl_loss  Instances       Size\n",
            "      42/60      5.95G      1.404     0.9151     0.9091         47       1088: 100% 16/16 [00:10<00:00,  1.54it/s]\n",
            "                 Class     Images  Instances      Box(P          R      mAP50  mAP50-95): 100% 2/2 [00:01<00:00,  1.75it/s]\n",
            "                   all         62        216      0.683      0.514      0.595      0.278\n",
            "\n",
            "      Epoch    GPU_mem   box_loss   cls_loss   dfl_loss  Instances       Size\n",
            "      43/60      6.02G      1.528     0.9891      0.935         29       1088: 100% 16/16 [00:10<00:00,  1.51it/s]\n",
            "                 Class     Images  Instances      Box(P          R      mAP50  mAP50-95): 100% 2/2 [00:00<00:00,  2.14it/s]\n",
            "                   all         62        216       0.69      0.495      0.587      0.288\n",
            "\n",
            "      Epoch    GPU_mem   box_loss   cls_loss   dfl_loss  Instances       Size\n",
            "      44/60      5.95G      1.453     0.9184        0.9         26       1088: 100% 16/16 [00:10<00:00,  1.57it/s]\n",
            "                 Class     Images  Instances      Box(P          R      mAP50  mAP50-95): 100% 2/2 [00:00<00:00,  2.28it/s]\n",
            "                   all         62        216      0.714      0.417      0.523      0.234\n",
            "\n",
            "      Epoch    GPU_mem   box_loss   cls_loss   dfl_loss  Instances       Size\n",
            "      45/60      6.04G      1.509     0.9697     0.9407         41       1088: 100% 16/16 [00:10<00:00,  1.57it/s]\n",
            "                 Class     Images  Instances      Box(P          R      mAP50  mAP50-95): 100% 2/2 [00:00<00:00,  2.24it/s]\n",
            "                   all         62        216      0.733      0.505      0.576      0.282\n",
            "\n",
            "      Epoch    GPU_mem   box_loss   cls_loss   dfl_loss  Instances       Size\n",
            "      46/60      5.95G      1.409     0.9205     0.9202         10       1088: 100% 16/16 [00:10<00:00,  1.56it/s]\n",
            "                 Class     Images  Instances      Box(P          R      mAP50  mAP50-95): 100% 2/2 [00:00<00:00,  2.38it/s]\n",
            "                   all         62        216      0.687      0.498      0.567       0.26\n",
            "\n",
            "      Epoch    GPU_mem   box_loss   cls_loss   dfl_loss  Instances       Size\n",
            "      47/60      6.01G      1.424     0.9521     0.9083         13       1088: 100% 16/16 [00:10<00:00,  1.47it/s]\n",
            "                 Class     Images  Instances      Box(P          R      mAP50  mAP50-95): 100% 2/2 [00:00<00:00,  2.20it/s]\n",
            "                   all         62        216      0.675      0.548      0.585       0.28\n",
            "\n",
            "      Epoch    GPU_mem   box_loss   cls_loss   dfl_loss  Instances       Size\n",
            "      48/60      6.03G      1.423     0.9424     0.9118         35       1088: 100% 16/16 [00:10<00:00,  1.50it/s]\n",
            "                 Class     Images  Instances      Box(P          R      mAP50  mAP50-95): 100% 2/2 [00:00<00:00,  2.35it/s]\n",
            "                   all         62        216      0.731        0.5      0.585      0.278\n",
            "\n",
            "      Epoch    GPU_mem   box_loss   cls_loss   dfl_loss  Instances       Size\n",
            "      49/60      6.03G       1.45     0.9463     0.9297         24       1088: 100% 16/16 [00:10<00:00,  1.58it/s]\n",
            "                 Class     Images  Instances      Box(P          R      mAP50  mAP50-95): 100% 2/2 [00:00<00:00,  2.30it/s]\n",
            "                   all         62        216      0.758      0.508       0.59      0.285\n",
            "\n",
            "      Epoch    GPU_mem   box_loss   cls_loss   dfl_loss  Instances       Size\n",
            "      50/60      5.95G      1.349      0.874     0.9173         27       1088: 100% 16/16 [00:10<00:00,  1.52it/s]\n",
            "                 Class     Images  Instances      Box(P          R      mAP50  mAP50-95): 100% 2/2 [00:00<00:00,  2.89it/s]\n",
            "                   all         62        216      0.741      0.523      0.581      0.277\n",
            "Closing dataloader mosaic\n",
            "/usr/local/lib/python3.11/dist-packages/ultralytics/data/augment.py:1837: UserWarning: Argument(s) 'quality_lower' are not valid for transform ImageCompression\n",
            "  A.ImageCompression(quality_lower=75, p=0.0),\n",
            "\u001b[34m\u001b[1malbumentations: \u001b[0mBlur(p=0.01, blur_limit=(3, 7)), MedianBlur(p=0.01, blur_limit=(3, 7)), ToGray(p=0.01, method='weighted_average', num_output_channels=3), CLAHE(p=0.01, clip_limit=(1.0, 4.0), tile_grid_size=(8, 8))\n",
            "\n",
            "      Epoch    GPU_mem   box_loss   cls_loss   dfl_loss  Instances       Size\n",
            "      51/60      5.99G      1.417     0.9591     0.9205          9       1088: 100% 16/16 [00:14<00:00,  1.08it/s]\n",
            "                 Class     Images  Instances      Box(P          R      mAP50  mAP50-95): 100% 2/2 [00:01<00:00,  1.47it/s]\n",
            "                   all         62        216      0.699      0.542      0.589      0.284\n",
            "\n",
            "      Epoch    GPU_mem   box_loss   cls_loss   dfl_loss  Instances       Size\n",
            "      52/60      5.95G      1.394     0.9354     0.9196         18       1088: 100% 16/16 [00:08<00:00,  1.81it/s]\n",
            "                 Class     Images  Instances      Box(P          R      mAP50  mAP50-95): 100% 2/2 [00:01<00:00,  1.58it/s]\n",
            "                   all         62        216       0.74      0.527      0.591      0.276\n",
            "\n",
            "      Epoch    GPU_mem   box_loss   cls_loss   dfl_loss  Instances       Size\n",
            "      53/60      5.95G      1.386     0.9439     0.9564         14       1088: 100% 16/16 [00:09<00:00,  1.73it/s]\n",
            "                 Class     Images  Instances      Box(P          R      mAP50  mAP50-95): 100% 2/2 [00:01<00:00,  1.60it/s]\n",
            "                   all         62        216      0.744      0.509      0.594      0.281\n",
            "\n",
            "      Epoch    GPU_mem   box_loss   cls_loss   dfl_loss  Instances       Size\n",
            "      54/60      5.95G      1.385     0.8993     0.9049         17       1088: 100% 16/16 [00:09<00:00,  1.75it/s]\n",
            "                 Class     Images  Instances      Box(P          R      mAP50  mAP50-95): 100% 2/2 [00:01<00:00,  1.44it/s]\n",
            "                   all         62        216      0.721      0.556      0.604      0.285\n",
            "\n",
            "      Epoch    GPU_mem   box_loss   cls_loss   dfl_loss  Instances       Size\n",
            "      55/60      5.95G      1.328     0.8859       0.93          8       1088: 100% 16/16 [00:09<00:00,  1.74it/s]\n",
            "                 Class     Images  Instances      Box(P          R      mAP50  mAP50-95): 100% 2/2 [00:01<00:00,  1.70it/s]\n",
            "                   all         62        216      0.709      0.537      0.594      0.278\n",
            "\n",
            "      Epoch    GPU_mem   box_loss   cls_loss   dfl_loss  Instances       Size\n",
            "      56/60      6.04G      1.305     0.8775     0.8926          7       1088: 100% 16/16 [00:09<00:00,  1.64it/s]\n",
            "                 Class     Images  Instances      Box(P          R      mAP50  mAP50-95): 100% 2/2 [00:01<00:00,  1.67it/s]\n",
            "                   all         62        216      0.712      0.539      0.597      0.286\n",
            "\n",
            "      Epoch    GPU_mem   box_loss   cls_loss   dfl_loss  Instances       Size\n",
            "      57/60      5.99G      1.351     0.8394      0.941         12       1088: 100% 16/16 [00:09<00:00,  1.70it/s]\n",
            "                 Class     Images  Instances      Box(P          R      mAP50  mAP50-95): 100% 2/2 [00:01<00:00,  1.79it/s]\n",
            "                   all         62        216      0.757      0.579      0.631      0.294\n",
            "\n",
            "      Epoch    GPU_mem   box_loss   cls_loss   dfl_loss  Instances       Size\n",
            "      58/60       5.9G      1.323     0.8663     0.9015         11       1088: 100% 16/16 [00:10<00:00,  1.54it/s]\n",
            "                 Class     Images  Instances      Box(P          R      mAP50  mAP50-95): 100% 2/2 [00:00<00:00,  2.19it/s]\n",
            "                   all         62        216      0.693      0.556      0.597      0.293\n",
            "\n",
            "      Epoch    GPU_mem   box_loss   cls_loss   dfl_loss  Instances       Size\n",
            "      59/60      5.95G      1.298     0.8556     0.9059         17       1088: 100% 16/16 [00:09<00:00,  1.71it/s]\n",
            "                 Class     Images  Instances      Box(P          R      mAP50  mAP50-95): 100% 2/2 [00:00<00:00,  2.12it/s]\n",
            "                   all         62        216      0.731        0.5      0.587      0.287\n",
            "\n",
            "      Epoch    GPU_mem   box_loss   cls_loss   dfl_loss  Instances       Size\n",
            "      60/60       5.9G      1.324       0.84     0.9174          8       1088: 100% 16/16 [00:10<00:00,  1.56it/s]\n",
            "                 Class     Images  Instances      Box(P          R      mAP50  mAP50-95): 100% 2/2 [00:00<00:00,  2.14it/s]\n",
            "                   all         62        216      0.703      0.514      0.591      0.289\n",
            "\n",
            "60 epochs completed in 0.237 hours.\n",
            "Optimizer stripped from runs/detect/train2/weights/last.pt, 6.3MB\n",
            "Optimizer stripped from runs/detect/train2/weights/best.pt, 6.3MB\n",
            "\n",
            "Validating runs/detect/train2/weights/best.pt...\n",
            "Ultralytics YOLOv8.2.103 🚀 Python-3.11.13 torch-2.6.0+cu124 CUDA:0 (Tesla T4, 15095MiB)\n",
            "Model summary (fused): 168 layers, 3,005,843 parameters, 0 gradients, 8.1 GFLOPs\n",
            "                 Class     Images  Instances      Box(P          R      mAP50  mAP50-95): 100% 2/2 [00:01<00:00,  1.17it/s]\n",
            "                   all         62        216      0.679      0.565      0.622      0.298\n",
            "Speed: 0.4ms preprocess, 19.8ms inference, 0.0ms loss, 1.4ms postprocess per image\n",
            "Results saved to \u001b[1mruns/detect/train2\u001b[0m\n",
            "💡 Learn more at https://docs.ultralytics.com/modes/train\n"
          ]
        }
      ],
      "source": [
        "%cd {HOME}/sailboat_CV/\n",
        "\n",
        "!yolo task=detect mode=train model=yolov8n.pt data=/content/sailboat_CV/data/splitted_datasets/pennon-label-yolo-03/data.yaml epochs=60 imgsz=1080 augment=True batch=16"
      ]
    },
    {
      "cell_type": "code",
      "execution_count": null,
      "metadata": {
        "colab": {
          "base_uri": "https://localhost:8080/"
        },
        "id": "1MScstfHhArr",
        "outputId": "0d332b29-3f5c-44fd-f31d-1e1a53ea5264"
      },
      "outputs": [
        {
          "output_type": "stream",
          "name": "stdout",
          "text": [
            "total 4656\n",
            "drwxr-xr-x 3 root root   4096 Jun 10 13:46 .\n",
            "drwxr-xr-x 3 root root   4096 Jun 10 13:44 ..\n",
            "-rw-r--r-- 1 root root   1574 Jun 10 13:44 args.yaml\n",
            "-rw-r--r-- 1 root root  88182 Jun 10 13:46 confusion_matrix_normalized.png\n",
            "-rw-r--r-- 1 root root  85014 Jun 10 13:46 confusion_matrix.png\n",
            "-rw-r--r-- 1 root root 202537 Jun 10 13:46 events.out.tfevents.1749563058.27ec866411b0.6426.0\n",
            "-rw-r--r-- 1 root root 100377 Jun 10 13:46 F1_curve.png\n",
            "-rw-r--r-- 1 root root 189627 Jun 10 13:44 labels_correlogram.jpg\n",
            "-rw-r--r-- 1 root root  97727 Jun 10 13:44 labels.jpg\n",
            "-rw-r--r-- 1 root root 122787 Jun 10 13:46 P_curve.png\n",
            "-rw-r--r-- 1 root root  80099 Jun 10 13:46 PR_curve.png\n",
            "-rw-r--r-- 1 root root  98132 Jun 10 13:46 R_curve.png\n",
            "-rw-r--r-- 1 root root   8736 Jun 10 13:46 results.csv\n",
            "-rw-r--r-- 1 root root 296747 Jun 10 13:46 results.png\n",
            "-rw-r--r-- 1 root root 580967 Jun 10 13:44 train_batch0.jpg\n",
            "-rw-r--r-- 1 root root 553996 Jun 10 13:44 train_batch1.jpg\n",
            "-rw-r--r-- 1 root root 418846 Jun 10 13:44 train_batch2.jpg\n",
            "-rw-r--r-- 1 root root 435298 Jun 10 13:45 train_batch45.jpg\n",
            "-rw-r--r-- 1 root root 483868 Jun 10 13:45 train_batch46.jpg\n",
            "-rw-r--r-- 1 root root 317879 Jun 10 13:45 train_batch47.jpg\n",
            "-rw-r--r-- 1 root root 277460 Jun 10 13:46 val_batch0_labels.jpg\n",
            "-rw-r--r-- 1 root root 276312 Jun 10 13:46 val_batch0_pred.jpg\n",
            "drwxr-xr-x 2 root root   4096 Jun 10 13:44 weights\n"
          ]
        }
      ],
      "source": [
        "!ls -la {HOME}/sailboat_CV/runs/detect/train/"
      ]
    },
    {
      "cell_type": "code",
      "execution_count": 11,
      "metadata": {
        "colab": {
          "base_uri": "https://localhost:8080/"
        },
        "id": "U_ZOpnH9scaU",
        "outputId": "46538f72-7b49-4c3c-d60d-407d1da93cb3"
      },
      "outputs": [
        {
          "output_type": "stream",
          "name": "stdout",
          "text": [
            "cat: /content/sailboat_CV/runs/classify/train/results.csv: No such file or directory\n"
          ]
        }
      ],
      "source": [
        "!cat {HOME}/sailboat_CV/runs/classify/train/results.csv | head -10"
      ]
    },
    {
      "cell_type": "code",
      "source": [
        "!ls"
      ],
      "metadata": {
        "colab": {
          "base_uri": "https://localhost:8080/"
        },
        "id": "Po2LRPLjGOaQ",
        "outputId": "192a7659-1239-4345-b24f-00e41fab020a"
      },
      "execution_count": null,
      "outputs": [
        {
          "output_type": "stream",
          "name": "stdout",
          "text": [
            "cmd\t  docker\tREADME.md\t  runs\t yolov8n.pt\n",
            "datasets  labeled_data\trequirements.txt  utils  yolov8s.pt\n"
          ]
        }
      ]
    },
    {
      "cell_type": "code",
      "source": [
        "!git add -A"
      ],
      "metadata": {
        "id": "x6BkkWoxGSMJ"
      },
      "execution_count": 14,
      "outputs": []
    },
    {
      "cell_type": "code",
      "source": [
        "!git status"
      ],
      "metadata": {
        "colab": {
          "base_uri": "https://localhost:8080/"
        },
        "id": "8q8kez77GWA0",
        "outputId": "111f15fd-3a52-407e-affc-8ae53b058e26"
      },
      "execution_count": 15,
      "outputs": [
        {
          "output_type": "stream",
          "name": "stdout",
          "text": [
            "On branch main\n",
            "Your branch is up to date with 'origin/main'.\n",
            "\n",
            "Changes to be committed:\n",
            "  (use \"git restore --staged <file>...\" to unstage)\n",
            "\t\u001b[32mmodified:   data/splitted_datasets/pennon-label-yolo-03/data.yaml\u001b[m\n",
            "\t\u001b[32mmodified:   data/splitted_datasets/pennon-label-yolo-03/val/labels.cache\u001b[m\n",
            "\t\u001b[32mnew file:   runs/detect/train2/F1_curve.png\u001b[m\n",
            "\t\u001b[32mnew file:   runs/detect/train2/PR_curve.png\u001b[m\n",
            "\t\u001b[32mnew file:   runs/detect/train2/P_curve.png\u001b[m\n",
            "\t\u001b[32mnew file:   runs/detect/train2/R_curve.png\u001b[m\n",
            "\t\u001b[32mnew file:   runs/detect/train2/args.yaml\u001b[m\n",
            "\t\u001b[32mnew file:   runs/detect/train2/confusion_matrix.png\u001b[m\n",
            "\t\u001b[32mnew file:   runs/detect/train2/confusion_matrix_normalized.png\u001b[m\n",
            "\t\u001b[32mnew file:   runs/detect/train2/events.out.tfevents.1751276326.eaf4f00f1ee8.2483.0\u001b[m\n",
            "\t\u001b[32mnew file:   runs/detect/train2/labels.jpg\u001b[m\n",
            "\t\u001b[32mnew file:   runs/detect/train2/labels_correlogram.jpg\u001b[m\n",
            "\t\u001b[32mnew file:   runs/detect/train2/results.csv\u001b[m\n",
            "\t\u001b[32mnew file:   runs/detect/train2/results.png\u001b[m\n",
            "\t\u001b[32mnew file:   runs/detect/train2/train_batch0.jpg\u001b[m\n",
            "\t\u001b[32mnew file:   runs/detect/train2/train_batch1.jpg\u001b[m\n",
            "\t\u001b[32mnew file:   runs/detect/train2/train_batch2.jpg\u001b[m\n",
            "\t\u001b[32mnew file:   runs/detect/train2/train_batch800.jpg\u001b[m\n",
            "\t\u001b[32mnew file:   runs/detect/train2/train_batch801.jpg\u001b[m\n",
            "\t\u001b[32mnew file:   runs/detect/train2/train_batch802.jpg\u001b[m\n",
            "\t\u001b[32mnew file:   runs/detect/train2/val_batch0_labels.jpg\u001b[m\n",
            "\t\u001b[32mnew file:   runs/detect/train2/val_batch0_pred.jpg\u001b[m\n",
            "\t\u001b[32mnew file:   runs/detect/train2/val_batch1_labels.jpg\u001b[m\n",
            "\t\u001b[32mnew file:   runs/detect/train2/val_batch1_pred.jpg\u001b[m\n",
            "\t\u001b[32mnew file:   runs/detect/train2/weights/best.pt\u001b[m\n",
            "\t\u001b[32mnew file:   runs/detect/train2/weights/last.pt\u001b[m\n",
            "\n"
          ]
        }
      ]
    },
    {
      "cell_type": "code",
      "source": [
        "!git config user.name \"estebanfoucher\"\n",
        "!git config user.email \"estefoucher@gmail.com\""
      ],
      "metadata": {
        "id": "22PQimvkGfms"
      },
      "execution_count": 16,
      "outputs": []
    },
    {
      "cell_type": "code",
      "source": [
        "!git commit -m 'feat:first_train'"
      ],
      "metadata": {
        "colab": {
          "base_uri": "https://localhost:8080/"
        },
        "id": "wLI1cDHXGZGp",
        "outputId": "f006d626-a94b-48f0-8670-68fd21a35e42"
      },
      "execution_count": 17,
      "outputs": [
        {
          "output_type": "stream",
          "name": "stdout",
          "text": [
            "[main ccc7b0b] feat:first_train\n",
            " 26 files changed, 169 insertions(+), 2 deletions(-)\n",
            " rewrite data/splitted_datasets/pennon-label-yolo-03/val/labels.cache (89%)\n",
            " create mode 100644 runs/detect/train2/F1_curve.png\n",
            " create mode 100644 runs/detect/train2/PR_curve.png\n",
            " create mode 100644 runs/detect/train2/P_curve.png\n",
            " create mode 100644 runs/detect/train2/R_curve.png\n",
            " create mode 100644 runs/detect/train2/args.yaml\n",
            " create mode 100644 runs/detect/train2/confusion_matrix.png\n",
            " create mode 100644 runs/detect/train2/confusion_matrix_normalized.png\n",
            " create mode 100644 runs/detect/train2/events.out.tfevents.1751276326.eaf4f00f1ee8.2483.0\n",
            " create mode 100644 runs/detect/train2/labels.jpg\n",
            " create mode 100644 runs/detect/train2/labels_correlogram.jpg\n",
            " create mode 100644 runs/detect/train2/results.csv\n",
            " create mode 100644 runs/detect/train2/results.png\n",
            " create mode 100644 runs/detect/train2/train_batch0.jpg\n",
            " create mode 100644 runs/detect/train2/train_batch1.jpg\n",
            " create mode 100644 runs/detect/train2/train_batch2.jpg\n",
            " create mode 100644 runs/detect/train2/train_batch800.jpg\n",
            " create mode 100644 runs/detect/train2/train_batch801.jpg\n",
            " create mode 100644 runs/detect/train2/train_batch802.jpg\n",
            " create mode 100644 runs/detect/train2/val_batch0_labels.jpg\n",
            " create mode 100644 runs/detect/train2/val_batch0_pred.jpg\n",
            " create mode 100644 runs/detect/train2/val_batch1_labels.jpg\n",
            " create mode 100644 runs/detect/train2/val_batch1_pred.jpg\n",
            " create mode 100644 runs/detect/train2/weights/best.pt\n",
            " create mode 100644 runs/detect/train2/weights/last.pt\n"
          ]
        }
      ]
    },
    {
      "cell_type": "code",
      "source": [
        "!git push"
      ],
      "metadata": {
        "colab": {
          "base_uri": "https://localhost:8080/"
        },
        "id": "B0JI0HP0GtxD",
        "outputId": "b882c1c8-ffb1-41af-a80f-9a66a65d447d"
      },
      "execution_count": 18,
      "outputs": [
        {
          "output_type": "stream",
          "name": "stdout",
          "text": [
            "Enumerating objects: 45, done.\n",
            "Counting objects:   2% (1/45)\rCounting objects:   4% (2/45)\rCounting objects:   6% (3/45)\rCounting objects:   8% (4/45)\rCounting objects:  11% (5/45)\rCounting objects:  13% (6/45)\rCounting objects:  15% (7/45)\rCounting objects:  17% (8/45)\rCounting objects:  20% (9/45)\rCounting objects:  22% (10/45)\rCounting objects:  24% (11/45)\rCounting objects:  26% (12/45)\rCounting objects:  28% (13/45)\rCounting objects:  31% (14/45)\rCounting objects:  33% (15/45)\rCounting objects:  35% (16/45)\rCounting objects:  37% (17/45)\rCounting objects:  40% (18/45)\rCounting objects:  42% (19/45)\rCounting objects:  44% (20/45)\rCounting objects:  46% (21/45)\rCounting objects:  48% (22/45)\rCounting objects:  51% (23/45)\rCounting objects:  53% (24/45)\rCounting objects:  55% (25/45)\rCounting objects:  57% (26/45)\rCounting objects:  60% (27/45)\rCounting objects:  62% (28/45)\rCounting objects:  64% (29/45)\rCounting objects:  66% (30/45)\rCounting objects:  68% (31/45)\rCounting objects:  71% (32/45)\rCounting objects:  73% (33/45)\rCounting objects:  75% (34/45)\rCounting objects:  77% (35/45)\rCounting objects:  80% (36/45)\rCounting objects:  82% (37/45)\rCounting objects:  84% (38/45)\rCounting objects:  86% (39/45)\rCounting objects:  88% (40/45)\rCounting objects:  91% (41/45)\rCounting objects:  93% (42/45)\rCounting objects:  95% (43/45)\rCounting objects:  97% (44/45)\rCounting objects: 100% (45/45)\rCounting objects: 100% (45/45), done.\n",
            "Delta compression using up to 2 threads\n",
            "Compressing objects: 100% (35/35), done.\n",
            "Writing objects: 100% (36/36), 16.00 MiB | 9.72 MiB/s, done.\n",
            "Total 36 (delta 6), reused 6 (delta 0), pack-reused 0\n",
            "remote: Resolving deltas: 100% (6/6), completed with 6 local objects.\u001b[K\n",
            "To github.com:estebanfoucher/sailboat_CV.git\n",
            "   a624c1d..ccc7b0b  main -> main\n"
          ]
        }
      ]
    }
  ],
  "metadata": {
    "accelerator": "GPU",
    "colab": {
      "provenance": [],
      "gpuType": "T4"
    },
    "kernelspec": {
      "display_name": "Python 3",
      "name": "python3"
    },
    "language_info": {
      "name": "python"
    }
  },
  "nbformat": 4,
  "nbformat_minor": 0
}